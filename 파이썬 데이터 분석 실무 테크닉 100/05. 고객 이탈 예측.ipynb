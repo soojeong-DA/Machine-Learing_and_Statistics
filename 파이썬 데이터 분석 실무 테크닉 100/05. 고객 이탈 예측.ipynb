{
 "cells": [
  {
   "cell_type": "markdown",
   "metadata": {},
   "source": [
    "**목적**\n",
    "- 어떤 고객이 탈퇴할지 예측하여, 이를 방지하기 위한 캠페인을 실행하자"
   ]
  },
  {
   "cell_type": "markdown",
   "metadata": {},
   "source": [
    "**정보**\n",
    "- 3, 4장에서 가공된 데이터 사용\n",
    "- 데이터 설명\n",
    "    1. use_log_months.csv\n",
    "        - 회원의 스포츠센터 이용 이력을 연월/고객별로 집계한 데이터\n",
    "    2. customer_join.csv\n",
    "        - 이용 이력을 포함한 고객 데이터"
   ]
  },
  {
   "cell_type": "markdown",
   "metadata": {
    "toc": true
   },
   "source": [
    "<h1>Table of Contents<span class=\"tocSkip\"></span></h1>\n",
    "<div class=\"toc\"><ul class=\"toc-item\"><li><span><a href=\"#Data-Load\" data-toc-modified-id=\"Data-Load-1\"><span class=\"toc-item-num\">1&nbsp;&nbsp;</span>Data Load</a></span></li><li><span><a href=\"#데이터-전처리\" data-toc-modified-id=\"데이터-전처리-2\"><span class=\"toc-item-num\">2&nbsp;&nbsp;</span>데이터 전처리</a></span><ul class=\"toc-item\"><li><span><a href=\"#월별-해당월-+-1개월-전-data\" data-toc-modified-id=\"월별-해당월-+-1개월-전-data-2.1\"><span class=\"toc-item-num\">2.1&nbsp;&nbsp;</span>월별 해당월 + 1개월 전 data</a></span></li><li><span><a href=\"#탈퇴-회원---탈퇴-전월의-이용-데이터\" data-toc-modified-id=\"탈퇴-회원---탈퇴-전월의-이용-데이터-2.2\"><span class=\"toc-item-num\">2.2&nbsp;&nbsp;</span>탈퇴 회원 - 탈퇴 전월의 이용 데이터</a></span></li><li><span><a href=\"#지속-회원-데이터\" data-toc-modified-id=\"지속-회원-데이터-2.3\"><span class=\"toc-item-num\">2.3&nbsp;&nbsp;</span>지속 회원 데이터</a></span></li><li><span><a href=\"#탈퇴-회원-+-지속-회원\" data-toc-modified-id=\"탈퇴-회원-+-지속-회원-2.4\"><span class=\"toc-item-num\">2.4&nbsp;&nbsp;</span>탈퇴 회원 + 지속 회원</a></span></li><li><span><a href=\"#변수-추가---회원-기간\" data-toc-modified-id=\"변수-추가---회원-기간-2.5\"><span class=\"toc-item-num\">2.5&nbsp;&nbsp;</span>변수 추가 - 회원 기간</a></span></li><li><span><a href=\"#결측치-제거\" data-toc-modified-id=\"결측치-제거-2.6\"><span class=\"toc-item-num\">2.6&nbsp;&nbsp;</span>결측치 제거</a></span></li><li><span><a href=\"#필요-변수만-선택\" data-toc-modified-id=\"필요-변수만-선택-2.7\"><span class=\"toc-item-num\">2.7&nbsp;&nbsp;</span>필요 변수만 선택</a></span></li><li><span><a href=\"#더미-변수-생성\" data-toc-modified-id=\"더미-변수-생성-2.8\"><span class=\"toc-item-num\">2.8&nbsp;&nbsp;</span>더미 변수 생성</a></span></li></ul></li><li><span><a href=\"#탈퇴-예측\" data-toc-modified-id=\"탈퇴-예측-3\"><span class=\"toc-item-num\">3&nbsp;&nbsp;</span>탈퇴 예측</a></span><ul class=\"toc-item\"><li><span><a href=\"#Decision-Tree-모델링-및-평가\" data-toc-modified-id=\"Decision-Tree-모델링-및-평가-3.1\"><span class=\"toc-item-num\">3.1&nbsp;&nbsp;</span>Decision Tree 모델링 및 평가</a></span></li><li><span><a href=\"#하이퍼파라미터-튜닝\" data-toc-modified-id=\"하이퍼파라미터-튜닝-3.2\"><span class=\"toc-item-num\">3.2&nbsp;&nbsp;</span>하이퍼파라미터 튜닝</a></span></li><li><span><a href=\"#변수-중요도\" data-toc-modified-id=\"변수-중요도-3.3\"><span class=\"toc-item-num\">3.3&nbsp;&nbsp;</span>변수 중요도</a></span></li><li><span><a href=\"#회원-탈퇴-예측\" data-toc-modified-id=\"회원-탈퇴-예측-3.4\"><span class=\"toc-item-num\">3.4&nbsp;&nbsp;</span>회원 탈퇴 예측</a></span></li></ul></li></ul></div>"
   ]
  },
  {
   "cell_type": "code",
   "execution_count": 1,
   "metadata": {
    "ExecuteTime": {
     "end_time": "2021-10-16T15:42:49.038861Z",
     "start_time": "2021-10-16T15:42:46.639039Z"
    }
   },
   "outputs": [],
   "source": [
    "import pandas as pd\n",
    "import numpy as np\n",
    "\n",
    "from dateutil.relativedelta import relativedelta\n",
    "\n",
    "import matplotlib\n",
    "import matplotlib.pyplot as plt\n",
    "import seaborn as sns\n",
    "\n",
    "# 그래프 한글 폰트\n",
    "from matplotlib import font_manager, rc\n",
    "font_name = font_manager.FontProperties(fname=\"c:/Windows/Fonts/malgun.ttf\").get_name()\n",
    "rc('font', family=font_name)\n",
    "\n",
    "# 그래프 마이너스 폰트 깨지는 문제 대처\n",
    "import matplotlib as mpl\n",
    "mpl.rcParams['axes.unicode_minus'] = False\n",
    "\n",
    "import warnings\n",
    "warnings.filterwarnings('ignore')"
   ]
  },
  {
   "cell_type": "markdown",
   "metadata": {},
   "source": [
    "# Data Load"
   ]
  },
  {
   "cell_type": "code",
   "execution_count": 2,
   "metadata": {
    "ExecuteTime": {
     "end_time": "2021-10-16T15:42:49.114700Z",
     "start_time": "2021-10-16T15:42:49.041901Z"
    }
   },
   "outputs": [
    {
     "data": {
      "text/html": [
       "<div>\n",
       "<style scoped>\n",
       "    .dataframe tbody tr th:only-of-type {\n",
       "        vertical-align: middle;\n",
       "    }\n",
       "\n",
       "    .dataframe tbody tr th {\n",
       "        vertical-align: top;\n",
       "    }\n",
       "\n",
       "    .dataframe thead th {\n",
       "        text-align: right;\n",
       "    }\n",
       "</style>\n",
       "<table border=\"1\" class=\"dataframe\">\n",
       "  <thead>\n",
       "    <tr style=\"text-align: right;\">\n",
       "      <th></th>\n",
       "      <th>customer_id</th>\n",
       "      <th>name</th>\n",
       "      <th>class</th>\n",
       "      <th>gender</th>\n",
       "      <th>start_date</th>\n",
       "      <th>end_date</th>\n",
       "      <th>campaign_id</th>\n",
       "      <th>is_deleted</th>\n",
       "      <th>class_name</th>\n",
       "      <th>price</th>\n",
       "      <th>campaign_name</th>\n",
       "      <th>mean</th>\n",
       "      <th>median</th>\n",
       "      <th>max</th>\n",
       "      <th>min</th>\n",
       "      <th>routine_flg</th>\n",
       "      <th>calc_date</th>\n",
       "      <th>membership_period</th>\n",
       "    </tr>\n",
       "  </thead>\n",
       "  <tbody>\n",
       "    <tr>\n",
       "      <th>0</th>\n",
       "      <td>OA832399</td>\n",
       "      <td>XXXX</td>\n",
       "      <td>C01</td>\n",
       "      <td>F</td>\n",
       "      <td>2015-05-01</td>\n",
       "      <td>NaN</td>\n",
       "      <td>CA1</td>\n",
       "      <td>0</td>\n",
       "      <td>종일</td>\n",
       "      <td>10500</td>\n",
       "      <td>일반</td>\n",
       "      <td>4.833333</td>\n",
       "      <td>5.0</td>\n",
       "      <td>8</td>\n",
       "      <td>2</td>\n",
       "      <td>1</td>\n",
       "      <td>2019-04-30</td>\n",
       "      <td>47</td>\n",
       "    </tr>\n",
       "    <tr>\n",
       "      <th>1</th>\n",
       "      <td>PL270116</td>\n",
       "      <td>XXXXX</td>\n",
       "      <td>C01</td>\n",
       "      <td>M</td>\n",
       "      <td>2015-05-01</td>\n",
       "      <td>NaN</td>\n",
       "      <td>CA1</td>\n",
       "      <td>0</td>\n",
       "      <td>종일</td>\n",
       "      <td>10500</td>\n",
       "      <td>일반</td>\n",
       "      <td>5.083333</td>\n",
       "      <td>5.0</td>\n",
       "      <td>7</td>\n",
       "      <td>3</td>\n",
       "      <td>1</td>\n",
       "      <td>2019-04-30</td>\n",
       "      <td>47</td>\n",
       "    </tr>\n",
       "    <tr>\n",
       "      <th>2</th>\n",
       "      <td>OA974876</td>\n",
       "      <td>XXXXX</td>\n",
       "      <td>C01</td>\n",
       "      <td>M</td>\n",
       "      <td>2015-05-01</td>\n",
       "      <td>NaN</td>\n",
       "      <td>CA1</td>\n",
       "      <td>0</td>\n",
       "      <td>종일</td>\n",
       "      <td>10500</td>\n",
       "      <td>일반</td>\n",
       "      <td>4.583333</td>\n",
       "      <td>5.0</td>\n",
       "      <td>6</td>\n",
       "      <td>3</td>\n",
       "      <td>1</td>\n",
       "      <td>2019-04-30</td>\n",
       "      <td>47</td>\n",
       "    </tr>\n",
       "    <tr>\n",
       "      <th>3</th>\n",
       "      <td>HD024127</td>\n",
       "      <td>XXXXX</td>\n",
       "      <td>C01</td>\n",
       "      <td>F</td>\n",
       "      <td>2015-05-01</td>\n",
       "      <td>NaN</td>\n",
       "      <td>CA1</td>\n",
       "      <td>0</td>\n",
       "      <td>종일</td>\n",
       "      <td>10500</td>\n",
       "      <td>일반</td>\n",
       "      <td>4.833333</td>\n",
       "      <td>4.5</td>\n",
       "      <td>7</td>\n",
       "      <td>2</td>\n",
       "      <td>1</td>\n",
       "      <td>2019-04-30</td>\n",
       "      <td>47</td>\n",
       "    </tr>\n",
       "    <tr>\n",
       "      <th>4</th>\n",
       "      <td>HD661448</td>\n",
       "      <td>XXXXX</td>\n",
       "      <td>C03</td>\n",
       "      <td>F</td>\n",
       "      <td>2015-05-01</td>\n",
       "      <td>NaN</td>\n",
       "      <td>CA1</td>\n",
       "      <td>0</td>\n",
       "      <td>야간</td>\n",
       "      <td>6000</td>\n",
       "      <td>일반</td>\n",
       "      <td>3.916667</td>\n",
       "      <td>4.0</td>\n",
       "      <td>6</td>\n",
       "      <td>1</td>\n",
       "      <td>1</td>\n",
       "      <td>2019-04-30</td>\n",
       "      <td>47</td>\n",
       "    </tr>\n",
       "  </tbody>\n",
       "</table>\n",
       "</div>"
      ],
      "text/plain": [
       "  customer_id   name class gender  start_date end_date campaign_id  \\\n",
       "0    OA832399   XXXX   C01      F  2015-05-01      NaN         CA1   \n",
       "1    PL270116  XXXXX   C01      M  2015-05-01      NaN         CA1   \n",
       "2    OA974876  XXXXX   C01      M  2015-05-01      NaN         CA1   \n",
       "3    HD024127  XXXXX   C01      F  2015-05-01      NaN         CA1   \n",
       "4    HD661448  XXXXX   C03      F  2015-05-01      NaN         CA1   \n",
       "\n",
       "   is_deleted class_name  price campaign_name      mean  median  max  min  \\\n",
       "0           0         종일  10500            일반  4.833333     5.0    8    2   \n",
       "1           0         종일  10500            일반  5.083333     5.0    7    3   \n",
       "2           0         종일  10500            일반  4.583333     5.0    6    3   \n",
       "3           0         종일  10500            일반  4.833333     4.5    7    2   \n",
       "4           0         야간   6000            일반  3.916667     4.0    6    1   \n",
       "\n",
       "   routine_flg   calc_date  membership_period  \n",
       "0            1  2019-04-30                 47  \n",
       "1            1  2019-04-30                 47  \n",
       "2            1  2019-04-30                 47  \n",
       "3            1  2019-04-30                 47  \n",
       "4            1  2019-04-30                 47  "
      ]
     },
     "execution_count": 2,
     "metadata": {},
     "output_type": "execute_result"
    }
   ],
   "source": [
    "customer = pd.read_csv('data_code/5장/customer_join.csv')\n",
    "customer.head()"
   ]
  },
  {
   "cell_type": "code",
   "execution_count": 3,
   "metadata": {
    "ExecuteTime": {
     "end_time": "2021-10-16T15:42:49.175503Z",
     "start_time": "2021-10-16T15:42:49.118657Z"
    }
   },
   "outputs": [
    {
     "data": {
      "text/html": [
       "<div>\n",
       "<style scoped>\n",
       "    .dataframe tbody tr th:only-of-type {\n",
       "        vertical-align: middle;\n",
       "    }\n",
       "\n",
       "    .dataframe tbody tr th {\n",
       "        vertical-align: top;\n",
       "    }\n",
       "\n",
       "    .dataframe thead th {\n",
       "        text-align: right;\n",
       "    }\n",
       "</style>\n",
       "<table border=\"1\" class=\"dataframe\">\n",
       "  <thead>\n",
       "    <tr style=\"text-align: right;\">\n",
       "      <th></th>\n",
       "      <th>연월</th>\n",
       "      <th>customer_id</th>\n",
       "      <th>count</th>\n",
       "    </tr>\n",
       "  </thead>\n",
       "  <tbody>\n",
       "    <tr>\n",
       "      <th>0</th>\n",
       "      <td>201804</td>\n",
       "      <td>AS002855</td>\n",
       "      <td>4</td>\n",
       "    </tr>\n",
       "    <tr>\n",
       "      <th>1</th>\n",
       "      <td>201804</td>\n",
       "      <td>AS009013</td>\n",
       "      <td>2</td>\n",
       "    </tr>\n",
       "    <tr>\n",
       "      <th>2</th>\n",
       "      <td>201804</td>\n",
       "      <td>AS009373</td>\n",
       "      <td>3</td>\n",
       "    </tr>\n",
       "    <tr>\n",
       "      <th>3</th>\n",
       "      <td>201804</td>\n",
       "      <td>AS015315</td>\n",
       "      <td>6</td>\n",
       "    </tr>\n",
       "    <tr>\n",
       "      <th>4</th>\n",
       "      <td>201804</td>\n",
       "      <td>AS015739</td>\n",
       "      <td>7</td>\n",
       "    </tr>\n",
       "  </tbody>\n",
       "</table>\n",
       "</div>"
      ],
      "text/plain": [
       "       연월 customer_id  count\n",
       "0  201804    AS002855      4\n",
       "1  201804    AS009013      2\n",
       "2  201804    AS009373      3\n",
       "3  201804    AS015315      6\n",
       "4  201804    AS015739      7"
      ]
     },
     "execution_count": 3,
     "metadata": {},
     "output_type": "execute_result"
    }
   ],
   "source": [
    "uselog_months = pd.read_csv('data_code/5장/use_log_months.csv')\n",
    "uselog_months.head()"
   ]
  },
  {
   "cell_type": "markdown",
   "metadata": {},
   "source": [
    "# 데이터 전처리"
   ]
  },
  {
   "cell_type": "markdown",
   "metadata": {},
   "source": [
    "## 월별 해당월 + 1개월 전 data\n",
    "- 몇 개월 만에 그만둔 회원이 많아, 활용 데이터 기간을 짧게 잡기 "
   ]
  },
  {
   "cell_type": "code",
   "execution_count": 4,
   "metadata": {
    "ExecuteTime": {
     "end_time": "2021-10-16T15:42:49.431819Z",
     "start_time": "2021-10-16T15:42:49.182496Z"
    }
   },
   "outputs": [
    {
     "data": {
      "text/html": [
       "<div>\n",
       "<style scoped>\n",
       "    .dataframe tbody tr th:only-of-type {\n",
       "        vertical-align: middle;\n",
       "    }\n",
       "\n",
       "    .dataframe tbody tr th {\n",
       "        vertical-align: top;\n",
       "    }\n",
       "\n",
       "    .dataframe thead th {\n",
       "        text-align: right;\n",
       "    }\n",
       "</style>\n",
       "<table border=\"1\" class=\"dataframe\">\n",
       "  <thead>\n",
       "    <tr style=\"text-align: right;\">\n",
       "      <th></th>\n",
       "      <th>연월</th>\n",
       "      <th>customer_id</th>\n",
       "      <th>count_0</th>\n",
       "      <th>count_1</th>\n",
       "    </tr>\n",
       "  </thead>\n",
       "  <tbody>\n",
       "    <tr>\n",
       "      <th>0</th>\n",
       "      <td>201805</td>\n",
       "      <td>AS002855</td>\n",
       "      <td>5</td>\n",
       "      <td>4.0</td>\n",
       "    </tr>\n",
       "    <tr>\n",
       "      <th>1</th>\n",
       "      <td>201805</td>\n",
       "      <td>AS009373</td>\n",
       "      <td>4</td>\n",
       "      <td>3.0</td>\n",
       "    </tr>\n",
       "    <tr>\n",
       "      <th>2</th>\n",
       "      <td>201805</td>\n",
       "      <td>AS015233</td>\n",
       "      <td>7</td>\n",
       "      <td>NaN</td>\n",
       "    </tr>\n",
       "    <tr>\n",
       "      <th>3</th>\n",
       "      <td>201805</td>\n",
       "      <td>AS015315</td>\n",
       "      <td>3</td>\n",
       "      <td>6.0</td>\n",
       "    </tr>\n",
       "    <tr>\n",
       "      <th>4</th>\n",
       "      <td>201805</td>\n",
       "      <td>AS015739</td>\n",
       "      <td>5</td>\n",
       "      <td>7.0</td>\n",
       "    </tr>\n",
       "  </tbody>\n",
       "</table>\n",
       "</div>"
      ],
      "text/plain": [
       "       연월 customer_id  count_0  count_1\n",
       "0  201805    AS002855        5      4.0\n",
       "1  201805    AS009373        4      3.0\n",
       "2  201805    AS015233        7      NaN\n",
       "3  201805    AS015315        3      6.0\n",
       "4  201805    AS015739        5      7.0"
      ]
     },
     "execution_count": 4,
     "metadata": {},
     "output_type": "execute_result"
    }
   ],
   "source": [
    "year_months = list(uselog_months['연월'].unique())\n",
    "uselog = pd.DataFrame()\n",
    "\n",
    "for i in range(1, len(year_months)):\n",
    "    tmp = uselog_months[uselog_months['연월'] == year_months[i]].copy()\n",
    "    tmp.rename(columns={'count':'count_0'}, inplace=True)\n",
    "    \n",
    "    tmp_before = uselog_months[uselog_months['연월'] == year_months[i-1]][['customer_id','count']].copy()\n",
    "    tmp_before.rename(columns={'count':'count_1'}, inplace=True)\n",
    "    \n",
    "    tmp = pd.merge(tmp, tmp_before, on='customer_id', how='left')\n",
    "    uselog = pd.concat([uselog, tmp], ignore_index=True)\n",
    "uselog.head()"
   ]
  },
  {
   "cell_type": "markdown",
   "metadata": {},
   "source": [
    "## 탈퇴 회원 - 탈퇴 전월의 이용 데이터\n",
    "- 해당 스포츠 센터는 탈퇴 신청한 달의 다음 달에 탈퇴 처리가 됨 (end_date의 전 달에 탈퇴 신청함)\n",
    "- 따라서, end_date의 1개월 전 월 기준으로 uselog['count_0','count_1'] 결합\n",
    "    - ex. end_date 9월 -> 7월 data로 8월에 탈퇴 신청할 확률 예측"
   ]
  },
  {
   "cell_type": "code",
   "execution_count": 5,
   "metadata": {
    "ExecuteTime": {
     "end_time": "2021-10-16T15:42:50.840106Z",
     "start_time": "2021-10-16T15:42:49.434813Z"
    }
   },
   "outputs": [
    {
     "name": "stdout",
     "output_type": "stream",
     "text": [
      "(33851, 22)\n"
     ]
    },
    {
     "data": {
      "text/html": [
       "<div>\n",
       "<style scoped>\n",
       "    .dataframe tbody tr th:only-of-type {\n",
       "        vertical-align: middle;\n",
       "    }\n",
       "\n",
       "    .dataframe tbody tr th {\n",
       "        vertical-align: top;\n",
       "    }\n",
       "\n",
       "    .dataframe thead th {\n",
       "        text-align: right;\n",
       "    }\n",
       "</style>\n",
       "<table border=\"1\" class=\"dataframe\">\n",
       "  <thead>\n",
       "    <tr style=\"text-align: right;\">\n",
       "      <th></th>\n",
       "      <th>연월</th>\n",
       "      <th>customer_id</th>\n",
       "      <th>count_0</th>\n",
       "      <th>count_1</th>\n",
       "      <th>name</th>\n",
       "      <th>class</th>\n",
       "      <th>gender</th>\n",
       "      <th>start_date</th>\n",
       "      <th>end_date</th>\n",
       "      <th>campaign_id</th>\n",
       "      <th>...</th>\n",
       "      <th>price</th>\n",
       "      <th>campaign_name</th>\n",
       "      <th>mean</th>\n",
       "      <th>median</th>\n",
       "      <th>max</th>\n",
       "      <th>min</th>\n",
       "      <th>routine_flg</th>\n",
       "      <th>calc_date</th>\n",
       "      <th>membership_period</th>\n",
       "      <th>exit_date</th>\n",
       "    </tr>\n",
       "  </thead>\n",
       "  <tbody>\n",
       "    <tr>\n",
       "      <th>0</th>\n",
       "      <td>201805</td>\n",
       "      <td>AS002855</td>\n",
       "      <td>5</td>\n",
       "      <td>4.0</td>\n",
       "      <td>NaN</td>\n",
       "      <td>NaN</td>\n",
       "      <td>NaN</td>\n",
       "      <td>NaN</td>\n",
       "      <td>NaT</td>\n",
       "      <td>NaN</td>\n",
       "      <td>...</td>\n",
       "      <td>NaN</td>\n",
       "      <td>NaN</td>\n",
       "      <td>NaN</td>\n",
       "      <td>NaN</td>\n",
       "      <td>NaN</td>\n",
       "      <td>NaN</td>\n",
       "      <td>NaN</td>\n",
       "      <td>NaN</td>\n",
       "      <td>NaN</td>\n",
       "      <td>NaN</td>\n",
       "    </tr>\n",
       "    <tr>\n",
       "      <th>1</th>\n",
       "      <td>201805</td>\n",
       "      <td>AS009373</td>\n",
       "      <td>4</td>\n",
       "      <td>3.0</td>\n",
       "      <td>NaN</td>\n",
       "      <td>NaN</td>\n",
       "      <td>NaN</td>\n",
       "      <td>NaN</td>\n",
       "      <td>NaT</td>\n",
       "      <td>NaN</td>\n",
       "      <td>...</td>\n",
       "      <td>NaN</td>\n",
       "      <td>NaN</td>\n",
       "      <td>NaN</td>\n",
       "      <td>NaN</td>\n",
       "      <td>NaN</td>\n",
       "      <td>NaN</td>\n",
       "      <td>NaN</td>\n",
       "      <td>NaN</td>\n",
       "      <td>NaN</td>\n",
       "      <td>NaN</td>\n",
       "    </tr>\n",
       "    <tr>\n",
       "      <th>2</th>\n",
       "      <td>201805</td>\n",
       "      <td>AS015233</td>\n",
       "      <td>7</td>\n",
       "      <td>NaN</td>\n",
       "      <td>NaN</td>\n",
       "      <td>NaN</td>\n",
       "      <td>NaN</td>\n",
       "      <td>NaN</td>\n",
       "      <td>NaT</td>\n",
       "      <td>NaN</td>\n",
       "      <td>...</td>\n",
       "      <td>NaN</td>\n",
       "      <td>NaN</td>\n",
       "      <td>NaN</td>\n",
       "      <td>NaN</td>\n",
       "      <td>NaN</td>\n",
       "      <td>NaN</td>\n",
       "      <td>NaN</td>\n",
       "      <td>NaN</td>\n",
       "      <td>NaN</td>\n",
       "      <td>NaN</td>\n",
       "    </tr>\n",
       "    <tr>\n",
       "      <th>3</th>\n",
       "      <td>201805</td>\n",
       "      <td>AS015315</td>\n",
       "      <td>3</td>\n",
       "      <td>6.0</td>\n",
       "      <td>NaN</td>\n",
       "      <td>NaN</td>\n",
       "      <td>NaN</td>\n",
       "      <td>NaN</td>\n",
       "      <td>NaT</td>\n",
       "      <td>NaN</td>\n",
       "      <td>...</td>\n",
       "      <td>NaN</td>\n",
       "      <td>NaN</td>\n",
       "      <td>NaN</td>\n",
       "      <td>NaN</td>\n",
       "      <td>NaN</td>\n",
       "      <td>NaN</td>\n",
       "      <td>NaN</td>\n",
       "      <td>NaN</td>\n",
       "      <td>NaN</td>\n",
       "      <td>NaN</td>\n",
       "    </tr>\n",
       "    <tr>\n",
       "      <th>4</th>\n",
       "      <td>201805</td>\n",
       "      <td>AS015739</td>\n",
       "      <td>5</td>\n",
       "      <td>7.0</td>\n",
       "      <td>NaN</td>\n",
       "      <td>NaN</td>\n",
       "      <td>NaN</td>\n",
       "      <td>NaN</td>\n",
       "      <td>NaT</td>\n",
       "      <td>NaN</td>\n",
       "      <td>...</td>\n",
       "      <td>NaN</td>\n",
       "      <td>NaN</td>\n",
       "      <td>NaN</td>\n",
       "      <td>NaN</td>\n",
       "      <td>NaN</td>\n",
       "      <td>NaN</td>\n",
       "      <td>NaN</td>\n",
       "      <td>NaN</td>\n",
       "      <td>NaN</td>\n",
       "      <td>NaN</td>\n",
       "    </tr>\n",
       "  </tbody>\n",
       "</table>\n",
       "<p>5 rows × 22 columns</p>\n",
       "</div>"
      ],
      "text/plain": [
       "       연월 customer_id  count_0  count_1 name class gender start_date end_date  \\\n",
       "0  201805    AS002855        5      4.0  NaN   NaN    NaN        NaN      NaT   \n",
       "1  201805    AS009373        4      3.0  NaN   NaN    NaN        NaN      NaT   \n",
       "2  201805    AS015233        7      NaN  NaN   NaN    NaN        NaN      NaT   \n",
       "3  201805    AS015315        3      6.0  NaN   NaN    NaN        NaN      NaT   \n",
       "4  201805    AS015739        5      7.0  NaN   NaN    NaN        NaN      NaT   \n",
       "\n",
       "  campaign_id  ...  price campaign_name  mean median  max  min  routine_flg  \\\n",
       "0         NaN  ...    NaN           NaN   NaN    NaN  NaN  NaN          NaN   \n",
       "1         NaN  ...    NaN           NaN   NaN    NaN  NaN  NaN          NaN   \n",
       "2         NaN  ...    NaN           NaN   NaN    NaN  NaN  NaN          NaN   \n",
       "3         NaN  ...    NaN           NaN   NaN    NaN  NaN  NaN          NaN   \n",
       "4         NaN  ...    NaN           NaN   NaN    NaN  NaN  NaN          NaN   \n",
       "\n",
       "   calc_date  membership_period exit_date  \n",
       "0        NaN                NaN       NaN  \n",
       "1        NaN                NaN       NaN  \n",
       "2        NaN                NaN       NaN  \n",
       "3        NaN                NaN       NaN  \n",
       "4        NaN                NaN       NaN  \n",
       "\n",
       "[5 rows x 22 columns]"
      ]
     },
     "execution_count": 5,
     "metadata": {},
     "output_type": "execute_result"
    }
   ],
   "source": [
    "# end_date - 1months\n",
    "exit_customer = customer[customer['is_deleted'] == 1].copy()\n",
    "exit_customer['exit_date'] = None\n",
    "exit_customer['end_date'] = pd.to_datetime(exit_customer['end_date'])\n",
    "\n",
    "for i in range(len(exit_customer)):\n",
    "    exit_customer['exit_date'].iloc[i] = exit_customer['end_date'].iloc[i] - relativedelta(months=1)\n",
    "\n",
    "exit_customer['연월'] = pd.to_datetime(exit_customer['exit_date']).dt.strftime('%Y%m')\n",
    "exit_customer['연월'] = exit_customer['연월'].astype(str)\n",
    "uselog['연월'] = uselog['연월'].astype(str)\n",
    "exit_uselog = pd.merge(uselog, exit_customer, on=['customer_id','연월'], how='left')\n",
    "print(exit_uselog.shape)\n",
    "exit_uselog.head()"
   ]
  },
  {
   "cell_type": "code",
   "execution_count": 6,
   "metadata": {
    "ExecuteTime": {
     "end_time": "2021-10-16T15:42:50.944806Z",
     "start_time": "2021-10-16T15:42:50.845053Z"
    }
   },
   "outputs": [
    {
     "name": "stdout",
     "output_type": "stream",
     "text": [
      "1104\n",
      "1104\n"
     ]
    },
    {
     "data": {
      "text/html": [
       "<div>\n",
       "<style scoped>\n",
       "    .dataframe tbody tr th:only-of-type {\n",
       "        vertical-align: middle;\n",
       "    }\n",
       "\n",
       "    .dataframe tbody tr th {\n",
       "        vertical-align: top;\n",
       "    }\n",
       "\n",
       "    .dataframe thead th {\n",
       "        text-align: right;\n",
       "    }\n",
       "</style>\n",
       "<table border=\"1\" class=\"dataframe\">\n",
       "  <thead>\n",
       "    <tr style=\"text-align: right;\">\n",
       "      <th></th>\n",
       "      <th>연월</th>\n",
       "      <th>customer_id</th>\n",
       "      <th>count_0</th>\n",
       "      <th>count_1</th>\n",
       "      <th>name</th>\n",
       "      <th>class</th>\n",
       "      <th>gender</th>\n",
       "      <th>start_date</th>\n",
       "      <th>end_date</th>\n",
       "      <th>campaign_id</th>\n",
       "      <th>...</th>\n",
       "      <th>price</th>\n",
       "      <th>campaign_name</th>\n",
       "      <th>mean</th>\n",
       "      <th>median</th>\n",
       "      <th>max</th>\n",
       "      <th>min</th>\n",
       "      <th>routine_flg</th>\n",
       "      <th>calc_date</th>\n",
       "      <th>membership_period</th>\n",
       "      <th>exit_date</th>\n",
       "    </tr>\n",
       "  </thead>\n",
       "  <tbody>\n",
       "    <tr>\n",
       "      <th>19</th>\n",
       "      <td>201805</td>\n",
       "      <td>AS055680</td>\n",
       "      <td>3</td>\n",
       "      <td>3.0</td>\n",
       "      <td>XXXXX</td>\n",
       "      <td>C01</td>\n",
       "      <td>M</td>\n",
       "      <td>2018-03-01</td>\n",
       "      <td>2018-06-30</td>\n",
       "      <td>CA1</td>\n",
       "      <td>...</td>\n",
       "      <td>10500.0</td>\n",
       "      <td>일반</td>\n",
       "      <td>3.000000</td>\n",
       "      <td>3.0</td>\n",
       "      <td>3.0</td>\n",
       "      <td>3.0</td>\n",
       "      <td>0.0</td>\n",
       "      <td>2018-06-30</td>\n",
       "      <td>3.0</td>\n",
       "      <td>2018-05-30 00:00:00</td>\n",
       "    </tr>\n",
       "    <tr>\n",
       "      <th>57</th>\n",
       "      <td>201805</td>\n",
       "      <td>AS169823</td>\n",
       "      <td>2</td>\n",
       "      <td>3.0</td>\n",
       "      <td>XX</td>\n",
       "      <td>C01</td>\n",
       "      <td>M</td>\n",
       "      <td>2017-11-01</td>\n",
       "      <td>2018-06-30</td>\n",
       "      <td>CA1</td>\n",
       "      <td>...</td>\n",
       "      <td>10500.0</td>\n",
       "      <td>일반</td>\n",
       "      <td>3.000000</td>\n",
       "      <td>3.0</td>\n",
       "      <td>4.0</td>\n",
       "      <td>2.0</td>\n",
       "      <td>1.0</td>\n",
       "      <td>2018-06-30</td>\n",
       "      <td>7.0</td>\n",
       "      <td>2018-05-30 00:00:00</td>\n",
       "    </tr>\n",
       "    <tr>\n",
       "      <th>110</th>\n",
       "      <td>201805</td>\n",
       "      <td>AS305860</td>\n",
       "      <td>5</td>\n",
       "      <td>3.0</td>\n",
       "      <td>XXXX</td>\n",
       "      <td>C01</td>\n",
       "      <td>M</td>\n",
       "      <td>2017-06-01</td>\n",
       "      <td>2018-06-30</td>\n",
       "      <td>CA1</td>\n",
       "      <td>...</td>\n",
       "      <td>10500.0</td>\n",
       "      <td>일반</td>\n",
       "      <td>3.333333</td>\n",
       "      <td>3.0</td>\n",
       "      <td>5.0</td>\n",
       "      <td>2.0</td>\n",
       "      <td>0.0</td>\n",
       "      <td>2018-06-30</td>\n",
       "      <td>12.0</td>\n",
       "      <td>2018-05-30 00:00:00</td>\n",
       "    </tr>\n",
       "    <tr>\n",
       "      <th>128</th>\n",
       "      <td>201805</td>\n",
       "      <td>AS363699</td>\n",
       "      <td>5</td>\n",
       "      <td>3.0</td>\n",
       "      <td>XXXXX</td>\n",
       "      <td>C01</td>\n",
       "      <td>M</td>\n",
       "      <td>2018-02-01</td>\n",
       "      <td>2018-06-30</td>\n",
       "      <td>CA1</td>\n",
       "      <td>...</td>\n",
       "      <td>10500.0</td>\n",
       "      <td>일반</td>\n",
       "      <td>3.333333</td>\n",
       "      <td>3.0</td>\n",
       "      <td>5.0</td>\n",
       "      <td>2.0</td>\n",
       "      <td>0.0</td>\n",
       "      <td>2018-06-30</td>\n",
       "      <td>4.0</td>\n",
       "      <td>2018-05-30 00:00:00</td>\n",
       "    </tr>\n",
       "    <tr>\n",
       "      <th>147</th>\n",
       "      <td>201805</td>\n",
       "      <td>AS417696</td>\n",
       "      <td>1</td>\n",
       "      <td>4.0</td>\n",
       "      <td>XX</td>\n",
       "      <td>C03</td>\n",
       "      <td>F</td>\n",
       "      <td>2017-09-01</td>\n",
       "      <td>2018-06-30</td>\n",
       "      <td>CA1</td>\n",
       "      <td>...</td>\n",
       "      <td>6000.0</td>\n",
       "      <td>일반</td>\n",
       "      <td>2.000000</td>\n",
       "      <td>1.0</td>\n",
       "      <td>4.0</td>\n",
       "      <td>1.0</td>\n",
       "      <td>0.0</td>\n",
       "      <td>2018-06-30</td>\n",
       "      <td>9.0</td>\n",
       "      <td>2018-05-30 00:00:00</td>\n",
       "    </tr>\n",
       "  </tbody>\n",
       "</table>\n",
       "<p>5 rows × 22 columns</p>\n",
       "</div>"
      ],
      "text/plain": [
       "         연월 customer_id  count_0  count_1   name class gender  start_date  \\\n",
       "19   201805    AS055680        3      3.0  XXXXX   C01      M  2018-03-01   \n",
       "57   201805    AS169823        2      3.0     XX   C01      M  2017-11-01   \n",
       "110  201805    AS305860        5      3.0   XXXX   C01      M  2017-06-01   \n",
       "128  201805    AS363699        5      3.0  XXXXX   C01      M  2018-02-01   \n",
       "147  201805    AS417696        1      4.0     XX   C03      F  2017-09-01   \n",
       "\n",
       "      end_date campaign_id  ...    price campaign_name      mean median  max  \\\n",
       "19  2018-06-30         CA1  ...  10500.0            일반  3.000000    3.0  3.0   \n",
       "57  2018-06-30         CA1  ...  10500.0            일반  3.000000    3.0  4.0   \n",
       "110 2018-06-30         CA1  ...  10500.0            일반  3.333333    3.0  5.0   \n",
       "128 2018-06-30         CA1  ...  10500.0            일반  3.333333    3.0  5.0   \n",
       "147 2018-06-30         CA1  ...   6000.0            일반  2.000000    1.0  4.0   \n",
       "\n",
       "     min  routine_flg   calc_date  membership_period            exit_date  \n",
       "19   3.0          0.0  2018-06-30                3.0  2018-05-30 00:00:00  \n",
       "57   2.0          1.0  2018-06-30                7.0  2018-05-30 00:00:00  \n",
       "110  2.0          0.0  2018-06-30               12.0  2018-05-30 00:00:00  \n",
       "128  2.0          0.0  2018-06-30                4.0  2018-05-30 00:00:00  \n",
       "147  1.0          0.0  2018-06-30                9.0  2018-05-30 00:00:00  \n",
       "\n",
       "[5 rows x 22 columns]"
      ]
     },
     "execution_count": 6,
     "metadata": {},
     "output_type": "execute_result"
    }
   ],
   "source": [
    "# 탈퇴한 회원의 탈퇴 전월 data만 남기기 (결측치 제거)\n",
    "exit_uselog = exit_uselog.dropna(subset=['name'])\n",
    "print(len(exit_uselog))\n",
    "print(len(exit_uselog['customer_id'].unique()))\n",
    "exit_uselog.head()"
   ]
  },
  {
   "cell_type": "markdown",
   "metadata": {},
   "source": [
    "## 지속 회원 데이터\n",
    "- 지속 회원 데이터만!"
   ]
  },
  {
   "cell_type": "code",
   "execution_count": 7,
   "metadata": {
    "ExecuteTime": {
     "end_time": "2021-10-16T15:42:51.066451Z",
     "start_time": "2021-10-16T15:42:50.947768Z"
    }
   },
   "outputs": [
    {
     "name": "stdout",
     "output_type": "stream",
     "text": [
      "33851\n",
      "27422\n"
     ]
    }
   ],
   "source": [
    "conti_customer = customer[customer['is_deleted']==0].copy()\n",
    "conti_uselog = pd.merge(uselog, conti_customer, on='customer_id', how='left')\n",
    "print(len(conti_uselog))\n",
    "conti_uselog.dropna(subset=['name'], inplace=True)\n",
    "print(len(conti_uselog))"
   ]
  },
  {
   "cell_type": "markdown",
   "metadata": {},
   "source": [
    "- 이탈 data 1,104개, 지속 data 27,422개 => 불균형 data\n",
    "- 따라서 지속 회원의 샘플 수 조정 필요"
   ]
  },
  {
   "cell_type": "code",
   "execution_count": 8,
   "metadata": {
    "ExecuteTime": {
     "end_time": "2021-10-16T15:42:51.126669Z",
     "start_time": "2021-10-16T15:42:51.075432Z"
    }
   },
   "outputs": [
    {
     "data": {
      "text/plain": [
       "(2842, 21)"
      ]
     },
     "execution_count": 8,
     "metadata": {},
     "output_type": "execute_result"
    }
   ],
   "source": [
    "# data를 랜덤으로 섞은 후, customer_id 기준으로 중복제거 => 각 id당 1개의 row(data)만 남도록  = 이탈 data와 동일\n",
    "# frac: 전체 row에서 몇%의 데이터를 return할 것인지 -> 1 = 100% = 모든 데이터 반환\n",
    "conti_uselog = conti_uselog.sample(frac=1).reset_index(drop=True)   \n",
    "conti_uselog.drop_duplicates(subset=['customer_id'], inplace=True)\n",
    "conti_uselog.shape"
   ]
  },
  {
   "cell_type": "markdown",
   "metadata": {},
   "source": [
    "- data가 2,842개로 줄어들어, 이탈 데이터와의 차이가 많이 줄어듬"
   ]
  },
  {
   "cell_type": "markdown",
   "metadata": {},
   "source": [
    "## 탈퇴 회원 + 지속 회원 \n",
    "- 세로 결합"
   ]
  },
  {
   "cell_type": "code",
   "execution_count": 9,
   "metadata": {
    "ExecuteTime": {
     "end_time": "2021-10-16T15:42:51.216388Z",
     "start_time": "2021-10-16T15:42:51.131620Z"
    }
   },
   "outputs": [
    {
     "name": "stdout",
     "output_type": "stream",
     "text": [
      "(3946, 22)\n"
     ]
    },
    {
     "data": {
      "text/html": [
       "<div>\n",
       "<style scoped>\n",
       "    .dataframe tbody tr th:only-of-type {\n",
       "        vertical-align: middle;\n",
       "    }\n",
       "\n",
       "    .dataframe tbody tr th {\n",
       "        vertical-align: top;\n",
       "    }\n",
       "\n",
       "    .dataframe thead th {\n",
       "        text-align: right;\n",
       "    }\n",
       "</style>\n",
       "<table border=\"1\" class=\"dataframe\">\n",
       "  <thead>\n",
       "    <tr style=\"text-align: right;\">\n",
       "      <th></th>\n",
       "      <th>연월</th>\n",
       "      <th>customer_id</th>\n",
       "      <th>count_0</th>\n",
       "      <th>count_1</th>\n",
       "      <th>name</th>\n",
       "      <th>class</th>\n",
       "      <th>gender</th>\n",
       "      <th>start_date</th>\n",
       "      <th>end_date</th>\n",
       "      <th>campaign_id</th>\n",
       "      <th>...</th>\n",
       "      <th>price</th>\n",
       "      <th>campaign_name</th>\n",
       "      <th>mean</th>\n",
       "      <th>median</th>\n",
       "      <th>max</th>\n",
       "      <th>min</th>\n",
       "      <th>routine_flg</th>\n",
       "      <th>calc_date</th>\n",
       "      <th>membership_period</th>\n",
       "      <th>exit_date</th>\n",
       "    </tr>\n",
       "  </thead>\n",
       "  <tbody>\n",
       "    <tr>\n",
       "      <th>0</th>\n",
       "      <td>201901</td>\n",
       "      <td>HI305198</td>\n",
       "      <td>8</td>\n",
       "      <td>9.0</td>\n",
       "      <td>XXXXXX</td>\n",
       "      <td>C02</td>\n",
       "      <td>F</td>\n",
       "      <td>2018-10-11</td>\n",
       "      <td>NaN</td>\n",
       "      <td>CA1</td>\n",
       "      <td>...</td>\n",
       "      <td>7500.0</td>\n",
       "      <td>일반</td>\n",
       "      <td>9.000000</td>\n",
       "      <td>9.0</td>\n",
       "      <td>10.0</td>\n",
       "      <td>8.0</td>\n",
       "      <td>1.0</td>\n",
       "      <td>2019-04-30</td>\n",
       "      <td>6.0</td>\n",
       "      <td>NaN</td>\n",
       "    </tr>\n",
       "    <tr>\n",
       "      <th>1</th>\n",
       "      <td>201903</td>\n",
       "      <td>HI693441</td>\n",
       "      <td>7</td>\n",
       "      <td>5.0</td>\n",
       "      <td>XXXX</td>\n",
       "      <td>C03</td>\n",
       "      <td>M</td>\n",
       "      <td>2017-07-01</td>\n",
       "      <td>NaN</td>\n",
       "      <td>CA2</td>\n",
       "      <td>...</td>\n",
       "      <td>6000.0</td>\n",
       "      <td>입회비반액할인</td>\n",
       "      <td>6.333333</td>\n",
       "      <td>6.5</td>\n",
       "      <td>10.0</td>\n",
       "      <td>3.0</td>\n",
       "      <td>1.0</td>\n",
       "      <td>2019-04-30</td>\n",
       "      <td>21.0</td>\n",
       "      <td>NaN</td>\n",
       "    </tr>\n",
       "    <tr>\n",
       "      <th>2</th>\n",
       "      <td>201809</td>\n",
       "      <td>IK844882</td>\n",
       "      <td>10</td>\n",
       "      <td>9.0</td>\n",
       "      <td>XXX</td>\n",
       "      <td>C01</td>\n",
       "      <td>F</td>\n",
       "      <td>2017-09-01</td>\n",
       "      <td>NaN</td>\n",
       "      <td>CA1</td>\n",
       "      <td>...</td>\n",
       "      <td>10500.0</td>\n",
       "      <td>일반</td>\n",
       "      <td>7.583333</td>\n",
       "      <td>7.5</td>\n",
       "      <td>10.0</td>\n",
       "      <td>5.0</td>\n",
       "      <td>1.0</td>\n",
       "      <td>2019-04-30</td>\n",
       "      <td>19.0</td>\n",
       "      <td>NaN</td>\n",
       "    </tr>\n",
       "    <tr>\n",
       "      <th>3</th>\n",
       "      <td>201812</td>\n",
       "      <td>TS150659</td>\n",
       "      <td>5</td>\n",
       "      <td>6.0</td>\n",
       "      <td>XX</td>\n",
       "      <td>C03</td>\n",
       "      <td>F</td>\n",
       "      <td>2017-06-01</td>\n",
       "      <td>NaN</td>\n",
       "      <td>CA1</td>\n",
       "      <td>...</td>\n",
       "      <td>6000.0</td>\n",
       "      <td>일반</td>\n",
       "      <td>4.833333</td>\n",
       "      <td>5.0</td>\n",
       "      <td>9.0</td>\n",
       "      <td>1.0</td>\n",
       "      <td>1.0</td>\n",
       "      <td>2019-04-30</td>\n",
       "      <td>22.0</td>\n",
       "      <td>NaN</td>\n",
       "    </tr>\n",
       "    <tr>\n",
       "      <th>4</th>\n",
       "      <td>201812</td>\n",
       "      <td>HI900494</td>\n",
       "      <td>5</td>\n",
       "      <td>5.0</td>\n",
       "      <td>XX</td>\n",
       "      <td>C03</td>\n",
       "      <td>M</td>\n",
       "      <td>2015-06-01</td>\n",
       "      <td>NaN</td>\n",
       "      <td>CA1</td>\n",
       "      <td>...</td>\n",
       "      <td>6000.0</td>\n",
       "      <td>일반</td>\n",
       "      <td>5.750000</td>\n",
       "      <td>6.0</td>\n",
       "      <td>8.0</td>\n",
       "      <td>3.0</td>\n",
       "      <td>1.0</td>\n",
       "      <td>2019-04-30</td>\n",
       "      <td>46.0</td>\n",
       "      <td>NaN</td>\n",
       "    </tr>\n",
       "  </tbody>\n",
       "</table>\n",
       "<p>5 rows × 22 columns</p>\n",
       "</div>"
      ],
      "text/plain": [
       "       연월 customer_id  count_0  count_1    name class gender  start_date  \\\n",
       "0  201901    HI305198        8      9.0  XXXXXX   C02      F  2018-10-11   \n",
       "1  201903    HI693441        7      5.0    XXXX   C03      M  2017-07-01   \n",
       "2  201809    IK844882       10      9.0     XXX   C01      F  2017-09-01   \n",
       "3  201812    TS150659        5      6.0      XX   C03      F  2017-06-01   \n",
       "4  201812    HI900494        5      5.0      XX   C03      M  2015-06-01   \n",
       "\n",
       "  end_date campaign_id  ...    price campaign_name      mean median   max  \\\n",
       "0      NaN         CA1  ...   7500.0            일반  9.000000    9.0  10.0   \n",
       "1      NaN         CA2  ...   6000.0       입회비반액할인  6.333333    6.5  10.0   \n",
       "2      NaN         CA1  ...  10500.0            일반  7.583333    7.5  10.0   \n",
       "3      NaN         CA1  ...   6000.0            일반  4.833333    5.0   9.0   \n",
       "4      NaN         CA1  ...   6000.0            일반  5.750000    6.0   8.0   \n",
       "\n",
       "   min  routine_flg   calc_date  membership_period exit_date  \n",
       "0  8.0          1.0  2019-04-30                6.0       NaN  \n",
       "1  3.0          1.0  2019-04-30               21.0       NaN  \n",
       "2  5.0          1.0  2019-04-30               19.0       NaN  \n",
       "3  1.0          1.0  2019-04-30               22.0       NaN  \n",
       "4  3.0          1.0  2019-04-30               46.0       NaN  \n",
       "\n",
       "[5 rows x 22 columns]"
      ]
     },
     "execution_count": 9,
     "metadata": {},
     "output_type": "execute_result"
    }
   ],
   "source": [
    "predict_data = pd.concat([conti_uselog, exit_uselog], ignore_index=True)\n",
    "print(predict_data.shape)\n",
    "predict_data.head()"
   ]
  },
  {
   "cell_type": "markdown",
   "metadata": {},
   "source": [
    "## 변수 추가 - 회원 기간\n",
    "- 앞서 3, 4장에서 고객 행동 분석 시 회원 기간이 고객의 특성을 나타내는 변수 중 하나임을 확인했음"
   ]
  },
  {
   "cell_type": "code",
   "execution_count": 10,
   "metadata": {
    "ExecuteTime": {
     "end_time": "2021-10-16T15:42:54.316105Z",
     "start_time": "2021-10-16T15:42:51.219382Z"
    }
   },
   "outputs": [
    {
     "data": {
      "text/html": [
       "<div>\n",
       "<style scoped>\n",
       "    .dataframe tbody tr th:only-of-type {\n",
       "        vertical-align: middle;\n",
       "    }\n",
       "\n",
       "    .dataframe tbody tr th {\n",
       "        vertical-align: top;\n",
       "    }\n",
       "\n",
       "    .dataframe thead th {\n",
       "        text-align: right;\n",
       "    }\n",
       "</style>\n",
       "<table border=\"1\" class=\"dataframe\">\n",
       "  <thead>\n",
       "    <tr style=\"text-align: right;\">\n",
       "      <th></th>\n",
       "      <th>연월</th>\n",
       "      <th>customer_id</th>\n",
       "      <th>count_0</th>\n",
       "      <th>count_1</th>\n",
       "      <th>name</th>\n",
       "      <th>class</th>\n",
       "      <th>gender</th>\n",
       "      <th>start_date</th>\n",
       "      <th>end_date</th>\n",
       "      <th>campaign_id</th>\n",
       "      <th>...</th>\n",
       "      <th>mean</th>\n",
       "      <th>median</th>\n",
       "      <th>max</th>\n",
       "      <th>min</th>\n",
       "      <th>routine_flg</th>\n",
       "      <th>calc_date</th>\n",
       "      <th>membership_period</th>\n",
       "      <th>exit_date</th>\n",
       "      <th>period</th>\n",
       "      <th>now_date</th>\n",
       "    </tr>\n",
       "  </thead>\n",
       "  <tbody>\n",
       "    <tr>\n",
       "      <th>0</th>\n",
       "      <td>201901</td>\n",
       "      <td>HI305198</td>\n",
       "      <td>8</td>\n",
       "      <td>9.0</td>\n",
       "      <td>XXXXXX</td>\n",
       "      <td>C02</td>\n",
       "      <td>F</td>\n",
       "      <td>2018-10-11</td>\n",
       "      <td>NaN</td>\n",
       "      <td>CA1</td>\n",
       "      <td>...</td>\n",
       "      <td>9.000000</td>\n",
       "      <td>9.0</td>\n",
       "      <td>10.0</td>\n",
       "      <td>8.0</td>\n",
       "      <td>1.0</td>\n",
       "      <td>2019-04-30</td>\n",
       "      <td>6.0</td>\n",
       "      <td>NaN</td>\n",
       "      <td>2</td>\n",
       "      <td>2019-01-01</td>\n",
       "    </tr>\n",
       "    <tr>\n",
       "      <th>1</th>\n",
       "      <td>201903</td>\n",
       "      <td>HI693441</td>\n",
       "      <td>7</td>\n",
       "      <td>5.0</td>\n",
       "      <td>XXXX</td>\n",
       "      <td>C03</td>\n",
       "      <td>M</td>\n",
       "      <td>2017-07-01</td>\n",
       "      <td>NaN</td>\n",
       "      <td>CA2</td>\n",
       "      <td>...</td>\n",
       "      <td>6.333333</td>\n",
       "      <td>6.5</td>\n",
       "      <td>10.0</td>\n",
       "      <td>3.0</td>\n",
       "      <td>1.0</td>\n",
       "      <td>2019-04-30</td>\n",
       "      <td>21.0</td>\n",
       "      <td>NaN</td>\n",
       "      <td>20</td>\n",
       "      <td>2019-03-01</td>\n",
       "    </tr>\n",
       "    <tr>\n",
       "      <th>2</th>\n",
       "      <td>201809</td>\n",
       "      <td>IK844882</td>\n",
       "      <td>10</td>\n",
       "      <td>9.0</td>\n",
       "      <td>XXX</td>\n",
       "      <td>C01</td>\n",
       "      <td>F</td>\n",
       "      <td>2017-09-01</td>\n",
       "      <td>NaN</td>\n",
       "      <td>CA1</td>\n",
       "      <td>...</td>\n",
       "      <td>7.583333</td>\n",
       "      <td>7.5</td>\n",
       "      <td>10.0</td>\n",
       "      <td>5.0</td>\n",
       "      <td>1.0</td>\n",
       "      <td>2019-04-30</td>\n",
       "      <td>19.0</td>\n",
       "      <td>NaN</td>\n",
       "      <td>12</td>\n",
       "      <td>2018-09-01</td>\n",
       "    </tr>\n",
       "    <tr>\n",
       "      <th>3</th>\n",
       "      <td>201812</td>\n",
       "      <td>TS150659</td>\n",
       "      <td>5</td>\n",
       "      <td>6.0</td>\n",
       "      <td>XX</td>\n",
       "      <td>C03</td>\n",
       "      <td>F</td>\n",
       "      <td>2017-06-01</td>\n",
       "      <td>NaN</td>\n",
       "      <td>CA1</td>\n",
       "      <td>...</td>\n",
       "      <td>4.833333</td>\n",
       "      <td>5.0</td>\n",
       "      <td>9.0</td>\n",
       "      <td>1.0</td>\n",
       "      <td>1.0</td>\n",
       "      <td>2019-04-30</td>\n",
       "      <td>22.0</td>\n",
       "      <td>NaN</td>\n",
       "      <td>18</td>\n",
       "      <td>2018-12-01</td>\n",
       "    </tr>\n",
       "    <tr>\n",
       "      <th>4</th>\n",
       "      <td>201812</td>\n",
       "      <td>HI900494</td>\n",
       "      <td>5</td>\n",
       "      <td>5.0</td>\n",
       "      <td>XX</td>\n",
       "      <td>C03</td>\n",
       "      <td>M</td>\n",
       "      <td>2015-06-01</td>\n",
       "      <td>NaN</td>\n",
       "      <td>CA1</td>\n",
       "      <td>...</td>\n",
       "      <td>5.750000</td>\n",
       "      <td>6.0</td>\n",
       "      <td>8.0</td>\n",
       "      <td>3.0</td>\n",
       "      <td>1.0</td>\n",
       "      <td>2019-04-30</td>\n",
       "      <td>46.0</td>\n",
       "      <td>NaN</td>\n",
       "      <td>42</td>\n",
       "      <td>2018-12-01</td>\n",
       "    </tr>\n",
       "  </tbody>\n",
       "</table>\n",
       "<p>5 rows × 24 columns</p>\n",
       "</div>"
      ],
      "text/plain": [
       "       연월 customer_id  count_0  count_1    name class gender start_date  \\\n",
       "0  201901    HI305198        8      9.0  XXXXXX   C02      F 2018-10-11   \n",
       "1  201903    HI693441        7      5.0    XXXX   C03      M 2017-07-01   \n",
       "2  201809    IK844882       10      9.0     XXX   C01      F 2017-09-01   \n",
       "3  201812    TS150659        5      6.0      XX   C03      F 2017-06-01   \n",
       "4  201812    HI900494        5      5.0      XX   C03      M 2015-06-01   \n",
       "\n",
       "  end_date campaign_id  ...      mean median   max  min  routine_flg  \\\n",
       "0      NaN         CA1  ...  9.000000    9.0  10.0  8.0          1.0   \n",
       "1      NaN         CA2  ...  6.333333    6.5  10.0  3.0          1.0   \n",
       "2      NaN         CA1  ...  7.583333    7.5  10.0  5.0          1.0   \n",
       "3      NaN         CA1  ...  4.833333    5.0   9.0  1.0          1.0   \n",
       "4      NaN         CA1  ...  5.750000    6.0   8.0  3.0          1.0   \n",
       "\n",
       "    calc_date  membership_period  exit_date  period   now_date  \n",
       "0  2019-04-30                6.0        NaN       2 2019-01-01  \n",
       "1  2019-04-30               21.0        NaN      20 2019-03-01  \n",
       "2  2019-04-30               19.0        NaN      12 2018-09-01  \n",
       "3  2019-04-30               22.0        NaN      18 2018-12-01  \n",
       "4  2019-04-30               46.0        NaN      42 2018-12-01  \n",
       "\n",
       "[5 rows x 24 columns]"
      ]
     },
     "execution_count": 10,
     "metadata": {},
     "output_type": "execute_result"
    }
   ],
   "source": [
    "predict_data['period'] = 0\n",
    "predict_data['now_date'] = pd.to_datetime(predict_data['연월'], format='%Y%m')\n",
    "predict_data['start_date'] = pd.to_datetime(predict_data['start_date'])\n",
    "\n",
    "# diff months\n",
    "for i in range(len(predict_data)):\n",
    "    delta = relativedelta(predict_data['now_date'][i], predict_data['start_date'][i])\n",
    "    predict_data['period'][i] = int(12 * delta.years + delta.months)\n",
    "predict_data.head()"
   ]
  },
  {
   "cell_type": "markdown",
   "metadata": {},
   "source": [
    "## 결측치 제거\n",
    "- 머신러닝 모델링 전, 결측치는 제거하거나 다른 값으로 대체해줘야 함"
   ]
  },
  {
   "cell_type": "code",
   "execution_count": 11,
   "metadata": {
    "ExecuteTime": {
     "end_time": "2021-10-16T15:42:54.346025Z",
     "start_time": "2021-10-16T15:42:54.320094Z"
    }
   },
   "outputs": [
    {
     "data": {
      "text/plain": [
       "연월                      0\n",
       "customer_id             0\n",
       "count_0                 0\n",
       "count_1               257\n",
       "name                    0\n",
       "class                   0\n",
       "gender                  0\n",
       "start_date              0\n",
       "end_date             2842\n",
       "campaign_id             0\n",
       "is_deleted              0\n",
       "class_name              0\n",
       "price                   0\n",
       "campaign_name           0\n",
       "mean                    0\n",
       "median                  0\n",
       "max                     0\n",
       "min                     0\n",
       "routine_flg             0\n",
       "calc_date               0\n",
       "membership_period       0\n",
       "exit_date            2842\n",
       "period                  0\n",
       "now_date                0\n",
       "dtype: int64"
      ]
     },
     "execution_count": 11,
     "metadata": {},
     "output_type": "execute_result"
    }
   ],
   "source": [
    "predict_data.isnull().sum()"
   ]
  },
  {
   "cell_type": "markdown",
   "metadata": {},
   "source": [
    "- end_date, exit_date는 탈퇴 회원만 정보를 가지고 있어, 결측치 = 지속 회원임을 의미\n",
    "- count_1의 결측치가 있으면 의미가 없으므로 해당 컬럼에 결측치가 있으면 row 제거"
   ]
  },
  {
   "cell_type": "code",
   "execution_count": 12,
   "metadata": {
    "ExecuteTime": {
     "end_time": "2021-10-16T15:42:54.391904Z",
     "start_time": "2021-10-16T15:42:54.353010Z"
    }
   },
   "outputs": [
    {
     "data": {
      "text/plain": [
       "연월                      0\n",
       "customer_id             0\n",
       "count_0                 0\n",
       "count_1                 0\n",
       "name                    0\n",
       "class                   0\n",
       "gender                  0\n",
       "start_date              0\n",
       "end_date             2637\n",
       "campaign_id             0\n",
       "is_deleted              0\n",
       "class_name              0\n",
       "price                   0\n",
       "campaign_name           0\n",
       "mean                    0\n",
       "median                  0\n",
       "max                     0\n",
       "min                     0\n",
       "routine_flg             0\n",
       "calc_date               0\n",
       "membership_period       0\n",
       "exit_date            2637\n",
       "period                  0\n",
       "now_date                0\n",
       "dtype: int64"
      ]
     },
     "execution_count": 12,
     "metadata": {},
     "output_type": "execute_result"
    }
   ],
   "source": [
    "# count_1 기준 data 제거\n",
    "predict_data.dropna(subset=['count_1'], inplace=True)\n",
    "predict_data.isnull().sum()"
   ]
  },
  {
   "cell_type": "markdown",
   "metadata": {},
   "source": [
    "## 필요 변수만 선택"
   ]
  },
  {
   "cell_type": "code",
   "execution_count": 13,
   "metadata": {
    "ExecuteTime": {
     "end_time": "2021-10-16T15:42:54.437794Z",
     "start_time": "2021-10-16T15:42:54.398885Z"
    }
   },
   "outputs": [
    {
     "data": {
      "text/html": [
       "<div>\n",
       "<style scoped>\n",
       "    .dataframe tbody tr th:only-of-type {\n",
       "        vertical-align: middle;\n",
       "    }\n",
       "\n",
       "    .dataframe tbody tr th {\n",
       "        vertical-align: top;\n",
       "    }\n",
       "\n",
       "    .dataframe thead th {\n",
       "        text-align: right;\n",
       "    }\n",
       "</style>\n",
       "<table border=\"1\" class=\"dataframe\">\n",
       "  <thead>\n",
       "    <tr style=\"text-align: right;\">\n",
       "      <th></th>\n",
       "      <th>count_1</th>\n",
       "      <th>period</th>\n",
       "      <th>campaign_name</th>\n",
       "      <th>class_name</th>\n",
       "      <th>gender</th>\n",
       "      <th>routine_flg</th>\n",
       "      <th>is_deleted</th>\n",
       "    </tr>\n",
       "  </thead>\n",
       "  <tbody>\n",
       "    <tr>\n",
       "      <th>0</th>\n",
       "      <td>9.0</td>\n",
       "      <td>2</td>\n",
       "      <td>일반</td>\n",
       "      <td>주간</td>\n",
       "      <td>F</td>\n",
       "      <td>1.0</td>\n",
       "      <td>0.0</td>\n",
       "    </tr>\n",
       "    <tr>\n",
       "      <th>1</th>\n",
       "      <td>5.0</td>\n",
       "      <td>20</td>\n",
       "      <td>입회비반액할인</td>\n",
       "      <td>야간</td>\n",
       "      <td>M</td>\n",
       "      <td>1.0</td>\n",
       "      <td>0.0</td>\n",
       "    </tr>\n",
       "    <tr>\n",
       "      <th>2</th>\n",
       "      <td>9.0</td>\n",
       "      <td>12</td>\n",
       "      <td>일반</td>\n",
       "      <td>종일</td>\n",
       "      <td>F</td>\n",
       "      <td>1.0</td>\n",
       "      <td>0.0</td>\n",
       "    </tr>\n",
       "    <tr>\n",
       "      <th>3</th>\n",
       "      <td>6.0</td>\n",
       "      <td>18</td>\n",
       "      <td>일반</td>\n",
       "      <td>야간</td>\n",
       "      <td>F</td>\n",
       "      <td>1.0</td>\n",
       "      <td>0.0</td>\n",
       "    </tr>\n",
       "    <tr>\n",
       "      <th>4</th>\n",
       "      <td>5.0</td>\n",
       "      <td>42</td>\n",
       "      <td>일반</td>\n",
       "      <td>야간</td>\n",
       "      <td>M</td>\n",
       "      <td>1.0</td>\n",
       "      <td>0.0</td>\n",
       "    </tr>\n",
       "  </tbody>\n",
       "</table>\n",
       "</div>"
      ],
      "text/plain": [
       "   count_1  period campaign_name class_name gender  routine_flg  is_deleted\n",
       "0      9.0       2            일반         주간      F          1.0         0.0\n",
       "1      5.0      20       입회비반액할인         야간      M          1.0         0.0\n",
       "2      9.0      12            일반         종일      F          1.0         0.0\n",
       "3      6.0      18            일반         야간      F          1.0         0.0\n",
       "4      5.0      42            일반         야간      M          1.0         0.0"
      ]
     },
     "execution_count": 13,
     "metadata": {},
     "output_type": "execute_result"
    }
   ],
   "source": [
    "# 분류 예측에 사용할 변수 선택, 목적 변수\n",
    "target_col = ['count_1','period','campaign_name','class_name','gender','routine_flg','is_deleted']\n",
    "predict_data = predict_data[target_col]\n",
    "predict_data.head()"
   ]
  },
  {
   "cell_type": "markdown",
   "metadata": {},
   "source": [
    "## 더미 변수 생성\n",
    "- 카테고리 변수를 더미화 시키기\n",
    "- 변수 속성 개수 n개 -> n-1개 더미 변수 생성"
   ]
  },
  {
   "cell_type": "code",
   "execution_count": 14,
   "metadata": {
    "ExecuteTime": {
     "end_time": "2021-10-16T15:42:54.498616Z",
     "start_time": "2021-10-16T15:42:54.442766Z"
    }
   },
   "outputs": [
    {
     "data": {
      "text/html": [
       "<div>\n",
       "<style scoped>\n",
       "    .dataframe tbody tr th:only-of-type {\n",
       "        vertical-align: middle;\n",
       "    }\n",
       "\n",
       "    .dataframe tbody tr th {\n",
       "        vertical-align: top;\n",
       "    }\n",
       "\n",
       "    .dataframe thead th {\n",
       "        text-align: right;\n",
       "    }\n",
       "</style>\n",
       "<table border=\"1\" class=\"dataframe\">\n",
       "  <thead>\n",
       "    <tr style=\"text-align: right;\">\n",
       "      <th></th>\n",
       "      <th>count_1</th>\n",
       "      <th>period</th>\n",
       "      <th>routine_flg</th>\n",
       "      <th>is_deleted</th>\n",
       "      <th>campaign_name_입회비무료</th>\n",
       "      <th>campaign_name_입회비반액할인</th>\n",
       "      <th>class_name_종일</th>\n",
       "      <th>class_name_주간</th>\n",
       "      <th>gender_M</th>\n",
       "    </tr>\n",
       "  </thead>\n",
       "  <tbody>\n",
       "    <tr>\n",
       "      <th>0</th>\n",
       "      <td>9.0</td>\n",
       "      <td>2</td>\n",
       "      <td>1.0</td>\n",
       "      <td>0.0</td>\n",
       "      <td>0</td>\n",
       "      <td>0</td>\n",
       "      <td>0</td>\n",
       "      <td>1</td>\n",
       "      <td>0</td>\n",
       "    </tr>\n",
       "    <tr>\n",
       "      <th>1</th>\n",
       "      <td>5.0</td>\n",
       "      <td>20</td>\n",
       "      <td>1.0</td>\n",
       "      <td>0.0</td>\n",
       "      <td>0</td>\n",
       "      <td>1</td>\n",
       "      <td>0</td>\n",
       "      <td>0</td>\n",
       "      <td>1</td>\n",
       "    </tr>\n",
       "    <tr>\n",
       "      <th>2</th>\n",
       "      <td>9.0</td>\n",
       "      <td>12</td>\n",
       "      <td>1.0</td>\n",
       "      <td>0.0</td>\n",
       "      <td>0</td>\n",
       "      <td>0</td>\n",
       "      <td>1</td>\n",
       "      <td>0</td>\n",
       "      <td>0</td>\n",
       "    </tr>\n",
       "    <tr>\n",
       "      <th>3</th>\n",
       "      <td>6.0</td>\n",
       "      <td>18</td>\n",
       "      <td>1.0</td>\n",
       "      <td>0.0</td>\n",
       "      <td>0</td>\n",
       "      <td>0</td>\n",
       "      <td>0</td>\n",
       "      <td>0</td>\n",
       "      <td>0</td>\n",
       "    </tr>\n",
       "    <tr>\n",
       "      <th>4</th>\n",
       "      <td>5.0</td>\n",
       "      <td>42</td>\n",
       "      <td>1.0</td>\n",
       "      <td>0.0</td>\n",
       "      <td>0</td>\n",
       "      <td>0</td>\n",
       "      <td>0</td>\n",
       "      <td>0</td>\n",
       "      <td>1</td>\n",
       "    </tr>\n",
       "  </tbody>\n",
       "</table>\n",
       "</div>"
      ],
      "text/plain": [
       "   count_1  period  routine_flg  is_deleted  campaign_name_입회비무료  \\\n",
       "0      9.0       2          1.0         0.0                    0   \n",
       "1      5.0      20          1.0         0.0                    0   \n",
       "2      9.0      12          1.0         0.0                    0   \n",
       "3      6.0      18          1.0         0.0                    0   \n",
       "4      5.0      42          1.0         0.0                    0   \n",
       "\n",
       "   campaign_name_입회비반액할인  class_name_종일  class_name_주간  gender_M  \n",
       "0                      0              0              1         0  \n",
       "1                      1              0              0         1  \n",
       "2                      0              1              0         0  \n",
       "3                      0              0              0         0  \n",
       "4                      0              0              0         1  "
      ]
     },
     "execution_count": 14,
     "metadata": {},
     "output_type": "execute_result"
    }
   ],
   "source": [
    "predict_data = pd.get_dummies(predict_data, drop_first=True)  # drop_first=True : n-1\n",
    "predict_data.head()"
   ]
  },
  {
   "cell_type": "markdown",
   "metadata": {},
   "source": [
    "# 탈퇴 예측"
   ]
  },
  {
   "cell_type": "markdown",
   "metadata": {},
   "source": [
    "## Decision Tree 모델링 및 평가\n",
    "- 직관적이며 이해하기 쉬움 -> 모델 설명 가능, 처음에 test용으로 자주 사용됨 "
   ]
  },
  {
   "cell_type": "code",
   "execution_count": 15,
   "metadata": {
    "ExecuteTime": {
     "end_time": "2021-10-16T15:42:54.844656Z",
     "start_time": "2021-10-16T15:42:54.501612Z"
    }
   },
   "outputs": [
    {
     "data": {
      "text/plain": [
       "array([1., 1., 1., 1., 1., 0., 1., 1., 0., 0., 0., 0., 1., 1., 1., 1., 1.,\n",
       "       0., 0., 0., 1., 0., 1., 0., 0., 0., 1., 1., 1., 0., 1., 1., 1., 0.,\n",
       "       0., 1., 0., 0., 0., 0., 0., 1., 0., 0., 0., 0., 1., 0., 1., 1., 1.,\n",
       "       0., 1., 1., 0., 1., 1., 0., 0., 1., 1., 1., 0., 0., 0., 0., 1., 0.,\n",
       "       0., 1., 0., 0., 0., 1., 1., 0., 1., 0., 1., 0., 1., 0., 1., 0., 1.,\n",
       "       0., 0., 0., 1., 1., 0., 1., 1., 1., 0., 0., 1., 1., 1., 0., 1., 0.,\n",
       "       0., 0., 1., 1., 0., 0., 1., 0., 0., 1., 0., 1., 0., 1., 1., 1., 1.,\n",
       "       1., 0., 1., 1., 1., 0., 1., 0., 0., 0., 0., 1., 0., 1., 1., 0., 0.,\n",
       "       0., 0., 0., 0., 0., 0., 1., 0., 0., 0., 0., 0., 1., 1., 1., 0., 1.,\n",
       "       1., 1., 0., 0., 0., 0., 0., 0., 1., 1., 1., 0., 0., 0., 0., 1., 0.,\n",
       "       1., 1., 0., 1., 1., 0., 0., 1., 0., 0., 1., 0., 0., 1., 0., 0., 0.,\n",
       "       1., 0., 1., 1., 0., 1., 1., 0., 1., 1., 0., 0., 1., 0., 1., 1., 1.,\n",
       "       1., 0., 1., 1., 1., 1., 0., 0., 1., 1., 1., 0., 0., 1., 1., 1., 1.,\n",
       "       1., 0., 1., 0., 0., 0., 0., 1., 1., 1., 0., 0., 1., 0., 1., 1., 1.,\n",
       "       1., 1., 0., 1., 0., 1., 0., 1., 1., 0., 0., 0., 1., 1., 1., 1., 1.,\n",
       "       0., 0., 0., 0., 1., 1., 0., 0., 1., 0., 1., 0., 0., 0., 0., 0., 1.,\n",
       "       0., 0., 1., 1., 0., 0., 1., 1., 0., 1., 0., 1., 0., 1., 1., 1., 0.,\n",
       "       1., 1., 1., 1., 1., 1., 0., 0., 0., 1., 1., 1., 0., 1., 0., 0., 0.,\n",
       "       1., 0., 1., 0., 1., 0., 1., 0., 1., 1., 0., 1., 1., 1., 1., 1., 1.,\n",
       "       1., 0., 0., 1., 0., 0., 0., 1., 1., 0., 1., 0., 0., 0., 1., 0., 0.,\n",
       "       0., 1., 0., 1., 0., 1., 1., 0., 1., 0., 0., 0., 0., 0., 1., 0., 1.,\n",
       "       0., 0., 1., 0., 0., 1., 0., 1., 1., 0., 1., 1., 0., 0., 0., 0., 1.,\n",
       "       1., 0., 1., 1., 1., 0., 1., 1., 1., 1., 1., 1., 1., 1., 0., 1., 1.,\n",
       "       0., 0., 0., 1., 0., 0., 1., 1., 0., 1., 1., 0., 1., 1., 1., 1., 0.,\n",
       "       0., 0., 1., 1., 0., 0., 1., 1., 1., 0., 0., 0., 0., 1., 0., 1., 0.,\n",
       "       0., 0., 0., 1., 1., 1., 1., 0., 0., 0., 0., 1., 1., 0., 0., 0., 1.,\n",
       "       0., 0., 1., 0., 0., 0., 1., 0., 1., 0., 1., 0., 1., 0., 1., 0., 0.,\n",
       "       1., 0., 0., 0., 0., 0., 1., 1., 0., 1., 1., 0., 1., 0., 0., 0., 0.,\n",
       "       0., 1., 0., 1., 1., 1., 1., 0., 1., 1., 0., 1., 0., 0., 1., 0., 1.,\n",
       "       0., 0., 1., 0., 0., 1., 1., 1., 0., 0., 1., 1., 0., 0., 0., 0., 0.,\n",
       "       1., 0., 0., 1., 0., 1., 1., 0., 1., 0., 1., 1., 1., 0., 0., 1.])"
      ]
     },
     "execution_count": 15,
     "metadata": {},
     "output_type": "execute_result"
    }
   ],
   "source": [
    "from sklearn.tree import DecisionTreeClassifier\n",
    "from sklearn.model_selection import train_test_split\n",
    "\n",
    "exit = predict_data[predict_data['is_deleted']==1]\n",
    "conti = predict_data[predict_data['is_deleted']==0].sample(len(exit))    # 탈퇴 회원 샘플수(1104)에 맞추기\n",
    "\n",
    "X = pd.concat([exit, conti], ignore_index=True)  # 다시 결함\n",
    "y = X['is_deleted']\n",
    "del X['is_deleted']\n",
    "\n",
    "X_train, X_test, y_train, y_test = train_test_split(X,y)\n",
    "\n",
    "model = DecisionTreeClassifier(random_state=0)\n",
    "model.fit(X_train, y_train)\n",
    "y_test_pred = model.predict(X_test)\n",
    "y_test_pred"
   ]
  },
  {
   "cell_type": "code",
   "execution_count": 16,
   "metadata": {
    "ExecuteTime": {
     "end_time": "2021-10-16T15:42:54.875538Z",
     "start_time": "2021-10-16T15:42:54.847612Z"
    }
   },
   "outputs": [
    {
     "name": "stdout",
     "output_type": "stream",
     "text": [
      "0.9740177439797212\n",
      "0.876425855513308\n"
     ]
    }
   ],
   "source": [
    "print(model.score(X_train, y_train))\n",
    "print(model.score(X_test, y_test))"
   ]
  },
  {
   "cell_type": "markdown",
   "metadata": {},
   "source": [
    "- 학습용 데이터를 이용한 예측 정확도는 97%, 평가용 데이터를 이용한 예측 정확도 88%\n",
    "- 학습용 데이터에 너무 오퍼피팅됨(과적합)\n",
    "    - 데이터 늘리기, 변수 재검토, 모델 파라미터 변경 등 방법 적용하며 좀 더 이상적인(두 점수간 차이가 적은) 모델 만들어 나가기!!"
   ]
  },
  {
   "cell_type": "markdown",
   "metadata": {},
   "source": [
    "## 하이퍼파라미터 튜닝"
   ]
  },
  {
   "cell_type": "code",
   "execution_count": 17,
   "metadata": {
    "ExecuteTime": {
     "end_time": "2021-10-16T15:42:54.921474Z",
     "start_time": "2021-10-16T15:42:54.880522Z"
    }
   },
   "outputs": [
    {
     "name": "stdout",
     "output_type": "stream",
     "text": [
      "0.9296577946768061\n",
      "0.908745247148289\n"
     ]
    }
   ],
   "source": [
    "# 트리 깊이 얕게 해서 모델 단순화\n",
    "model = DecisionTreeClassifier(random_state=0, max_depth=5)\n",
    "model.fit(X_train, y_train)\n",
    "\n",
    "print(model.score(X_train, y_train))\n",
    "print(model.score(X_test, y_test))"
   ]
  },
  {
   "cell_type": "markdown",
   "metadata": {},
   "source": [
    "- 학습 데이터 성능 낮아지고(오버피팅 완화), 평가 데이터 성능 높아지며 둘 점수 간의 차이가 작아짐! -> 일반화 성능 up"
   ]
  },
  {
   "cell_type": "markdown",
   "metadata": {},
   "source": [
    "## 변수 중요도\n",
    "- 모델에 기여하는 정도 (중요도)"
   ]
  },
  {
   "cell_type": "code",
   "execution_count": 18,
   "metadata": {
    "ExecuteTime": {
     "end_time": "2021-10-16T15:42:56.108454Z",
     "start_time": "2021-10-16T15:42:54.923406Z"
    }
   },
   "outputs": [
    {
     "data": {
      "text/html": [
       "<style  type=\"text/css\" >\n",
       "#T_42a61_row0_col1{\n",
       "            background-color:  #023858;\n",
       "            color:  #f1f1f1;\n",
       "        }#T_42a61_row1_col1{\n",
       "            background-color:  #1b7eb7;\n",
       "            color:  #000000;\n",
       "        }#T_42a61_row2_col1{\n",
       "            background-color:  #d0d1e6;\n",
       "            color:  #000000;\n",
       "        }#T_42a61_row3_col1{\n",
       "            background-color:  #fef6fb;\n",
       "            color:  #000000;\n",
       "        }#T_42a61_row4_col1,#T_42a61_row5_col1,#T_42a61_row6_col1,#T_42a61_row7_col1{\n",
       "            background-color:  #fff7fb;\n",
       "            color:  #000000;\n",
       "        }</style><table id=\"T_42a61_\" ><thead>    <tr>        <th class=\"blank level0\" ></th>        <th class=\"col_heading level0 col0\" >feature_names</th>        <th class=\"col_heading level0 col1\" >coefficient</th>    </tr></thead><tbody>\n",
       "                <tr>\n",
       "                        <th id=\"T_42a61_level0_row0\" class=\"row_heading level0 row0\" >1</th>\n",
       "                        <td id=\"T_42a61_row0_col0\" class=\"data row0 col0\" >period</td>\n",
       "                        <td id=\"T_42a61_row0_col1\" class=\"data row0 col1\" >0.512107</td>\n",
       "            </tr>\n",
       "            <tr>\n",
       "                        <th id=\"T_42a61_level0_row1\" class=\"row_heading level0 row1\" >0</th>\n",
       "                        <td id=\"T_42a61_row1_col0\" class=\"data row1 col0\" >count_1</td>\n",
       "                        <td id=\"T_42a61_row1_col1\" class=\"data row1 col1\" >0.354954</td>\n",
       "            </tr>\n",
       "            <tr>\n",
       "                        <th id=\"T_42a61_level0_row2\" class=\"row_heading level0 row2\" >2</th>\n",
       "                        <td id=\"T_42a61_row2_col0\" class=\"data row2 col0\" >routine_flg</td>\n",
       "                        <td id=\"T_42a61_row2_col1\" class=\"data row2 col1\" >0.129324</td>\n",
       "            </tr>\n",
       "            <tr>\n",
       "                        <th id=\"T_42a61_level0_row3\" class=\"row_heading level0 row3\" >4</th>\n",
       "                        <td id=\"T_42a61_row3_col0\" class=\"data row3 col0\" >campaign_name_입회비반액할인</td>\n",
       "                        <td id=\"T_42a61_row3_col1\" class=\"data row3 col1\" >0.003615</td>\n",
       "            </tr>\n",
       "            <tr>\n",
       "                        <th id=\"T_42a61_level0_row4\" class=\"row_heading level0 row4\" >3</th>\n",
       "                        <td id=\"T_42a61_row4_col0\" class=\"data row4 col0\" >campaign_name_입회비무료</td>\n",
       "                        <td id=\"T_42a61_row4_col1\" class=\"data row4 col1\" >0.000000</td>\n",
       "            </tr>\n",
       "            <tr>\n",
       "                        <th id=\"T_42a61_level0_row5\" class=\"row_heading level0 row5\" >5</th>\n",
       "                        <td id=\"T_42a61_row5_col0\" class=\"data row5 col0\" >class_name_종일</td>\n",
       "                        <td id=\"T_42a61_row5_col1\" class=\"data row5 col1\" >0.000000</td>\n",
       "            </tr>\n",
       "            <tr>\n",
       "                        <th id=\"T_42a61_level0_row6\" class=\"row_heading level0 row6\" >6</th>\n",
       "                        <td id=\"T_42a61_row6_col0\" class=\"data row6 col0\" >class_name_주간</td>\n",
       "                        <td id=\"T_42a61_row6_col1\" class=\"data row6 col1\" >0.000000</td>\n",
       "            </tr>\n",
       "            <tr>\n",
       "                        <th id=\"T_42a61_level0_row7\" class=\"row_heading level0 row7\" >7</th>\n",
       "                        <td id=\"T_42a61_row7_col0\" class=\"data row7 col0\" >gender_M</td>\n",
       "                        <td id=\"T_42a61_row7_col1\" class=\"data row7 col1\" >0.000000</td>\n",
       "            </tr>\n",
       "    </tbody></table>"
      ],
      "text/plain": [
       "<pandas.io.formats.style.Styler at 0x134c830d820>"
      ]
     },
     "execution_count": 18,
     "metadata": {},
     "output_type": "execute_result"
    }
   ],
   "source": [
    "importance = pd.DataFrame({'feature_names':X.columns, 'coefficient':model.feature_importances_})\n",
    "importance.sort_values(by='coefficient', ascending=False).style.background_gradient()"
   ]
  },
  {
   "cell_type": "markdown",
   "metadata": {},
   "source": [
    "- 회원기간, 1개월 전의 이용 횟수, 정기 이용 여부 순으로 모델에 기여하고 있음"
   ]
  },
  {
   "cell_type": "markdown",
   "metadata": {},
   "source": [
    "##  회원 탈퇴 예측\n",
    "- sample test data 예측"
   ]
  },
  {
   "cell_type": "code",
   "execution_count": 19,
   "metadata": {
    "ExecuteTime": {
     "end_time": "2021-10-16T15:42:56.138430Z",
     "start_time": "2021-10-16T15:42:56.112447Z"
    }
   },
   "outputs": [
    {
     "data": {
      "text/html": [
       "<div>\n",
       "<style scoped>\n",
       "    .dataframe tbody tr th:only-of-type {\n",
       "        vertical-align: middle;\n",
       "    }\n",
       "\n",
       "    .dataframe tbody tr th {\n",
       "        vertical-align: top;\n",
       "    }\n",
       "\n",
       "    .dataframe thead th {\n",
       "        text-align: right;\n",
       "    }\n",
       "</style>\n",
       "<table border=\"1\" class=\"dataframe\">\n",
       "  <thead>\n",
       "    <tr style=\"text-align: right;\">\n",
       "      <th></th>\n",
       "      <th>count_1</th>\n",
       "      <th>period</th>\n",
       "      <th>routine_flg</th>\n",
       "      <th>campaign_name_입회비무료</th>\n",
       "      <th>campaign_name_입회비반액할인</th>\n",
       "      <th>class_name_종일</th>\n",
       "      <th>class_name_주간</th>\n",
       "      <th>gender_M</th>\n",
       "    </tr>\n",
       "  </thead>\n",
       "  <tbody>\n",
       "    <tr>\n",
       "      <th>0</th>\n",
       "      <td>3.0</td>\n",
       "      <td>2</td>\n",
       "      <td>0.0</td>\n",
       "      <td>0</td>\n",
       "      <td>0</td>\n",
       "      <td>1</td>\n",
       "      <td>0</td>\n",
       "      <td>1</td>\n",
       "    </tr>\n",
       "    <tr>\n",
       "      <th>1</th>\n",
       "      <td>3.0</td>\n",
       "      <td>6</td>\n",
       "      <td>1.0</td>\n",
       "      <td>0</td>\n",
       "      <td>0</td>\n",
       "      <td>1</td>\n",
       "      <td>0</td>\n",
       "      <td>1</td>\n",
       "    </tr>\n",
       "  </tbody>\n",
       "</table>\n",
       "</div>"
      ],
      "text/plain": [
       "   count_1  period  routine_flg  campaign_name_입회비무료  campaign_name_입회비반액할인  \\\n",
       "0      3.0       2          0.0                    0                      0   \n",
       "1      3.0       6          1.0                    0                      0   \n",
       "\n",
       "   class_name_종일  class_name_주간  gender_M  \n",
       "0              1              0         1  \n",
       "1              1              0         1  "
      ]
     },
     "execution_count": 19,
     "metadata": {},
     "output_type": "execute_result"
    }
   ],
   "source": [
    "X.head(2)"
   ]
  },
  {
   "cell_type": "code",
   "execution_count": 20,
   "metadata": {
    "ExecuteTime": {
     "end_time": "2021-10-16T15:42:56.168289Z",
     "start_time": "2021-10-16T15:42:56.141363Z"
    }
   },
   "outputs": [],
   "source": [
    "# sample test\n",
    "count_1 = 3\n",
    "routine_flg = 1\n",
    "period = 10\n",
    "campaign_name = '입회비무료'\n",
    "class_name = '종일'\n",
    "gender = 'M'"
   ]
  },
  {
   "cell_type": "code",
   "execution_count": 21,
   "metadata": {
    "ExecuteTime": {
     "end_time": "2021-10-16T15:42:56.198006Z",
     "start_time": "2021-10-16T15:42:56.172279Z"
    }
   },
   "outputs": [],
   "source": [
    "# input data processing\n",
    "\n",
    "# 카테고리형 변수 더미 처리\n",
    "if campaign_name == '입회비반액할인': # campaign_name\n",
    "    campaign_name_list = [0,1]\n",
    "elif campaign_name == '입회비무료':\n",
    "    campaign_name_list = [1,0]\n",
    "elif campaign_name == '일반':\n",
    "    campaign_name_list = [0,0]\n",
    "if class_name == '종일':            # class\n",
    "    class_name_list = [1,0]\n",
    "elif class_name == '주간':\n",
    "    class_name_list = [0,1]\n",
    "elif class_name == '야간':\n",
    "    class_name_list = [0,0]\n",
    "if gender == 'F':\n",
    "    gender_list = [0]\n",
    "elif gender == 'M':\n",
    "    gender_list = [1]\n",
    "# 수치형\n",
    "input_data = [count_1,period,routine_flg]\n",
    "# 더미 변수 추가\n",
    "input_data.extend(campaign_name_list)\n",
    "input_data.extend(class_name_list)\n",
    "input_data.extend(gender_list)"
   ]
  },
  {
   "cell_type": "code",
   "execution_count": 22,
   "metadata": {
    "ExecuteTime": {
     "end_time": "2021-10-16T15:42:56.212944Z",
     "start_time": "2021-10-16T15:42:56.199978Z"
    }
   },
   "outputs": [
    {
     "data": {
      "text/plain": [
       "[3, 10, 1, 1, 0, 1, 0, 1]"
      ]
     },
     "execution_count": 22,
     "metadata": {},
     "output_type": "execute_result"
    }
   ],
   "source": [
    "input_data"
   ]
  },
  {
   "cell_type": "code",
   "execution_count": 23,
   "metadata": {
    "ExecuteTime": {
     "end_time": "2021-10-16T15:42:56.243859Z",
     "start_time": "2021-10-16T15:42:56.221920Z"
    }
   },
   "outputs": [
    {
     "name": "stdout",
     "output_type": "stream",
     "text": [
      "[1.]\n",
      "[[0.00268097 0.99731903]]\n"
     ]
    }
   ],
   "source": [
    "print(model.predict([input_data]))    # 예측 class\n",
    "print(model.predict_proba([input_data]))   # 예측 확률"
   ]
  },
  {
   "cell_type": "markdown",
   "metadata": {},
   "source": [
    "- 탈퇴가 99.7% 확률로 예측됨"
   ]
  }
 ],
 "metadata": {
  "kernelspec": {
   "display_name": "Python 3",
   "language": "python",
   "name": "python3"
  },
  "language_info": {
   "codemirror_mode": {
    "name": "ipython",
    "version": 3
   },
   "file_extension": ".py",
   "mimetype": "text/x-python",
   "name": "python",
   "nbconvert_exporter": "python",
   "pygments_lexer": "ipython3",
   "version": "3.8.3"
  },
  "toc": {
   "base_numbering": 1,
   "nav_menu": {},
   "number_sections": true,
   "sideBar": true,
   "skip_h1_title": false,
   "title_cell": "Table of Contents",
   "title_sidebar": "Contents",
   "toc_cell": true,
   "toc_position": {
    "height": "calc(100% - 180px)",
    "left": "10px",
    "top": "150px",
    "width": "165px"
   },
   "toc_section_display": true,
   "toc_window_display": false
  }
 },
 "nbformat": 4,
 "nbformat_minor": 4
}
