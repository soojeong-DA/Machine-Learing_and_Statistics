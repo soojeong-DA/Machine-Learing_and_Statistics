{
 "cells": [
  {
   "cell_type": "markdown",
   "metadata": {},
   "source": [
    "**목적: 쇼핑몰 사이트의 상품 주문 수 추세를 분석하여 판매량 개선 방향성 도출**"
   ]
  },
  {
   "cell_type": "markdown",
   "metadata": {},
   "source": [
    "**정보**   \n",
    "- 주요 품목: 컴퓨터\n",
    "- 데이터 설명\n",
    "    1. customer_master.csv\n",
    "        - 고객 데이터\n",
    "        - 이름, 성별 등\n",
    "    2. item_master.csv\n",
    "        - 취급 상품 데이터\n",
    "        - 상품명, 가격 등\n",
    "    3. transaction_1.csv, transaction_2.csv\n",
    "        - 구매내역 데이터 (분할되어 있음)\n",
    "        - 고객id, 구매 시점, 구매 금액 등\n",
    "    4. transaction_detail_1.csv, transaction_detail_2.csv\n",
    "        - 구매내역 상세 데이터 (분할되어 있음)\n",
    "        - 상품id, 구입 개수 등"
   ]
  },
  {
   "cell_type": "markdown",
   "metadata": {
    "toc": true
   },
   "source": [
    "<h1>Table of Contents<span class=\"tocSkip\"></span></h1>\n",
    "<div class=\"toc\"><ul class=\"toc-item\"><li><span><a href=\"#data-load\" data-toc-modified-id=\"data-load-1\"><span class=\"toc-item-num\">1&nbsp;&nbsp;</span>data load</a></span></li><li><span><a href=\"#데이터-가공\" data-toc-modified-id=\"데이터-가공-2\"><span class=\"toc-item-num\">2&nbsp;&nbsp;</span>데이터 가공</a></span><ul class=\"toc-item\"><li><span><a href=\"#분할-데이터-세로-결합\" data-toc-modified-id=\"분할-데이터-세로-결합-2.1\"><span class=\"toc-item-num\">2.1&nbsp;&nbsp;</span>분할 데이터 세로 결합</a></span></li><li><span><a href=\"#detail-data-기준으로-다른-data-결합\" data-toc-modified-id=\"detail-data-기준으로-다른-data-결합-2.2\"><span class=\"toc-item-num\">2.2&nbsp;&nbsp;</span>detail data 기준으로 다른 data 결합</a></span></li><li><span><a href=\"#컬럼-생성\" data-toc-modified-id=\"컬럼-생성-2.3\"><span class=\"toc-item-num\">2.3&nbsp;&nbsp;</span>컬럼 생성</a></span></li><li><span><a href=\"#생성-데이터-검산\" data-toc-modified-id=\"생성-데이터-검산-2.4\"><span class=\"toc-item-num\">2.4&nbsp;&nbsp;</span>생성 데이터 검산</a></span></li></ul></li><li><span><a href=\"#기초통계량-파악\" data-toc-modified-id=\"기초통계량-파악-3\"><span class=\"toc-item-num\">3&nbsp;&nbsp;</span>기초통계량 파악</a></span></li><li><span><a href=\"#EDA\" data-toc-modified-id=\"EDA-4\"><span class=\"toc-item-num\">4&nbsp;&nbsp;</span>EDA</a></span><ul class=\"toc-item\"><li><span><a href=\"#월별-매출합\" data-toc-modified-id=\"월별-매출합-4.1\"><span class=\"toc-item-num\">4.1&nbsp;&nbsp;</span>월별 매출합</a></span></li><li><span><a href=\"#월별-상품별-개수,매출-합\" data-toc-modified-id=\"월별-상품별-개수,매출-합-4.2\"><span class=\"toc-item-num\">4.2&nbsp;&nbsp;</span>월별 상품별 개수,매출 합</a></span></li></ul></li></ul></div>"
   ]
  },
  {
   "cell_type": "code",
   "execution_count": 1,
   "metadata": {
    "ExecuteTime": {
     "end_time": "2021-10-08T14:49:16.798490Z",
     "start_time": "2021-10-08T14:49:14.193401Z"
    }
   },
   "outputs": [],
   "source": [
    "import pandas as pd\n",
    "\n",
    "import matplotlib\n",
    "import matplotlib.pyplot as plt\n",
    "import seaborn as sns"
   ]
  },
  {
   "cell_type": "markdown",
   "metadata": {},
   "source": [
    "# data load"
   ]
  },
  {
   "cell_type": "code",
   "execution_count": 2,
   "metadata": {
    "ExecuteTime": {
     "end_time": "2021-10-08T14:49:16.949102Z",
     "start_time": "2021-10-08T14:49:16.813452Z"
    }
   },
   "outputs": [
    {
     "data": {
      "text/html": [
       "<div>\n",
       "<style scoped>\n",
       "    .dataframe tbody tr th:only-of-type {\n",
       "        vertical-align: middle;\n",
       "    }\n",
       "\n",
       "    .dataframe tbody tr th {\n",
       "        vertical-align: top;\n",
       "    }\n",
       "\n",
       "    .dataframe thead th {\n",
       "        text-align: right;\n",
       "    }\n",
       "</style>\n",
       "<table border=\"1\" class=\"dataframe\">\n",
       "  <thead>\n",
       "    <tr style=\"text-align: right;\">\n",
       "      <th></th>\n",
       "      <th>customer_id</th>\n",
       "      <th>customer_name</th>\n",
       "      <th>registration_date</th>\n",
       "      <th>email</th>\n",
       "      <th>gender</th>\n",
       "      <th>age</th>\n",
       "      <th>birth</th>\n",
       "      <th>pref</th>\n",
       "    </tr>\n",
       "  </thead>\n",
       "  <tbody>\n",
       "    <tr>\n",
       "      <th>0</th>\n",
       "      <td>IK152942</td>\n",
       "      <td>김서준</td>\n",
       "      <td>2019-01-01 0:25</td>\n",
       "      <td>hirata_yuujirou@example.com</td>\n",
       "      <td>M</td>\n",
       "      <td>29</td>\n",
       "      <td>1990-06-10</td>\n",
       "      <td>대전광역시</td>\n",
       "    </tr>\n",
       "    <tr>\n",
       "      <th>1</th>\n",
       "      <td>TS808488</td>\n",
       "      <td>김예준</td>\n",
       "      <td>2019-01-01 1:13</td>\n",
       "      <td>tamura_shiori@example.com</td>\n",
       "      <td>F</td>\n",
       "      <td>33</td>\n",
       "      <td>1986-05-20</td>\n",
       "      <td>인천광역시</td>\n",
       "    </tr>\n",
       "    <tr>\n",
       "      <th>2</th>\n",
       "      <td>AS834628</td>\n",
       "      <td>김도윤</td>\n",
       "      <td>2019-01-01 2:00</td>\n",
       "      <td>hisano_yuki@example.com</td>\n",
       "      <td>F</td>\n",
       "      <td>63</td>\n",
       "      <td>1956-01-02</td>\n",
       "      <td>광주광역시</td>\n",
       "    </tr>\n",
       "    <tr>\n",
       "      <th>3</th>\n",
       "      <td>AS345469</td>\n",
       "      <td>김시우</td>\n",
       "      <td>2019-01-01 4:48</td>\n",
       "      <td>tsuruoka_kaoru@example.com</td>\n",
       "      <td>M</td>\n",
       "      <td>74</td>\n",
       "      <td>1945-03-25</td>\n",
       "      <td>인천광역시</td>\n",
       "    </tr>\n",
       "    <tr>\n",
       "      <th>4</th>\n",
       "      <td>GD892565</td>\n",
       "      <td>김주원</td>\n",
       "      <td>2019-01-01 4:54</td>\n",
       "      <td>oouchi_takashi@example.com</td>\n",
       "      <td>M</td>\n",
       "      <td>54</td>\n",
       "      <td>1965-08-05</td>\n",
       "      <td>울산광역시</td>\n",
       "    </tr>\n",
       "  </tbody>\n",
       "</table>\n",
       "</div>"
      ],
      "text/plain": [
       "  customer_id customer_name registration_date                        email  \\\n",
       "0    IK152942           김서준   2019-01-01 0:25  hirata_yuujirou@example.com   \n",
       "1    TS808488           김예준   2019-01-01 1:13    tamura_shiori@example.com   \n",
       "2    AS834628           김도윤   2019-01-01 2:00      hisano_yuki@example.com   \n",
       "3    AS345469           김시우   2019-01-01 4:48   tsuruoka_kaoru@example.com   \n",
       "4    GD892565           김주원   2019-01-01 4:54   oouchi_takashi@example.com   \n",
       "\n",
       "  gender  age       birth   pref  \n",
       "0      M   29  1990-06-10  대전광역시  \n",
       "1      F   33  1986-05-20  인천광역시  \n",
       "2      F   63  1956-01-02  광주광역시  \n",
       "3      M   74  1945-03-25  인천광역시  \n",
       "4      M   54  1965-08-05  울산광역시  "
      ]
     },
     "execution_count": 2,
     "metadata": {},
     "output_type": "execute_result"
    }
   ],
   "source": [
    "customer_master = pd.read_csv('data_code/1장/customer_master.csv')\n",
    "customer_master.head()"
   ]
  },
  {
   "cell_type": "code",
   "execution_count": 3,
   "metadata": {
    "ExecuteTime": {
     "end_time": "2021-10-08T14:49:16.996971Z",
     "start_time": "2021-10-08T14:49:16.955076Z"
    }
   },
   "outputs": [
    {
     "data": {
      "text/html": [
       "<div>\n",
       "<style scoped>\n",
       "    .dataframe tbody tr th:only-of-type {\n",
       "        vertical-align: middle;\n",
       "    }\n",
       "\n",
       "    .dataframe tbody tr th {\n",
       "        vertical-align: top;\n",
       "    }\n",
       "\n",
       "    .dataframe thead th {\n",
       "        text-align: right;\n",
       "    }\n",
       "</style>\n",
       "<table border=\"1\" class=\"dataframe\">\n",
       "  <thead>\n",
       "    <tr style=\"text-align: right;\">\n",
       "      <th></th>\n",
       "      <th>item_id</th>\n",
       "      <th>item_name</th>\n",
       "      <th>item_price</th>\n",
       "    </tr>\n",
       "  </thead>\n",
       "  <tbody>\n",
       "    <tr>\n",
       "      <th>0</th>\n",
       "      <td>S001</td>\n",
       "      <td>PC-A</td>\n",
       "      <td>50000</td>\n",
       "    </tr>\n",
       "    <tr>\n",
       "      <th>1</th>\n",
       "      <td>S002</td>\n",
       "      <td>PC-B</td>\n",
       "      <td>85000</td>\n",
       "    </tr>\n",
       "    <tr>\n",
       "      <th>2</th>\n",
       "      <td>S003</td>\n",
       "      <td>PC-C</td>\n",
       "      <td>120000</td>\n",
       "    </tr>\n",
       "    <tr>\n",
       "      <th>3</th>\n",
       "      <td>S004</td>\n",
       "      <td>PC-D</td>\n",
       "      <td>180000</td>\n",
       "    </tr>\n",
       "    <tr>\n",
       "      <th>4</th>\n",
       "      <td>S005</td>\n",
       "      <td>PC-E</td>\n",
       "      <td>210000</td>\n",
       "    </tr>\n",
       "  </tbody>\n",
       "</table>\n",
       "</div>"
      ],
      "text/plain": [
       "  item_id item_name  item_price\n",
       "0    S001      PC-A       50000\n",
       "1    S002      PC-B       85000\n",
       "2    S003      PC-C      120000\n",
       "3    S004      PC-D      180000\n",
       "4    S005      PC-E      210000"
      ]
     },
     "execution_count": 3,
     "metadata": {},
     "output_type": "execute_result"
    }
   ],
   "source": [
    "item_master = pd.read_csv('data_code/1장/item_master.csv')\n",
    "item_master.head()"
   ]
  },
  {
   "cell_type": "code",
   "execution_count": 4,
   "metadata": {
    "ExecuteTime": {
     "end_time": "2021-10-08T14:49:17.078749Z",
     "start_time": "2021-10-08T14:49:17.005936Z"
    }
   },
   "outputs": [
    {
     "data": {
      "text/html": [
       "<div>\n",
       "<style scoped>\n",
       "    .dataframe tbody tr th:only-of-type {\n",
       "        vertical-align: middle;\n",
       "    }\n",
       "\n",
       "    .dataframe tbody tr th {\n",
       "        vertical-align: top;\n",
       "    }\n",
       "\n",
       "    .dataframe thead th {\n",
       "        text-align: right;\n",
       "    }\n",
       "</style>\n",
       "<table border=\"1\" class=\"dataframe\">\n",
       "  <thead>\n",
       "    <tr style=\"text-align: right;\">\n",
       "      <th></th>\n",
       "      <th>transaction_id</th>\n",
       "      <th>price</th>\n",
       "      <th>payment_date</th>\n",
       "      <th>customer_id</th>\n",
       "    </tr>\n",
       "  </thead>\n",
       "  <tbody>\n",
       "    <tr>\n",
       "      <th>0</th>\n",
       "      <td>T0000000113</td>\n",
       "      <td>210000</td>\n",
       "      <td>2019-02-01 01:36:57</td>\n",
       "      <td>PL563502</td>\n",
       "    </tr>\n",
       "    <tr>\n",
       "      <th>1</th>\n",
       "      <td>T0000000114</td>\n",
       "      <td>50000</td>\n",
       "      <td>2019-02-01 01:37:23</td>\n",
       "      <td>HD678019</td>\n",
       "    </tr>\n",
       "    <tr>\n",
       "      <th>2</th>\n",
       "      <td>T0000000115</td>\n",
       "      <td>120000</td>\n",
       "      <td>2019-02-01 02:34:19</td>\n",
       "      <td>HD298120</td>\n",
       "    </tr>\n",
       "    <tr>\n",
       "      <th>3</th>\n",
       "      <td>T0000000116</td>\n",
       "      <td>210000</td>\n",
       "      <td>2019-02-01 02:47:23</td>\n",
       "      <td>IK452215</td>\n",
       "    </tr>\n",
       "    <tr>\n",
       "      <th>4</th>\n",
       "      <td>T0000000117</td>\n",
       "      <td>170000</td>\n",
       "      <td>2019-02-01 04:33:46</td>\n",
       "      <td>PL542865</td>\n",
       "    </tr>\n",
       "  </tbody>\n",
       "</table>\n",
       "</div>"
      ],
      "text/plain": [
       "  transaction_id   price         payment_date customer_id\n",
       "0    T0000000113  210000  2019-02-01 01:36:57    PL563502\n",
       "1    T0000000114   50000  2019-02-01 01:37:23    HD678019\n",
       "2    T0000000115  120000  2019-02-01 02:34:19    HD298120\n",
       "3    T0000000116  210000  2019-02-01 02:47:23    IK452215\n",
       "4    T0000000117  170000  2019-02-01 04:33:46    PL542865"
      ]
     },
     "execution_count": 4,
     "metadata": {},
     "output_type": "execute_result"
    }
   ],
   "source": [
    "transaction_1 = pd.read_csv('data_code/1장/transaction_1.csv')\n",
    "transaction_1.head()"
   ]
  },
  {
   "cell_type": "code",
   "execution_count": 5,
   "metadata": {
    "ExecuteTime": {
     "end_time": "2021-10-08T14:49:17.152546Z",
     "start_time": "2021-10-08T14:49:17.088717Z"
    }
   },
   "outputs": [
    {
     "data": {
      "text/html": [
       "<div>\n",
       "<style scoped>\n",
       "    .dataframe tbody tr th:only-of-type {\n",
       "        vertical-align: middle;\n",
       "    }\n",
       "\n",
       "    .dataframe tbody tr th {\n",
       "        vertical-align: top;\n",
       "    }\n",
       "\n",
       "    .dataframe thead th {\n",
       "        text-align: right;\n",
       "    }\n",
       "</style>\n",
       "<table border=\"1\" class=\"dataframe\">\n",
       "  <thead>\n",
       "    <tr style=\"text-align: right;\">\n",
       "      <th></th>\n",
       "      <th>transaction_id</th>\n",
       "      <th>price</th>\n",
       "      <th>payment_date</th>\n",
       "      <th>customer_id</th>\n",
       "    </tr>\n",
       "  </thead>\n",
       "  <tbody>\n",
       "    <tr>\n",
       "      <th>0</th>\n",
       "      <td>T0000005113</td>\n",
       "      <td>295000</td>\n",
       "      <td>2019-06-15 07:20:27</td>\n",
       "      <td>TS169261</td>\n",
       "    </tr>\n",
       "    <tr>\n",
       "      <th>1</th>\n",
       "      <td>T0000005114</td>\n",
       "      <td>50000</td>\n",
       "      <td>2019-06-15 07:35:47</td>\n",
       "      <td>HI599892</td>\n",
       "    </tr>\n",
       "    <tr>\n",
       "      <th>2</th>\n",
       "      <td>T0000005115</td>\n",
       "      <td>85000</td>\n",
       "      <td>2019-06-15 07:56:36</td>\n",
       "      <td>HI421757</td>\n",
       "    </tr>\n",
       "    <tr>\n",
       "      <th>3</th>\n",
       "      <td>T0000005116</td>\n",
       "      <td>50000</td>\n",
       "      <td>2019-06-15 08:40:55</td>\n",
       "      <td>OA386378</td>\n",
       "    </tr>\n",
       "    <tr>\n",
       "      <th>4</th>\n",
       "      <td>T0000005117</td>\n",
       "      <td>120000</td>\n",
       "      <td>2019-06-15 08:44:23</td>\n",
       "      <td>TS506913</td>\n",
       "    </tr>\n",
       "  </tbody>\n",
       "</table>\n",
       "</div>"
      ],
      "text/plain": [
       "  transaction_id   price         payment_date customer_id\n",
       "0    T0000005113  295000  2019-06-15 07:20:27    TS169261\n",
       "1    T0000005114   50000  2019-06-15 07:35:47    HI599892\n",
       "2    T0000005115   85000  2019-06-15 07:56:36    HI421757\n",
       "3    T0000005116   50000  2019-06-15 08:40:55    OA386378\n",
       "4    T0000005117  120000  2019-06-15 08:44:23    TS506913"
      ]
     },
     "execution_count": 5,
     "metadata": {},
     "output_type": "execute_result"
    }
   ],
   "source": [
    "transaction_2 = pd.read_csv('data_code/1장/transaction_2.csv')\n",
    "transaction_2.head()"
   ]
  },
  {
   "cell_type": "code",
   "execution_count": 6,
   "metadata": {
    "ExecuteTime": {
     "end_time": "2021-10-08T14:49:17.198424Z",
     "start_time": "2021-10-08T14:49:17.156536Z"
    }
   },
   "outputs": [
    {
     "data": {
      "text/html": [
       "<div>\n",
       "<style scoped>\n",
       "    .dataframe tbody tr th:only-of-type {\n",
       "        vertical-align: middle;\n",
       "    }\n",
       "\n",
       "    .dataframe tbody tr th {\n",
       "        vertical-align: top;\n",
       "    }\n",
       "\n",
       "    .dataframe thead th {\n",
       "        text-align: right;\n",
       "    }\n",
       "</style>\n",
       "<table border=\"1\" class=\"dataframe\">\n",
       "  <thead>\n",
       "    <tr style=\"text-align: right;\">\n",
       "      <th></th>\n",
       "      <th>detail_id</th>\n",
       "      <th>transaction_id</th>\n",
       "      <th>item_id</th>\n",
       "      <th>quantity</th>\n",
       "    </tr>\n",
       "  </thead>\n",
       "  <tbody>\n",
       "    <tr>\n",
       "      <th>0</th>\n",
       "      <td>0</td>\n",
       "      <td>T0000000113</td>\n",
       "      <td>S005</td>\n",
       "      <td>1</td>\n",
       "    </tr>\n",
       "    <tr>\n",
       "      <th>1</th>\n",
       "      <td>1</td>\n",
       "      <td>T0000000114</td>\n",
       "      <td>S001</td>\n",
       "      <td>1</td>\n",
       "    </tr>\n",
       "    <tr>\n",
       "      <th>2</th>\n",
       "      <td>2</td>\n",
       "      <td>T0000000115</td>\n",
       "      <td>S003</td>\n",
       "      <td>1</td>\n",
       "    </tr>\n",
       "    <tr>\n",
       "      <th>3</th>\n",
       "      <td>3</td>\n",
       "      <td>T0000000116</td>\n",
       "      <td>S005</td>\n",
       "      <td>1</td>\n",
       "    </tr>\n",
       "    <tr>\n",
       "      <th>4</th>\n",
       "      <td>4</td>\n",
       "      <td>T0000000117</td>\n",
       "      <td>S002</td>\n",
       "      <td>2</td>\n",
       "    </tr>\n",
       "  </tbody>\n",
       "</table>\n",
       "</div>"
      ],
      "text/plain": [
       "   detail_id transaction_id item_id  quantity\n",
       "0          0    T0000000113    S005         1\n",
       "1          1    T0000000114    S001         1\n",
       "2          2    T0000000115    S003         1\n",
       "3          3    T0000000116    S005         1\n",
       "4          4    T0000000117    S002         2"
      ]
     },
     "execution_count": 6,
     "metadata": {},
     "output_type": "execute_result"
    }
   ],
   "source": [
    "transaction_detail_1 = pd.read_csv('data_code/1장/transaction_detail_1.csv')\n",
    "transaction_detail_1.head()"
   ]
  },
  {
   "cell_type": "code",
   "execution_count": 7,
   "metadata": {
    "ExecuteTime": {
     "end_time": "2021-10-08T14:49:17.244304Z",
     "start_time": "2021-10-08T14:49:17.203410Z"
    }
   },
   "outputs": [
    {
     "data": {
      "text/html": [
       "<div>\n",
       "<style scoped>\n",
       "    .dataframe tbody tr th:only-of-type {\n",
       "        vertical-align: middle;\n",
       "    }\n",
       "\n",
       "    .dataframe tbody tr th {\n",
       "        vertical-align: top;\n",
       "    }\n",
       "\n",
       "    .dataframe thead th {\n",
       "        text-align: right;\n",
       "    }\n",
       "</style>\n",
       "<table border=\"1\" class=\"dataframe\">\n",
       "  <thead>\n",
       "    <tr style=\"text-align: right;\">\n",
       "      <th></th>\n",
       "      <th>detail_id</th>\n",
       "      <th>transaction_id</th>\n",
       "      <th>item_id</th>\n",
       "      <th>quantity</th>\n",
       "    </tr>\n",
       "  </thead>\n",
       "  <tbody>\n",
       "    <tr>\n",
       "      <th>0</th>\n",
       "      <td>5000</td>\n",
       "      <td>T0000004870</td>\n",
       "      <td>S002</td>\n",
       "      <td>3</td>\n",
       "    </tr>\n",
       "    <tr>\n",
       "      <th>1</th>\n",
       "      <td>5001</td>\n",
       "      <td>T0000004871</td>\n",
       "      <td>S003</td>\n",
       "      <td>1</td>\n",
       "    </tr>\n",
       "    <tr>\n",
       "      <th>2</th>\n",
       "      <td>5002</td>\n",
       "      <td>T0000004872</td>\n",
       "      <td>S001</td>\n",
       "      <td>2</td>\n",
       "    </tr>\n",
       "    <tr>\n",
       "      <th>3</th>\n",
       "      <td>5003</td>\n",
       "      <td>T0000004873</td>\n",
       "      <td>S004</td>\n",
       "      <td>1</td>\n",
       "    </tr>\n",
       "    <tr>\n",
       "      <th>4</th>\n",
       "      <td>5004</td>\n",
       "      <td>T0000004874</td>\n",
       "      <td>S003</td>\n",
       "      <td>2</td>\n",
       "    </tr>\n",
       "  </tbody>\n",
       "</table>\n",
       "</div>"
      ],
      "text/plain": [
       "   detail_id transaction_id item_id  quantity\n",
       "0       5000    T0000004870    S002         3\n",
       "1       5001    T0000004871    S003         1\n",
       "2       5002    T0000004872    S001         2\n",
       "3       5003    T0000004873    S004         1\n",
       "4       5004    T0000004874    S003         2"
      ]
     },
     "execution_count": 7,
     "metadata": {},
     "output_type": "execute_result"
    }
   ],
   "source": [
    "transaction_detail_2 = pd.read_csv('data_code/1장/transaction_detail_2.csv')\n",
    "transaction_detail_2.head()"
   ]
  },
  {
   "cell_type": "markdown",
   "metadata": {},
   "source": [
    "# 데이터 가공"
   ]
  },
  {
   "cell_type": "markdown",
   "metadata": {},
   "source": [
    "## 분할 데이터 세로 결합"
   ]
  },
  {
   "cell_type": "code",
   "execution_count": 8,
   "metadata": {
    "ExecuteTime": {
     "end_time": "2021-10-08T14:49:17.291179Z",
     "start_time": "2021-10-08T14:49:17.254274Z"
    }
   },
   "outputs": [
    {
     "data": {
      "text/html": [
       "<div>\n",
       "<style scoped>\n",
       "    .dataframe tbody tr th:only-of-type {\n",
       "        vertical-align: middle;\n",
       "    }\n",
       "\n",
       "    .dataframe tbody tr th {\n",
       "        vertical-align: top;\n",
       "    }\n",
       "\n",
       "    .dataframe thead th {\n",
       "        text-align: right;\n",
       "    }\n",
       "</style>\n",
       "<table border=\"1\" class=\"dataframe\">\n",
       "  <thead>\n",
       "    <tr style=\"text-align: right;\">\n",
       "      <th></th>\n",
       "      <th>transaction_id</th>\n",
       "      <th>price</th>\n",
       "      <th>payment_date</th>\n",
       "      <th>customer_id</th>\n",
       "    </tr>\n",
       "  </thead>\n",
       "  <tbody>\n",
       "    <tr>\n",
       "      <th>0</th>\n",
       "      <td>T0000000113</td>\n",
       "      <td>210000</td>\n",
       "      <td>2019-02-01 01:36:57</td>\n",
       "      <td>PL563502</td>\n",
       "    </tr>\n",
       "    <tr>\n",
       "      <th>1</th>\n",
       "      <td>T0000000114</td>\n",
       "      <td>50000</td>\n",
       "      <td>2019-02-01 01:37:23</td>\n",
       "      <td>HD678019</td>\n",
       "    </tr>\n",
       "    <tr>\n",
       "      <th>2</th>\n",
       "      <td>T0000000115</td>\n",
       "      <td>120000</td>\n",
       "      <td>2019-02-01 02:34:19</td>\n",
       "      <td>HD298120</td>\n",
       "    </tr>\n",
       "    <tr>\n",
       "      <th>3</th>\n",
       "      <td>T0000000116</td>\n",
       "      <td>210000</td>\n",
       "      <td>2019-02-01 02:47:23</td>\n",
       "      <td>IK452215</td>\n",
       "    </tr>\n",
       "    <tr>\n",
       "      <th>4</th>\n",
       "      <td>T0000000117</td>\n",
       "      <td>170000</td>\n",
       "      <td>2019-02-01 04:33:46</td>\n",
       "      <td>PL542865</td>\n",
       "    </tr>\n",
       "  </tbody>\n",
       "</table>\n",
       "</div>"
      ],
      "text/plain": [
       "  transaction_id   price         payment_date customer_id\n",
       "0    T0000000113  210000  2019-02-01 01:36:57    PL563502\n",
       "1    T0000000114   50000  2019-02-01 01:37:23    HD678019\n",
       "2    T0000000115  120000  2019-02-01 02:34:19    HD298120\n",
       "3    T0000000116  210000  2019-02-01 02:47:23    IK452215\n",
       "4    T0000000117  170000  2019-02-01 04:33:46    PL542865"
      ]
     },
     "execution_count": 8,
     "metadata": {},
     "output_type": "execute_result"
    }
   ],
   "source": [
    "# transaction data\n",
    "transaction = pd.concat([transaction_1, transaction_2], ignore_index=True)\n",
    "transaction.head()"
   ]
  },
  {
   "cell_type": "code",
   "execution_count": 9,
   "metadata": {
    "ExecuteTime": {
     "end_time": "2021-10-08T14:49:17.307134Z",
     "start_time": "2021-10-08T14:49:17.298158Z"
    }
   },
   "outputs": [
    {
     "data": {
      "text/plain": [
       "(6786, 4)"
      ]
     },
     "execution_count": 9,
     "metadata": {},
     "output_type": "execute_result"
    }
   ],
   "source": [
    "transaction.shape"
   ]
  },
  {
   "cell_type": "code",
   "execution_count": 10,
   "metadata": {
    "ExecuteTime": {
     "end_time": "2021-10-08T14:49:17.339066Z",
     "start_time": "2021-10-08T14:49:17.313116Z"
    }
   },
   "outputs": [
    {
     "data": {
      "text/plain": [
       "6786"
      ]
     },
     "execution_count": 10,
     "metadata": {},
     "output_type": "execute_result"
    }
   ],
   "source": [
    "len(transaction_1) + len(transaction_2)"
   ]
  },
  {
   "cell_type": "code",
   "execution_count": 11,
   "metadata": {
    "ExecuteTime": {
     "end_time": "2021-10-08T14:49:17.386919Z",
     "start_time": "2021-10-08T14:49:17.345050Z"
    }
   },
   "outputs": [
    {
     "data": {
      "text/html": [
       "<div>\n",
       "<style scoped>\n",
       "    .dataframe tbody tr th:only-of-type {\n",
       "        vertical-align: middle;\n",
       "    }\n",
       "\n",
       "    .dataframe tbody tr th {\n",
       "        vertical-align: top;\n",
       "    }\n",
       "\n",
       "    .dataframe thead th {\n",
       "        text-align: right;\n",
       "    }\n",
       "</style>\n",
       "<table border=\"1\" class=\"dataframe\">\n",
       "  <thead>\n",
       "    <tr style=\"text-align: right;\">\n",
       "      <th></th>\n",
       "      <th>detail_id</th>\n",
       "      <th>transaction_id</th>\n",
       "      <th>item_id</th>\n",
       "      <th>quantity</th>\n",
       "    </tr>\n",
       "  </thead>\n",
       "  <tbody>\n",
       "    <tr>\n",
       "      <th>0</th>\n",
       "      <td>0</td>\n",
       "      <td>T0000000113</td>\n",
       "      <td>S005</td>\n",
       "      <td>1</td>\n",
       "    </tr>\n",
       "    <tr>\n",
       "      <th>1</th>\n",
       "      <td>1</td>\n",
       "      <td>T0000000114</td>\n",
       "      <td>S001</td>\n",
       "      <td>1</td>\n",
       "    </tr>\n",
       "    <tr>\n",
       "      <th>2</th>\n",
       "      <td>2</td>\n",
       "      <td>T0000000115</td>\n",
       "      <td>S003</td>\n",
       "      <td>1</td>\n",
       "    </tr>\n",
       "    <tr>\n",
       "      <th>3</th>\n",
       "      <td>3</td>\n",
       "      <td>T0000000116</td>\n",
       "      <td>S005</td>\n",
       "      <td>1</td>\n",
       "    </tr>\n",
       "    <tr>\n",
       "      <th>4</th>\n",
       "      <td>4</td>\n",
       "      <td>T0000000117</td>\n",
       "      <td>S002</td>\n",
       "      <td>2</td>\n",
       "    </tr>\n",
       "  </tbody>\n",
       "</table>\n",
       "</div>"
      ],
      "text/plain": [
       "   detail_id transaction_id item_id  quantity\n",
       "0          0    T0000000113    S005         1\n",
       "1          1    T0000000114    S001         1\n",
       "2          2    T0000000115    S003         1\n",
       "3          3    T0000000116    S005         1\n",
       "4          4    T0000000117    S002         2"
      ]
     },
     "execution_count": 11,
     "metadata": {},
     "output_type": "execute_result"
    }
   ],
   "source": [
    "# transaction_detail data\n",
    "transaction_detail = pd.concat([transaction_detail_1, transaction_detail_2], ignore_index=True)\n",
    "transaction_detail.head()"
   ]
  },
  {
   "cell_type": "code",
   "execution_count": 12,
   "metadata": {
    "ExecuteTime": {
     "end_time": "2021-10-08T14:49:17.420827Z",
     "start_time": "2021-10-08T14:49:17.391905Z"
    }
   },
   "outputs": [
    {
     "data": {
      "text/plain": [
       "(7144, 4)"
      ]
     },
     "execution_count": 12,
     "metadata": {},
     "output_type": "execute_result"
    }
   ],
   "source": [
    "transaction_detail.shape"
   ]
  },
  {
   "cell_type": "code",
   "execution_count": 13,
   "metadata": {
    "ExecuteTime": {
     "end_time": "2021-10-08T14:49:17.448753Z",
     "start_time": "2021-10-08T14:49:17.424817Z"
    }
   },
   "outputs": [
    {
     "data": {
      "text/plain": [
       "7144"
      ]
     },
     "execution_count": 13,
     "metadata": {},
     "output_type": "execute_result"
    }
   ],
   "source": [
    "len(transaction_detail_1) + len(transaction_detail_2)"
   ]
  },
  {
   "cell_type": "markdown",
   "metadata": {},
   "source": [
    "## detail data 기준으로 다른 data 결합\n",
    "- 가장 상세한 데이터인 transaction_detail 기준"
   ]
  },
  {
   "cell_type": "code",
   "execution_count": 14,
   "metadata": {
    "ExecuteTime": {
     "end_time": "2021-10-08T14:49:17.560454Z",
     "start_time": "2021-10-08T14:49:17.455736Z"
    }
   },
   "outputs": [
    {
     "data": {
      "text/html": [
       "<div>\n",
       "<style scoped>\n",
       "    .dataframe tbody tr th:only-of-type {\n",
       "        vertical-align: middle;\n",
       "    }\n",
       "\n",
       "    .dataframe tbody tr th {\n",
       "        vertical-align: top;\n",
       "    }\n",
       "\n",
       "    .dataframe thead th {\n",
       "        text-align: right;\n",
       "    }\n",
       "</style>\n",
       "<table border=\"1\" class=\"dataframe\">\n",
       "  <thead>\n",
       "    <tr style=\"text-align: right;\">\n",
       "      <th></th>\n",
       "      <th>detail_id</th>\n",
       "      <th>transaction_id</th>\n",
       "      <th>item_id</th>\n",
       "      <th>quantity</th>\n",
       "      <th>payment_date</th>\n",
       "      <th>customer_id</th>\n",
       "    </tr>\n",
       "  </thead>\n",
       "  <tbody>\n",
       "    <tr>\n",
       "      <th>0</th>\n",
       "      <td>0</td>\n",
       "      <td>T0000000113</td>\n",
       "      <td>S005</td>\n",
       "      <td>1</td>\n",
       "      <td>2019-02-01 01:36:57</td>\n",
       "      <td>PL563502</td>\n",
       "    </tr>\n",
       "    <tr>\n",
       "      <th>1</th>\n",
       "      <td>1</td>\n",
       "      <td>T0000000114</td>\n",
       "      <td>S001</td>\n",
       "      <td>1</td>\n",
       "      <td>2019-02-01 01:37:23</td>\n",
       "      <td>HD678019</td>\n",
       "    </tr>\n",
       "    <tr>\n",
       "      <th>2</th>\n",
       "      <td>2</td>\n",
       "      <td>T0000000115</td>\n",
       "      <td>S003</td>\n",
       "      <td>1</td>\n",
       "      <td>2019-02-01 02:34:19</td>\n",
       "      <td>HD298120</td>\n",
       "    </tr>\n",
       "    <tr>\n",
       "      <th>3</th>\n",
       "      <td>3</td>\n",
       "      <td>T0000000116</td>\n",
       "      <td>S005</td>\n",
       "      <td>1</td>\n",
       "      <td>2019-02-01 02:47:23</td>\n",
       "      <td>IK452215</td>\n",
       "    </tr>\n",
       "    <tr>\n",
       "      <th>4</th>\n",
       "      <td>4</td>\n",
       "      <td>T0000000117</td>\n",
       "      <td>S002</td>\n",
       "      <td>2</td>\n",
       "      <td>2019-02-01 04:33:46</td>\n",
       "      <td>PL542865</td>\n",
       "    </tr>\n",
       "  </tbody>\n",
       "</table>\n",
       "</div>"
      ],
      "text/plain": [
       "   detail_id transaction_id item_id  quantity         payment_date customer_id\n",
       "0          0    T0000000113    S005         1  2019-02-01 01:36:57    PL563502\n",
       "1          1    T0000000114    S001         1  2019-02-01 01:37:23    HD678019\n",
       "2          2    T0000000115    S003         1  2019-02-01 02:34:19    HD298120\n",
       "3          3    T0000000116    S005         1  2019-02-01 02:47:23    IK452215\n",
       "4          4    T0000000117    S002         2  2019-02-01 04:33:46    PL542865"
      ]
     },
     "execution_count": 14,
     "metadata": {},
     "output_type": "execute_result"
    }
   ],
   "source": [
    "# transaction_detail + transaction\n",
    "join_data = pd.merge(transaction_detail, transaction[['transaction_id','payment_date','customer_id']], on='transaction_id', how='left')\n",
    "join_data.head()"
   ]
  },
  {
   "cell_type": "code",
   "execution_count": 15,
   "metadata": {
    "ExecuteTime": {
     "end_time": "2021-10-08T14:49:17.576413Z",
     "start_time": "2021-10-08T14:49:17.565443Z"
    }
   },
   "outputs": [
    {
     "data": {
      "text/plain": [
       "(7144, 6)"
      ]
     },
     "execution_count": 15,
     "metadata": {},
     "output_type": "execute_result"
    }
   ],
   "source": [
    "join_data.shape"
   ]
  },
  {
   "cell_type": "code",
   "execution_count": 16,
   "metadata": {
    "ExecuteTime": {
     "end_time": "2021-10-08T14:49:17.608326Z",
     "start_time": "2021-10-08T14:49:17.582396Z"
    }
   },
   "outputs": [
    {
     "data": {
      "text/plain": [
       "(7144, 6786)"
      ]
     },
     "execution_count": 16,
     "metadata": {},
     "output_type": "execute_result"
    }
   ],
   "source": [
    "len(transaction_detail), len(transaction)"
   ]
  },
  {
   "cell_type": "code",
   "execution_count": 17,
   "metadata": {
    "ExecuteTime": {
     "end_time": "2021-10-08T14:49:17.767901Z",
     "start_time": "2021-10-08T14:49:17.614311Z"
    }
   },
   "outputs": [
    {
     "data": {
      "text/html": [
       "<div>\n",
       "<style scoped>\n",
       "    .dataframe tbody tr th:only-of-type {\n",
       "        vertical-align: middle;\n",
       "    }\n",
       "\n",
       "    .dataframe tbody tr th {\n",
       "        vertical-align: top;\n",
       "    }\n",
       "\n",
       "    .dataframe thead th {\n",
       "        text-align: right;\n",
       "    }\n",
       "</style>\n",
       "<table border=\"1\" class=\"dataframe\">\n",
       "  <thead>\n",
       "    <tr style=\"text-align: right;\">\n",
       "      <th></th>\n",
       "      <th>detail_id</th>\n",
       "      <th>transaction_id</th>\n",
       "      <th>item_id</th>\n",
       "      <th>quantity</th>\n",
       "      <th>payment_date</th>\n",
       "      <th>customer_id</th>\n",
       "      <th>item_name</th>\n",
       "      <th>item_price</th>\n",
       "      <th>customer_name</th>\n",
       "      <th>registration_date</th>\n",
       "      <th>email</th>\n",
       "      <th>gender</th>\n",
       "      <th>age</th>\n",
       "      <th>birth</th>\n",
       "      <th>pref</th>\n",
       "    </tr>\n",
       "  </thead>\n",
       "  <tbody>\n",
       "    <tr>\n",
       "      <th>0</th>\n",
       "      <td>0</td>\n",
       "      <td>T0000000113</td>\n",
       "      <td>S005</td>\n",
       "      <td>1</td>\n",
       "      <td>2019-02-01 01:36:57</td>\n",
       "      <td>PL563502</td>\n",
       "      <td>PC-E</td>\n",
       "      <td>210000</td>\n",
       "      <td>김태경</td>\n",
       "      <td>2019-01-07 14:34</td>\n",
       "      <td>imoto_yoshimasa@example.com</td>\n",
       "      <td>M</td>\n",
       "      <td>30</td>\n",
       "      <td>1989-07-15</td>\n",
       "      <td>대전광역시</td>\n",
       "    </tr>\n",
       "    <tr>\n",
       "      <th>1</th>\n",
       "      <td>1</td>\n",
       "      <td>T0000000114</td>\n",
       "      <td>S001</td>\n",
       "      <td>1</td>\n",
       "      <td>2019-02-01 01:37:23</td>\n",
       "      <td>HD678019</td>\n",
       "      <td>PC-A</td>\n",
       "      <td>50000</td>\n",
       "      <td>김영웅</td>\n",
       "      <td>2019-01-27 18:00</td>\n",
       "      <td>mifune_rokurou@example.com</td>\n",
       "      <td>M</td>\n",
       "      <td>73</td>\n",
       "      <td>1945-11-29</td>\n",
       "      <td>서울특별시</td>\n",
       "    </tr>\n",
       "    <tr>\n",
       "      <th>2</th>\n",
       "      <td>2</td>\n",
       "      <td>T0000000115</td>\n",
       "      <td>S003</td>\n",
       "      <td>1</td>\n",
       "      <td>2019-02-01 02:34:19</td>\n",
       "      <td>HD298120</td>\n",
       "      <td>PC-C</td>\n",
       "      <td>120000</td>\n",
       "      <td>김강현</td>\n",
       "      <td>2019-01-11 8:16</td>\n",
       "      <td>yamane_kogan@example.com</td>\n",
       "      <td>M</td>\n",
       "      <td>42</td>\n",
       "      <td>1977-05-17</td>\n",
       "      <td>광주광역시</td>\n",
       "    </tr>\n",
       "    <tr>\n",
       "      <th>3</th>\n",
       "      <td>3</td>\n",
       "      <td>T0000000116</td>\n",
       "      <td>S005</td>\n",
       "      <td>1</td>\n",
       "      <td>2019-02-01 02:47:23</td>\n",
       "      <td>IK452215</td>\n",
       "      <td>PC-E</td>\n",
       "      <td>210000</td>\n",
       "      <td>김주한</td>\n",
       "      <td>2019-01-10 5:07</td>\n",
       "      <td>ikeda_natsumi@example.com</td>\n",
       "      <td>F</td>\n",
       "      <td>47</td>\n",
       "      <td>1972-03-17</td>\n",
       "      <td>인천광역시</td>\n",
       "    </tr>\n",
       "    <tr>\n",
       "      <th>4</th>\n",
       "      <td>4</td>\n",
       "      <td>T0000000117</td>\n",
       "      <td>S002</td>\n",
       "      <td>2</td>\n",
       "      <td>2019-02-01 04:33:46</td>\n",
       "      <td>PL542865</td>\n",
       "      <td>PC-B</td>\n",
       "      <td>85000</td>\n",
       "      <td>김영빈</td>\n",
       "      <td>2019-01-25 6:46</td>\n",
       "      <td>kurita_kenichi@example.com</td>\n",
       "      <td>M</td>\n",
       "      <td>74</td>\n",
       "      <td>1944-12-17</td>\n",
       "      <td>광주광역시</td>\n",
       "    </tr>\n",
       "  </tbody>\n",
       "</table>\n",
       "</div>"
      ],
      "text/plain": [
       "   detail_id transaction_id item_id  quantity         payment_date  \\\n",
       "0          0    T0000000113    S005         1  2019-02-01 01:36:57   \n",
       "1          1    T0000000114    S001         1  2019-02-01 01:37:23   \n",
       "2          2    T0000000115    S003         1  2019-02-01 02:34:19   \n",
       "3          3    T0000000116    S005         1  2019-02-01 02:47:23   \n",
       "4          4    T0000000117    S002         2  2019-02-01 04:33:46   \n",
       "\n",
       "  customer_id item_name  item_price customer_name registration_date  \\\n",
       "0    PL563502      PC-E      210000           김태경  2019-01-07 14:34   \n",
       "1    HD678019      PC-A       50000           김영웅  2019-01-27 18:00   \n",
       "2    HD298120      PC-C      120000           김강현   2019-01-11 8:16   \n",
       "3    IK452215      PC-E      210000           김주한   2019-01-10 5:07   \n",
       "4    PL542865      PC-B       85000           김영빈   2019-01-25 6:46   \n",
       "\n",
       "                         email gender  age       birth   pref  \n",
       "0  imoto_yoshimasa@example.com      M   30  1989-07-15  대전광역시  \n",
       "1   mifune_rokurou@example.com      M   73  1945-11-29  서울특별시  \n",
       "2     yamane_kogan@example.com      M   42  1977-05-17  광주광역시  \n",
       "3    ikeda_natsumi@example.com      F   47  1972-03-17  인천광역시  \n",
       "4   kurita_kenichi@example.com      M   74  1944-12-17  광주광역시  "
      ]
     },
     "execution_count": 17,
     "metadata": {},
     "output_type": "execute_result"
    }
   ],
   "source": [
    "# (join_data + item_master) + customer_master\n",
    "join_data = pd.merge(join_data, item_master, on='item_id', how='left')\n",
    "join_data = pd.merge(join_data, customer_master, on='customer_id', how='left')\n",
    "join_data.head()"
   ]
  },
  {
   "cell_type": "code",
   "execution_count": 18,
   "metadata": {
    "ExecuteTime": {
     "end_time": "2021-10-08T14:49:17.783859Z",
     "start_time": "2021-10-08T14:49:17.772888Z"
    }
   },
   "outputs": [
    {
     "data": {
      "text/plain": [
       "(7144, 15)"
      ]
     },
     "execution_count": 18,
     "metadata": {},
     "output_type": "execute_result"
    }
   ],
   "source": [
    "join_data.shape"
   ]
  },
  {
   "cell_type": "code",
   "execution_count": 19,
   "metadata": {
    "ExecuteTime": {
     "end_time": "2021-10-08T14:49:17.831730Z",
     "start_time": "2021-10-08T14:49:17.811801Z"
    }
   },
   "outputs": [
    {
     "data": {
      "text/plain": [
       "(5000, 5)"
      ]
     },
     "execution_count": 19,
     "metadata": {},
     "output_type": "execute_result"
    }
   ],
   "source": [
    "len(customer_master), len(item_master)"
   ]
  },
  {
   "cell_type": "markdown",
   "metadata": {},
   "source": [
    "## 컬럼 생성"
   ]
  },
  {
   "cell_type": "code",
   "execution_count": 20,
   "metadata": {
    "ExecuteTime": {
     "end_time": "2021-10-08T14:49:17.925480Z",
     "start_time": "2021-10-08T14:49:17.837716Z"
    }
   },
   "outputs": [
    {
     "data": {
      "text/html": [
       "<div>\n",
       "<style scoped>\n",
       "    .dataframe tbody tr th:only-of-type {\n",
       "        vertical-align: middle;\n",
       "    }\n",
       "\n",
       "    .dataframe tbody tr th {\n",
       "        vertical-align: top;\n",
       "    }\n",
       "\n",
       "    .dataframe thead th {\n",
       "        text-align: right;\n",
       "    }\n",
       "</style>\n",
       "<table border=\"1\" class=\"dataframe\">\n",
       "  <thead>\n",
       "    <tr style=\"text-align: right;\">\n",
       "      <th></th>\n",
       "      <th>quantity</th>\n",
       "      <th>item_price</th>\n",
       "      <th>price</th>\n",
       "    </tr>\n",
       "  </thead>\n",
       "  <tbody>\n",
       "    <tr>\n",
       "      <th>0</th>\n",
       "      <td>1</td>\n",
       "      <td>210000</td>\n",
       "      <td>210000</td>\n",
       "    </tr>\n",
       "    <tr>\n",
       "      <th>1</th>\n",
       "      <td>1</td>\n",
       "      <td>50000</td>\n",
       "      <td>50000</td>\n",
       "    </tr>\n",
       "    <tr>\n",
       "      <th>2</th>\n",
       "      <td>1</td>\n",
       "      <td>120000</td>\n",
       "      <td>120000</td>\n",
       "    </tr>\n",
       "    <tr>\n",
       "      <th>3</th>\n",
       "      <td>1</td>\n",
       "      <td>210000</td>\n",
       "      <td>210000</td>\n",
       "    </tr>\n",
       "    <tr>\n",
       "      <th>4</th>\n",
       "      <td>2</td>\n",
       "      <td>85000</td>\n",
       "      <td>170000</td>\n",
       "    </tr>\n",
       "  </tbody>\n",
       "</table>\n",
       "</div>"
      ],
      "text/plain": [
       "   quantity  item_price   price\n",
       "0         1      210000  210000\n",
       "1         1       50000   50000\n",
       "2         1      120000  120000\n",
       "3         1      210000  210000\n",
       "4         2       85000  170000"
      ]
     },
     "execution_count": 20,
     "metadata": {},
     "output_type": "execute_result"
    }
   ],
   "source": [
    "# 매출\n",
    "join_data['price'] = join_data['quantity'] * join_data['item_price']\n",
    "join_data[['quantity','item_price','price']].head()"
   ]
  },
  {
   "cell_type": "markdown",
   "metadata": {},
   "source": [
    "## 생성 데이터 검산"
   ]
  },
  {
   "cell_type": "code",
   "execution_count": 21,
   "metadata": {
    "ExecuteTime": {
     "end_time": "2021-10-08T14:49:17.957394Z",
     "start_time": "2021-10-08T14:49:17.934456Z"
    }
   },
   "outputs": [
    {
     "data": {
      "text/plain": [
       "True"
      ]
     },
     "execution_count": 21,
     "metadata": {},
     "output_type": "execute_result"
    }
   ],
   "source": [
    "# transaction의 price 컬럼과 비교하여 간단한 검산 진행\n",
    "join_data['price'].sum() == transaction['price'].sum()"
   ]
  },
  {
   "cell_type": "markdown",
   "metadata": {},
   "source": [
    "# 기초통계량 파악\n",
    "- 결측치 개수\n",
    "- 전체 대비 수치\n",
    "    - ex. 상품 A 매출 10만원 (전체 매출 단위가 10억 or 100만원 인지에 따라 의미가 달라짐)"
   ]
  },
  {
   "cell_type": "code",
   "execution_count": 22,
   "metadata": {
    "ExecuteTime": {
     "end_time": "2021-10-08T14:49:17.989310Z",
     "start_time": "2021-10-08T14:49:17.963380Z"
    }
   },
   "outputs": [
    {
     "data": {
      "text/plain": [
       "detail_id            0\n",
       "transaction_id       0\n",
       "item_id              0\n",
       "quantity             0\n",
       "payment_date         0\n",
       "customer_id          0\n",
       "item_name            0\n",
       "item_price           0\n",
       "customer_name        0\n",
       "registration_date    0\n",
       "email                0\n",
       "gender               0\n",
       "age                  0\n",
       "birth                0\n",
       "pref                 0\n",
       "price                0\n",
       "dtype: int64"
      ]
     },
     "execution_count": 22,
     "metadata": {},
     "output_type": "execute_result"
    }
   ],
   "source": [
    "join_data.isnull().sum()"
   ]
  },
  {
   "cell_type": "code",
   "execution_count": 23,
   "metadata": {
    "ExecuteTime": {
     "end_time": "2021-10-08T14:49:18.098021Z",
     "start_time": "2021-10-08T14:49:18.002278Z"
    }
   },
   "outputs": [
    {
     "data": {
      "text/html": [
       "<div>\n",
       "<style scoped>\n",
       "    .dataframe tbody tr th:only-of-type {\n",
       "        vertical-align: middle;\n",
       "    }\n",
       "\n",
       "    .dataframe tbody tr th {\n",
       "        vertical-align: top;\n",
       "    }\n",
       "\n",
       "    .dataframe thead th {\n",
       "        text-align: right;\n",
       "    }\n",
       "</style>\n",
       "<table border=\"1\" class=\"dataframe\">\n",
       "  <thead>\n",
       "    <tr style=\"text-align: right;\">\n",
       "      <th></th>\n",
       "      <th>detail_id</th>\n",
       "      <th>quantity</th>\n",
       "      <th>item_price</th>\n",
       "      <th>age</th>\n",
       "      <th>price</th>\n",
       "    </tr>\n",
       "  </thead>\n",
       "  <tbody>\n",
       "    <tr>\n",
       "      <th>count</th>\n",
       "      <td>7144.000000</td>\n",
       "      <td>7144.000000</td>\n",
       "      <td>7144.000000</td>\n",
       "      <td>7144.000000</td>\n",
       "      <td>7144.000000</td>\n",
       "    </tr>\n",
       "    <tr>\n",
       "      <th>mean</th>\n",
       "      <td>3571.500000</td>\n",
       "      <td>1.199888</td>\n",
       "      <td>121698.628219</td>\n",
       "      <td>50.265677</td>\n",
       "      <td>135937.150056</td>\n",
       "    </tr>\n",
       "    <tr>\n",
       "      <th>std</th>\n",
       "      <td>2062.439494</td>\n",
       "      <td>0.513647</td>\n",
       "      <td>64571.311830</td>\n",
       "      <td>17.190314</td>\n",
       "      <td>68511.453297</td>\n",
       "    </tr>\n",
       "    <tr>\n",
       "      <th>min</th>\n",
       "      <td>0.000000</td>\n",
       "      <td>1.000000</td>\n",
       "      <td>50000.000000</td>\n",
       "      <td>20.000000</td>\n",
       "      <td>50000.000000</td>\n",
       "    </tr>\n",
       "    <tr>\n",
       "      <th>25%</th>\n",
       "      <td>1785.750000</td>\n",
       "      <td>1.000000</td>\n",
       "      <td>50000.000000</td>\n",
       "      <td>36.000000</td>\n",
       "      <td>85000.000000</td>\n",
       "    </tr>\n",
       "    <tr>\n",
       "      <th>50%</th>\n",
       "      <td>3571.500000</td>\n",
       "      <td>1.000000</td>\n",
       "      <td>102500.000000</td>\n",
       "      <td>50.000000</td>\n",
       "      <td>120000.000000</td>\n",
       "    </tr>\n",
       "    <tr>\n",
       "      <th>75%</th>\n",
       "      <td>5357.250000</td>\n",
       "      <td>1.000000</td>\n",
       "      <td>187500.000000</td>\n",
       "      <td>65.000000</td>\n",
       "      <td>210000.000000</td>\n",
       "    </tr>\n",
       "    <tr>\n",
       "      <th>max</th>\n",
       "      <td>7143.000000</td>\n",
       "      <td>4.000000</td>\n",
       "      <td>210000.000000</td>\n",
       "      <td>80.000000</td>\n",
       "      <td>420000.000000</td>\n",
       "    </tr>\n",
       "  </tbody>\n",
       "</table>\n",
       "</div>"
      ],
      "text/plain": [
       "         detail_id     quantity     item_price          age          price\n",
       "count  7144.000000  7144.000000    7144.000000  7144.000000    7144.000000\n",
       "mean   3571.500000     1.199888  121698.628219    50.265677  135937.150056\n",
       "std    2062.439494     0.513647   64571.311830    17.190314   68511.453297\n",
       "min       0.000000     1.000000   50000.000000    20.000000   50000.000000\n",
       "25%    1785.750000     1.000000   50000.000000    36.000000   85000.000000\n",
       "50%    3571.500000     1.000000  102500.000000    50.000000  120000.000000\n",
       "75%    5357.250000     1.000000  187500.000000    65.000000  210000.000000\n",
       "max    7143.000000     4.000000  210000.000000    80.000000  420000.000000"
      ]
     },
     "execution_count": 23,
     "metadata": {},
     "output_type": "execute_result"
    }
   ],
   "source": [
    "join_data.describe()"
   ]
  },
  {
   "cell_type": "code",
   "execution_count": 24,
   "metadata": {
    "ExecuteTime": {
     "end_time": "2021-10-08T14:49:18.127950Z",
     "start_time": "2021-10-08T14:49:18.103007Z"
    }
   },
   "outputs": [
    {
     "data": {
      "text/plain": [
       "('2019-02-01 01:36:57', '2019-07-31 23:41:38')"
      ]
     },
     "execution_count": 24,
     "metadata": {},
     "output_type": "execute_result"
    }
   ],
   "source": [
    "join_data['payment_date'].min(), join_data['payment_date'].max()"
   ]
  },
  {
   "cell_type": "markdown",
   "metadata": {},
   "source": [
    "# EDA"
   ]
  },
  {
   "cell_type": "markdown",
   "metadata": {},
   "source": [
    "## 월별 매출합"
   ]
  },
  {
   "cell_type": "code",
   "execution_count": 25,
   "metadata": {
    "ExecuteTime": {
     "end_time": "2021-10-08T14:49:18.159854Z",
     "start_time": "2021-10-08T14:49:18.133923Z"
    }
   },
   "outputs": [
    {
     "data": {
      "text/plain": [
       "detail_id             int64\n",
       "transaction_id       object\n",
       "item_id              object\n",
       "quantity              int64\n",
       "payment_date         object\n",
       "customer_id          object\n",
       "item_name            object\n",
       "item_price            int64\n",
       "customer_name        object\n",
       "registration_date    object\n",
       "email                object\n",
       "gender               object\n",
       "age                   int64\n",
       "birth                object\n",
       "pref                 object\n",
       "price                 int64\n",
       "dtype: object"
      ]
     },
     "execution_count": 25,
     "metadata": {},
     "output_type": "execute_result"
    }
   ],
   "source": [
    "join_data.dtypes"
   ]
  },
  {
   "cell_type": "code",
   "execution_count": 26,
   "metadata": {
    "ExecuteTime": {
     "end_time": "2021-10-08T14:49:18.343376Z",
     "start_time": "2021-10-08T14:49:18.164840Z"
    }
   },
   "outputs": [
    {
     "data": {
      "text/html": [
       "<div>\n",
       "<style scoped>\n",
       "    .dataframe tbody tr th:only-of-type {\n",
       "        vertical-align: middle;\n",
       "    }\n",
       "\n",
       "    .dataframe tbody tr th {\n",
       "        vertical-align: top;\n",
       "    }\n",
       "\n",
       "    .dataframe thead th {\n",
       "        text-align: right;\n",
       "    }\n",
       "</style>\n",
       "<table border=\"1\" class=\"dataframe\">\n",
       "  <thead>\n",
       "    <tr style=\"text-align: right;\">\n",
       "      <th></th>\n",
       "      <th>payment_date</th>\n",
       "      <th>payment_month</th>\n",
       "    </tr>\n",
       "  </thead>\n",
       "  <tbody>\n",
       "    <tr>\n",
       "      <th>0</th>\n",
       "      <td>2019-02-01 01:36:57</td>\n",
       "      <td>201902</td>\n",
       "    </tr>\n",
       "    <tr>\n",
       "      <th>1</th>\n",
       "      <td>2019-02-01 01:37:23</td>\n",
       "      <td>201902</td>\n",
       "    </tr>\n",
       "    <tr>\n",
       "      <th>2</th>\n",
       "      <td>2019-02-01 02:34:19</td>\n",
       "      <td>201902</td>\n",
       "    </tr>\n",
       "    <tr>\n",
       "      <th>3</th>\n",
       "      <td>2019-02-01 02:47:23</td>\n",
       "      <td>201902</td>\n",
       "    </tr>\n",
       "    <tr>\n",
       "      <th>4</th>\n",
       "      <td>2019-02-01 04:33:46</td>\n",
       "      <td>201902</td>\n",
       "    </tr>\n",
       "  </tbody>\n",
       "</table>\n",
       "</div>"
      ],
      "text/plain": [
       "         payment_date payment_month\n",
       "0 2019-02-01 01:36:57        201902\n",
       "1 2019-02-01 01:37:23        201902\n",
       "2 2019-02-01 02:34:19        201902\n",
       "3 2019-02-01 02:47:23        201902\n",
       "4 2019-02-01 04:33:46        201902"
      ]
     },
     "execution_count": 26,
     "metadata": {},
     "output_type": "execute_result"
    }
   ],
   "source": [
    "# datatime type 변환, 연월 추출\n",
    "join_data['payment_date'] = pd.to_datetime(join_data['payment_date'])\n",
    "join_data['payment_month'] = join_data['payment_date'].dt.strftime('%Y%m')\n",
    "join_data[['payment_date','payment_month']].head()"
   ]
  },
  {
   "cell_type": "code",
   "execution_count": 27,
   "metadata": {
    "ExecuteTime": {
     "end_time": "2021-10-08T14:49:18.390294Z",
     "start_time": "2021-10-08T14:49:18.348376Z"
    }
   },
   "outputs": [
    {
     "data": {
      "text/html": [
       "<div>\n",
       "<style scoped>\n",
       "    .dataframe tbody tr th:only-of-type {\n",
       "        vertical-align: middle;\n",
       "    }\n",
       "\n",
       "    .dataframe tbody tr th {\n",
       "        vertical-align: top;\n",
       "    }\n",
       "\n",
       "    .dataframe thead th {\n",
       "        text-align: right;\n",
       "    }\n",
       "</style>\n",
       "<table border=\"1\" class=\"dataframe\">\n",
       "  <thead>\n",
       "    <tr style=\"text-align: right;\">\n",
       "      <th></th>\n",
       "      <th>price</th>\n",
       "    </tr>\n",
       "    <tr>\n",
       "      <th>payment_month</th>\n",
       "      <th></th>\n",
       "    </tr>\n",
       "  </thead>\n",
       "  <tbody>\n",
       "    <tr>\n",
       "      <th>201902</th>\n",
       "      <td>160185000</td>\n",
       "    </tr>\n",
       "    <tr>\n",
       "      <th>201903</th>\n",
       "      <td>160370000</td>\n",
       "    </tr>\n",
       "    <tr>\n",
       "      <th>201904</th>\n",
       "      <td>160510000</td>\n",
       "    </tr>\n",
       "    <tr>\n",
       "      <th>201905</th>\n",
       "      <td>155420000</td>\n",
       "    </tr>\n",
       "    <tr>\n",
       "      <th>201906</th>\n",
       "      <td>164030000</td>\n",
       "    </tr>\n",
       "    <tr>\n",
       "      <th>201907</th>\n",
       "      <td>170620000</td>\n",
       "    </tr>\n",
       "  </tbody>\n",
       "</table>\n",
       "</div>"
      ],
      "text/plain": [
       "                   price\n",
       "payment_month           \n",
       "201902         160185000\n",
       "201903         160370000\n",
       "201904         160510000\n",
       "201905         155420000\n",
       "201906         164030000\n",
       "201907         170620000"
      ]
     },
     "execution_count": 27,
     "metadata": {},
     "output_type": "execute_result"
    }
   ],
   "source": [
    "# 월별 매출 합계 계산\n",
    "join_data.groupby(['payment_month'])[['price']].sum()"
   ]
  },
  {
   "cell_type": "markdown",
   "metadata": {},
   "source": [
    "- 5월에 매출이 감소했지만, 6월과 7월에 회복함\n",
    "- 반년동안 가장 매출이 높은 달은 7월\n",
    "- 한 달에 약 1억 6천만원 정도의 매출 -> 연간 20억원 정도의 매출이 예상됨"
   ]
  },
  {
   "cell_type": "markdown",
   "metadata": {},
   "source": [
    "## 월별 상품별 개수,매출 합"
   ]
  },
  {
   "cell_type": "code",
   "execution_count": 28,
   "metadata": {
    "ExecuteTime": {
     "end_time": "2021-10-08T14:49:18.466056Z",
     "start_time": "2021-10-08T14:49:18.398239Z"
    }
   },
   "outputs": [
    {
     "data": {
      "text/html": [
       "<div>\n",
       "<style scoped>\n",
       "    .dataframe tbody tr th:only-of-type {\n",
       "        vertical-align: middle;\n",
       "    }\n",
       "\n",
       "    .dataframe tbody tr th {\n",
       "        vertical-align: top;\n",
       "    }\n",
       "\n",
       "    .dataframe thead th {\n",
       "        text-align: right;\n",
       "    }\n",
       "</style>\n",
       "<table border=\"1\" class=\"dataframe\">\n",
       "  <thead>\n",
       "    <tr style=\"text-align: right;\">\n",
       "      <th></th>\n",
       "      <th></th>\n",
       "      <th>quantity</th>\n",
       "      <th>price</th>\n",
       "    </tr>\n",
       "    <tr>\n",
       "      <th>payment_month</th>\n",
       "      <th>item_name</th>\n",
       "      <th></th>\n",
       "      <th></th>\n",
       "    </tr>\n",
       "  </thead>\n",
       "  <tbody>\n",
       "    <tr>\n",
       "      <th rowspan=\"5\" valign=\"top\">201902</th>\n",
       "      <th>PC-A</th>\n",
       "      <td>483</td>\n",
       "      <td>24150000</td>\n",
       "    </tr>\n",
       "    <tr>\n",
       "      <th>PC-B</th>\n",
       "      <td>297</td>\n",
       "      <td>25245000</td>\n",
       "    </tr>\n",
       "    <tr>\n",
       "      <th>PC-C</th>\n",
       "      <td>165</td>\n",
       "      <td>19800000</td>\n",
       "    </tr>\n",
       "    <tr>\n",
       "      <th>PC-D</th>\n",
       "      <td>173</td>\n",
       "      <td>31140000</td>\n",
       "    </tr>\n",
       "    <tr>\n",
       "      <th>PC-E</th>\n",
       "      <td>285</td>\n",
       "      <td>59850000</td>\n",
       "    </tr>\n",
       "    <tr>\n",
       "      <th rowspan=\"5\" valign=\"top\">201903</th>\n",
       "      <th>PC-A</th>\n",
       "      <td>520</td>\n",
       "      <td>26000000</td>\n",
       "    </tr>\n",
       "    <tr>\n",
       "      <th>PC-B</th>\n",
       "      <td>300</td>\n",
       "      <td>25500000</td>\n",
       "    </tr>\n",
       "    <tr>\n",
       "      <th>PC-C</th>\n",
       "      <td>159</td>\n",
       "      <td>19080000</td>\n",
       "    </tr>\n",
       "    <tr>\n",
       "      <th>PC-D</th>\n",
       "      <td>143</td>\n",
       "      <td>25740000</td>\n",
       "    </tr>\n",
       "    <tr>\n",
       "      <th>PC-E</th>\n",
       "      <td>305</td>\n",
       "      <td>64050000</td>\n",
       "    </tr>\n",
       "    <tr>\n",
       "      <th rowspan=\"5\" valign=\"top\">201904</th>\n",
       "      <th>PC-A</th>\n",
       "      <td>518</td>\n",
       "      <td>25900000</td>\n",
       "    </tr>\n",
       "    <tr>\n",
       "      <th>PC-B</th>\n",
       "      <td>276</td>\n",
       "      <td>23460000</td>\n",
       "    </tr>\n",
       "    <tr>\n",
       "      <th>PC-C</th>\n",
       "      <td>183</td>\n",
       "      <td>21960000</td>\n",
       "    </tr>\n",
       "    <tr>\n",
       "      <th>PC-D</th>\n",
       "      <td>135</td>\n",
       "      <td>24300000</td>\n",
       "    </tr>\n",
       "    <tr>\n",
       "      <th>PC-E</th>\n",
       "      <td>309</td>\n",
       "      <td>64890000</td>\n",
       "    </tr>\n",
       "    <tr>\n",
       "      <th rowspan=\"5\" valign=\"top\">201905</th>\n",
       "      <th>PC-A</th>\n",
       "      <td>497</td>\n",
       "      <td>24850000</td>\n",
       "    </tr>\n",
       "    <tr>\n",
       "      <th>PC-B</th>\n",
       "      <td>298</td>\n",
       "      <td>25330000</td>\n",
       "    </tr>\n",
       "    <tr>\n",
       "      <th>PC-C</th>\n",
       "      <td>171</td>\n",
       "      <td>20520000</td>\n",
       "    </tr>\n",
       "    <tr>\n",
       "      <th>PC-D</th>\n",
       "      <td>144</td>\n",
       "      <td>25920000</td>\n",
       "    </tr>\n",
       "    <tr>\n",
       "      <th>PC-E</th>\n",
       "      <td>280</td>\n",
       "      <td>58800000</td>\n",
       "    </tr>\n",
       "    <tr>\n",
       "      <th rowspan=\"5\" valign=\"top\">201906</th>\n",
       "      <th>PC-A</th>\n",
       "      <td>520</td>\n",
       "      <td>26000000</td>\n",
       "    </tr>\n",
       "    <tr>\n",
       "      <th>PC-B</th>\n",
       "      <td>282</td>\n",
       "      <td>23970000</td>\n",
       "    </tr>\n",
       "    <tr>\n",
       "      <th>PC-C</th>\n",
       "      <td>182</td>\n",
       "      <td>21840000</td>\n",
       "    </tr>\n",
       "    <tr>\n",
       "      <th>PC-D</th>\n",
       "      <td>160</td>\n",
       "      <td>28800000</td>\n",
       "    </tr>\n",
       "    <tr>\n",
       "      <th>PC-E</th>\n",
       "      <td>302</td>\n",
       "      <td>63420000</td>\n",
       "    </tr>\n",
       "    <tr>\n",
       "      <th rowspan=\"5\" valign=\"top\">201907</th>\n",
       "      <th>PC-A</th>\n",
       "      <td>505</td>\n",
       "      <td>25250000</td>\n",
       "    </tr>\n",
       "    <tr>\n",
       "      <th>PC-B</th>\n",
       "      <td>332</td>\n",
       "      <td>28220000</td>\n",
       "    </tr>\n",
       "    <tr>\n",
       "      <th>PC-C</th>\n",
       "      <td>162</td>\n",
       "      <td>19440000</td>\n",
       "    </tr>\n",
       "    <tr>\n",
       "      <th>PC-D</th>\n",
       "      <td>145</td>\n",
       "      <td>26100000</td>\n",
       "    </tr>\n",
       "    <tr>\n",
       "      <th>PC-E</th>\n",
       "      <td>341</td>\n",
       "      <td>71610000</td>\n",
       "    </tr>\n",
       "  </tbody>\n",
       "</table>\n",
       "</div>"
      ],
      "text/plain": [
       "                         quantity     price\n",
       "payment_month item_name                    \n",
       "201902        PC-A            483  24150000\n",
       "              PC-B            297  25245000\n",
       "              PC-C            165  19800000\n",
       "              PC-D            173  31140000\n",
       "              PC-E            285  59850000\n",
       "201903        PC-A            520  26000000\n",
       "              PC-B            300  25500000\n",
       "              PC-C            159  19080000\n",
       "              PC-D            143  25740000\n",
       "              PC-E            305  64050000\n",
       "201904        PC-A            518  25900000\n",
       "              PC-B            276  23460000\n",
       "              PC-C            183  21960000\n",
       "              PC-D            135  24300000\n",
       "              PC-E            309  64890000\n",
       "201905        PC-A            497  24850000\n",
       "              PC-B            298  25330000\n",
       "              PC-C            171  20520000\n",
       "              PC-D            144  25920000\n",
       "              PC-E            280  58800000\n",
       "201906        PC-A            520  26000000\n",
       "              PC-B            282  23970000\n",
       "              PC-C            182  21840000\n",
       "              PC-D            160  28800000\n",
       "              PC-E            302  63420000\n",
       "201907        PC-A            505  25250000\n",
       "              PC-B            332  28220000\n",
       "              PC-C            162  19440000\n",
       "              PC-D            145  26100000\n",
       "              PC-E            341  71610000"
      ]
     },
     "execution_count": 28,
     "metadata": {},
     "output_type": "execute_result"
    }
   ],
   "source": [
    "join_data.groupby(['payment_month','item_name'])[['quantity','price']].sum()"
   ]
  },
  {
   "cell_type": "markdown",
   "metadata": {},
   "source": [
    "- 직관적 이해 조금 어려움 -> pivot table로 다시 집계"
   ]
  },
  {
   "cell_type": "code",
   "execution_count": 29,
   "metadata": {
    "ExecuteTime": {
     "end_time": "2021-10-08T14:49:18.544858Z",
     "start_time": "2021-10-08T14:49:18.472041Z"
    }
   },
   "outputs": [
    {
     "data": {
      "text/html": [
       "<div>\n",
       "<style scoped>\n",
       "    .dataframe tbody tr th:only-of-type {\n",
       "        vertical-align: middle;\n",
       "    }\n",
       "\n",
       "    .dataframe tbody tr th {\n",
       "        vertical-align: top;\n",
       "    }\n",
       "\n",
       "    .dataframe thead tr th {\n",
       "        text-align: left;\n",
       "    }\n",
       "\n",
       "    .dataframe thead tr:last-of-type th {\n",
       "        text-align: right;\n",
       "    }\n",
       "</style>\n",
       "<table border=\"1\" class=\"dataframe\">\n",
       "  <thead>\n",
       "    <tr>\n",
       "      <th></th>\n",
       "      <th colspan=\"6\" halign=\"left\">price</th>\n",
       "      <th colspan=\"6\" halign=\"left\">quantity</th>\n",
       "    </tr>\n",
       "    <tr>\n",
       "      <th>payment_month</th>\n",
       "      <th>201902</th>\n",
       "      <th>201903</th>\n",
       "      <th>201904</th>\n",
       "      <th>201905</th>\n",
       "      <th>201906</th>\n",
       "      <th>201907</th>\n",
       "      <th>201902</th>\n",
       "      <th>201903</th>\n",
       "      <th>201904</th>\n",
       "      <th>201905</th>\n",
       "      <th>201906</th>\n",
       "      <th>201907</th>\n",
       "    </tr>\n",
       "    <tr>\n",
       "      <th>item_name</th>\n",
       "      <th></th>\n",
       "      <th></th>\n",
       "      <th></th>\n",
       "      <th></th>\n",
       "      <th></th>\n",
       "      <th></th>\n",
       "      <th></th>\n",
       "      <th></th>\n",
       "      <th></th>\n",
       "      <th></th>\n",
       "      <th></th>\n",
       "      <th></th>\n",
       "    </tr>\n",
       "  </thead>\n",
       "  <tbody>\n",
       "    <tr>\n",
       "      <th>PC-A</th>\n",
       "      <td>24150000</td>\n",
       "      <td>26000000</td>\n",
       "      <td>25900000</td>\n",
       "      <td>24850000</td>\n",
       "      <td>26000000</td>\n",
       "      <td>25250000</td>\n",
       "      <td>483</td>\n",
       "      <td>520</td>\n",
       "      <td>518</td>\n",
       "      <td>497</td>\n",
       "      <td>520</td>\n",
       "      <td>505</td>\n",
       "    </tr>\n",
       "    <tr>\n",
       "      <th>PC-B</th>\n",
       "      <td>25245000</td>\n",
       "      <td>25500000</td>\n",
       "      <td>23460000</td>\n",
       "      <td>25330000</td>\n",
       "      <td>23970000</td>\n",
       "      <td>28220000</td>\n",
       "      <td>297</td>\n",
       "      <td>300</td>\n",
       "      <td>276</td>\n",
       "      <td>298</td>\n",
       "      <td>282</td>\n",
       "      <td>332</td>\n",
       "    </tr>\n",
       "    <tr>\n",
       "      <th>PC-C</th>\n",
       "      <td>19800000</td>\n",
       "      <td>19080000</td>\n",
       "      <td>21960000</td>\n",
       "      <td>20520000</td>\n",
       "      <td>21840000</td>\n",
       "      <td>19440000</td>\n",
       "      <td>165</td>\n",
       "      <td>159</td>\n",
       "      <td>183</td>\n",
       "      <td>171</td>\n",
       "      <td>182</td>\n",
       "      <td>162</td>\n",
       "    </tr>\n",
       "    <tr>\n",
       "      <th>PC-D</th>\n",
       "      <td>31140000</td>\n",
       "      <td>25740000</td>\n",
       "      <td>24300000</td>\n",
       "      <td>25920000</td>\n",
       "      <td>28800000</td>\n",
       "      <td>26100000</td>\n",
       "      <td>173</td>\n",
       "      <td>143</td>\n",
       "      <td>135</td>\n",
       "      <td>144</td>\n",
       "      <td>160</td>\n",
       "      <td>145</td>\n",
       "    </tr>\n",
       "    <tr>\n",
       "      <th>PC-E</th>\n",
       "      <td>59850000</td>\n",
       "      <td>64050000</td>\n",
       "      <td>64890000</td>\n",
       "      <td>58800000</td>\n",
       "      <td>63420000</td>\n",
       "      <td>71610000</td>\n",
       "      <td>285</td>\n",
       "      <td>305</td>\n",
       "      <td>309</td>\n",
       "      <td>280</td>\n",
       "      <td>302</td>\n",
       "      <td>341</td>\n",
       "    </tr>\n",
       "  </tbody>\n",
       "</table>\n",
       "</div>"
      ],
      "text/plain": [
       "                  price                                                    \\\n",
       "payment_month    201902    201903    201904    201905    201906    201907   \n",
       "item_name                                                                   \n",
       "PC-A           24150000  26000000  25900000  24850000  26000000  25250000   \n",
       "PC-B           25245000  25500000  23460000  25330000  23970000  28220000   \n",
       "PC-C           19800000  19080000  21960000  20520000  21840000  19440000   \n",
       "PC-D           31140000  25740000  24300000  25920000  28800000  26100000   \n",
       "PC-E           59850000  64050000  64890000  58800000  63420000  71610000   \n",
       "\n",
       "              quantity                                     \n",
       "payment_month   201902 201903 201904 201905 201906 201907  \n",
       "item_name                                                  \n",
       "PC-A               483    520    518    497    520    505  \n",
       "PC-B               297    300    276    298    282    332  \n",
       "PC-C               165    159    183    171    182    162  \n",
       "PC-D               173    143    135    144    160    145  \n",
       "PC-E               285    305    309    280    302    341  "
      ]
     },
     "execution_count": 29,
     "metadata": {},
     "output_type": "execute_result"
    }
   ],
   "source": [
    "pd.pivot_table(join_data, index='item_name', columns='payment_month', values=['price','quantity'], aggfunc='sum')"
   ]
  },
  {
   "cell_type": "markdown",
   "metadata": {},
   "source": [
    "- 매출 합계는 PC-E(가장 비싼 모델)가 가장 높지만, 개수는 PC-A(가장 싼 모델)가 가장 많음\n",
    "- 앞서 살펴본 월별 추세에 5월 매출이 감소하는 경향을 보임\n",
    "    - 5월에 PC-B, PC-D 매출이 증가했지만, 큰 매출을 차지하는 PC-E의 매출이 많이 감소한 것이 영향을 미친 것 같음\n",
    "- 6,7월에 매출이 회복하는 경향을 보였었음\n",
    "    - 6,7월 PC-E의 매출이 크게 상승한 영향을 받은 것 같음"
   ]
  },
  {
   "cell_type": "code",
   "execution_count": 30,
   "metadata": {
    "ExecuteTime": {
     "end_time": "2021-10-08T14:49:19.034681Z",
     "start_time": "2021-10-08T14:49:18.550831Z"
    },
    "scrolled": false
   },
   "outputs": [
    {
     "data": {
      "text/plain": [
       "<matplotlib.axes._subplots.AxesSubplot at 0x23c430f7940>"
      ]
     },
     "execution_count": 30,
     "metadata": {},
     "output_type": "execute_result"
    },
    {
     "data": {
      "image/png": "[encoded data removed]",
      "text/plain": [
       "<Figure size 504x360 with 1 Axes>"
      ]
     },
     "metadata": {
      "needs_background": "light"
     },
     "output_type": "display_data"
    }
   ],
   "source": [
    "# 월별 상품별 매출합 시각화\n",
    "graph_data = join_data.groupby(['payment_month','item_name'])[['price']].sum().reset_index()\n",
    "\n",
    "plt.figure(figsize=(7,5))\n",
    "sns.set_style('ticks')\n",
    "sns.lineplot(data=graph_data, x='payment_month', y='price', hue='item_name')"
   ]
  },
  {
   "cell_type": "markdown",
   "metadata": {},
   "source": [
    "- PC-E가 매출을 견인하는 주요 모델임"
   ]
  },
  {
   "cell_type": "code",
   "execution_count": null,
   "metadata": {},
   "outputs": [],
   "source": []
  }
 ],
 "metadata": {
  "kernelspec": {
   "display_name": "Python 3",
   "language": "python",
   "name": "python3"
  },
  "language_info": {
   "codemirror_mode": {
    "name": "ipython",
    "version": 3
   },
   "file_extension": ".py",
   "mimetype": "text/x-python",
   "name": "python",
   "nbconvert_exporter": "python",
   "pygments_lexer": "ipython3",
   "version": "3.8.3"
  },
  "toc": {
   "base_numbering": 1,
   "nav_menu": {},
   "number_sections": true,
   "sideBar": true,
   "skip_h1_title": false,
   "title_cell": "Table of Contents",
   "title_sidebar": "Contents",
   "toc_cell": true,
   "toc_position": {},
   "toc_section_display": true,
   "toc_window_display": false
  }
 },
 "nbformat": 4,
 "nbformat_minor": 4
}
