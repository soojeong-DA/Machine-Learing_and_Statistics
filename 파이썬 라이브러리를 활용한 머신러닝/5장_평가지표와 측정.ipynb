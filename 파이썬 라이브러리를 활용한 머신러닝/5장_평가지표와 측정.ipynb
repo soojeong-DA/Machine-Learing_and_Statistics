{
 "cells": [
  {
   "cell_type": "code",
   "execution_count": 1,
   "metadata": {
    "ExecuteTime": {
     "end_time": "2021-01-18T11:16:07.315964Z",
     "start_time": "2021-01-18T11:16:03.486989Z"
    }
   },
   "outputs": [],
   "source": [
    "import pandas as pd\n",
    "import numpy as np\n",
    "import matplotlib\n",
    "import matplotlib.pyplot as plt\n",
    "import seaborn as sns\n",
    "\n",
    "# 그래프 한글 폰트\n",
    "from matplotlib import font_manager, rc\n",
    "font_name = font_manager.FontProperties(fname=\"c:/Windows/Fonts/malgun.ttf\").get_name()\n",
    "rc('font', family=font_name)\n",
    "\n",
    "# 그래프 마이너스 폰트 깨지는 문제 대처\n",
    "import matplotlib as mpl\n",
    "mpl.rcParams['axes.unicode_minus'] = False\n",
    "\n",
    "import mglearn"
   ]
  },
  {
   "cell_type": "markdown",
   "metadata": {},
   "source": [
    "평가지표    \n",
    "- 모델을 선택하고, 매개변수를 튜닝할 때 올바른 지표를 선택하는 것이 중요\n",
    "- 평가 지표를 선택할 때 머신러닝 애플리케이션의 최종 목표(고차원적인 목표)를 기억해야 함\n",
    "    - 원래 비즈니스 목적에 가장 가까운 지표를 찾아야 함\n",
    "    - 평가의 결과는 하나의 숫자가 아닐 수 있지만, 선택한 모델의 예상 비즈니스 임팩트를 나타내야함\n",
    "        - 비즈니스 임팩트: 어떤 머신러닝 애플리케이션에서 특정 알고리즘을 선택하여 나타난 결과\n",
    "        - ex. 어떤 알고리즘을 적용하면 고객 수는 10% 늘지만, 고객당 매출은 15% 줄어들 수 있음"
   ]
  },
  {
   "cell_type": "markdown",
   "metadata": {},
   "source": [
    "# 이진 분류의 평가 지표\n",
    "- 이진 분류에는 양성 클래스와 음성 클래스가 있으며, 양성 클래스가 우리의 관심 클래스임"
   ]
  },
  {
   "cell_type": "markdown",
   "metadata": {},
   "source": [
    "## Error의 종류\n",
    "- 정확도만으로 예측 성능을 측정하기에는 부족할 때가 종종 있음\n",
    "- 어떤 애플리케이션에서든 이런 분류 오류가 실제 현실에서 어떤 결과를 초래하는 지 살펴봐야 함"
   ]
  },
  {
   "cell_type": "markdown",
   "metadata": {},
   "source": [
    "두 종류의 에러    (F붙은건 앞(P/N)에 반대인 것으로 생각하면 쉬움)\n",
    "암 진단 예시 - 양성(암), 음성(건강)\n",
    "1. 거짓 양성(False Positive, FP) \n",
    "    - 잘못된 양성 예측 (통계학에서는 type 1 error)\n",
    "    - 건강한 사람을 양성으로 분류하면 추가 검사를 받게함 -> 환자에게 비용 손실과 불편함을 가져다줌\n",
    "\n",
    "2. **거짓 음성(False Negetive, FN)**\n",
    "    - 잘못된 음성 예측 오류 (통계학에서는 type 2 error)\n",
    "    - 암에 걸린 사람을 음성으로 분류하여, 제대로 된 검사나 치료를 받지 못하게 함 -> 건강에 심각한 위협을 가하며, 치명적일 수 있음\n",
    "\n",
    "=> 암 진단 예시에서는 **거짓 음성**을 최대한 피야하며, 거짓 양성은 비교적 중요도가 낮음\n",
    "\n",
    "- 이 예시는 극단적인 예이지만, 일반적으로도 거짓음성/거짓양성의 중요도가 차이가 나는 경우가 많음\n",
    "- 상업적 애플리케이션에서는 두 오류를 비용으로 환산하여, 예측 오류로 인한 금전적 손해를 측정한 값을 정확도 대신 사용하기도 함"
   ]
  },
  {
   "cell_type": "markdown",
   "metadata": {},
   "source": [
    "## 불균형 데이터셋\n",
    "- 두 종류의 에러(거짓 양성/거짓 음성)는 한 클래스가 다른 것보다 훨씬 많은 **불균형 데이터셋일 때 더 중요함**\n",
    "    - 현실에서 불균형 데이터가 훨씬 많으며, 관심 대상인 이벤트의 빈도가 그렇지 않은 이벤트와 비슷한 경우는 드뭄\n",
    "    - ex. 광고 노출 시 클릭 예측 -> 100개 data 중 '클릭 X' 99개, '클릭' 1개 -> 모두 클릭 아님으로 예측해도 정확도가 99%가 됨;"
   ]
  },
  {
   "cell_type": "code",
   "execution_count": 2,
   "metadata": {
    "ExecuteTime": {
     "end_time": "2021-01-18T11:16:07.484470Z",
     "start_time": "2021-01-18T11:16:07.315964Z"
    }
   },
   "outputs": [],
   "source": [
    "# digits data set - 숫자 9를 다른 숫자(0~8)와 구분해서 9:1의 불균현 데이터셋 생성\n",
    "from sklearn.datasets import load_digits\n",
    "from sklearn.model_selection import train_test_split\n",
    "\n",
    "digits = load_digits()\n",
    "y = digits.target == 9    # y값 True/False\n",
    "\n",
    "X_train, X_test, y_train, y_test = train_test_split(digits.data, y, random_state=0)"
   ]
  },
  {
   "cell_type": "code",
   "execution_count": 3,
   "metadata": {
    "ExecuteTime": {
     "end_time": "2021-01-18T11:16:07.510307Z",
     "start_time": "2021-01-18T11:16:07.487336Z"
    }
   },
   "outputs": [
    {
     "name": "stdout",
     "output_type": "stream",
     "text": [
      "예측된 유니크 레이블:  [False]\n",
      "테스트 점수: 0.90\n"
     ]
    }
   ],
   "source": [
    "# DummyClassifier - 실제 모델과 비교하기 위해 간단한 규칙을 지원하는 모델\n",
    "# strategy 옵션 - most_frequent(가장 많은 레이블 예측)으로 설정\n",
    "from sklearn.dummy import DummyClassifier\n",
    "\n",
    "dummy_majority = DummyClassifier(strategy='most_frequent').fit(X_train, y_train)\n",
    "pred_most_frequent = dummy_majority.predict(X_test)\n",
    "print('예측된 유니크 레이블: ', np.unique(pred_most_frequent))\n",
    "print('테스트 점수: {:.2f}'.format(dummy_majority.score(X_test, y_test)))"
   ]
  },
  {
   "cell_type": "markdown",
   "metadata": {},
   "source": [
    "- 거의 아무것도 학습하지 않고 90% 정확도를 얻음"
   ]
  },
  {
   "cell_type": "code",
   "execution_count": 4,
   "metadata": {
    "ExecuteTime": {
     "end_time": "2021-01-18T11:16:07.536206Z",
     "start_time": "2021-01-18T11:16:07.515265Z"
    }
   },
   "outputs": [
    {
     "name": "stdout",
     "output_type": "stream",
     "text": [
      "테스트 점수: 0.92\n"
     ]
    }
   ],
   "source": [
    "# 실제 분류기 사용\n",
    "from sklearn.tree import DecisionTreeClassifier\n",
    "tree = DecisionTreeClassifier(max_depth=2).fit(X_train, y_train)\n",
    "pred_tree = tree.predict(X_test)\n",
    "print('테스트 점수: {:.2f}'.format(tree.score(X_test, y_test)))"
   ]
  },
  {
   "cell_type": "markdown",
   "metadata": {},
   "source": [
    "- 정확도로 보면 결정트리가 더미 분류기보다 조금 나을 뿐\n",
    "    - 이는 결정트리를 잘못 사용했거나, 이 문제에서는 정확도가 높은 측정 방법이 아님을 말해줌"
   ]
  },
  {
   "cell_type": "code",
   "execution_count": 5,
   "metadata": {
    "ExecuteTime": {
     "end_time": "2021-01-18T11:16:07.696792Z",
     "start_time": "2021-01-18T11:16:07.539197Z"
    }
   },
   "outputs": [
    {
     "name": "stdout",
     "output_type": "stream",
     "text": [
      "dummy 점수: 0.82\n",
      "logreg 점수: 0.98\n"
     ]
    },
    {
     "name": "stderr",
     "output_type": "stream",
     "text": [
      "C:\\Users\\qkrwl\\anaconda3\\lib\\site-packages\\sklearn\\dummy.py:131: FutureWarning: The default value of strategy will change from stratified to prior in 0.24.\n",
      "  warnings.warn(\"The default value of strategy will change from \"\n",
      "C:\\Users\\qkrwl\\anaconda3\\lib\\site-packages\\sklearn\\linear_model\\_logistic.py:762: ConvergenceWarning: lbfgs failed to converge (status=1):\n",
      "STOP: TOTAL NO. of ITERATIONS REACHED LIMIT.\n",
      "\n",
      "Increase the number of iterations (max_iter) or scale the data as shown in:\n",
      "    https://scikit-learn.org/stable/modules/preprocessing.html\n",
      "Please also refer to the documentation for alternative solver options:\n",
      "    https://scikit-learn.org/stable/modules/linear_model.html#logistic-regression\n",
      "  n_iter_i = _check_optimize_result(\n"
     ]
    }
   ],
   "source": [
    "# 로지스틱 회귀, 더미 분류기 비교\n",
    "from sklearn.linear_model import LogisticRegression\n",
    "\n",
    "dummy = DummyClassifier().fit(X_train, y_train)\n",
    "pred_dummy = dummy.predict(X_test)\n",
    "print('dummy 점수: {:.2f}'.format(dummy.score(X_test, y_test)))\n",
    "\n",
    "logreg = LogisticRegression(C=0.1).fit(X_train, y_train)\n",
    "pred_logreg = logreg.predict(X_test)\n",
    "print('logreg 점수: {:.2f}'.format(logreg.score(X_test, y_test)))"
   ]
  },
  {
   "cell_type": "markdown",
   "metadata": {},
   "source": [
    "- 정확도만으로는 결과가 실제로 유용한 것인지 판단하기 매우 어려움\n",
    "    - 불균형 데이터셋에서 예측 성능을 정량화하는 데 정확도는 적절한 측정 방법이 아니기 때문\n",
    "- 빈도나 무작위 기반 예측보다 얼마나 더 나은지 알려주는 평가 지표가 필요함\n",
    "     - 모델을 평가하는 지표라면 이런 비상식적인 예측은 피할 수 있어야함!"
   ]
  },
  {
   "cell_type": "markdown",
   "metadata": {},
   "source": [
    "## 오차 행렬(confusion matrix)\n",
    "- 오차 행렬은 이진 분류 평가 결과를 나타낼 때 가장 널리 사용하는 방법 중 하나\n",
    "- confusion_matrix 함수 사용\n",
    "    - 출력은 2 X 2 배열\n",
    "    - 행은 정답 클래스에 해당\n",
    "    - 열은 예측 클래스에 해당\n",
    "    - confusion_matrix(y_test, pred)\n",
    "- 오차 행렬의 대각 행렬 [i,i]은 정확히 분류된 경우\n",
    "    - 진짜 양성(True Positive, TP): 양성 클래스로 올바르게 분류한 샘플\n",
    "    - 진짜 음성(True Negetive, TN): 음성 클래스로 정확하게 분류한 샘플\n",
    "- 다른 항목은 한 클래스의 샘플들이 다른 클래스로 잘못 분류된 경우\n"
   ]
  },
  {
   "cell_type": "code",
   "execution_count": 6,
   "metadata": {
    "ExecuteTime": {
     "end_time": "2021-01-18T11:16:07.885305Z",
     "start_time": "2021-01-18T11:16:07.699769Z"
    }
   },
   "outputs": [
    {
     "data": {
      "image/png": "[encoded data removed]",
      "text/plain": [
       "<Figure size 432x288 with 1 Axes>"
      ]
     },
     "metadata": {
      "needs_background": "light"
     },
     "output_type": "display_data"
    }
   ],
   "source": [
    "mglearn.plots.plot_binary_confusion_matrix()"
   ]
  },
  {
   "cell_type": "code",
   "execution_count": 7,
   "metadata": {
    "ExecuteTime": {
     "end_time": "2021-01-18T11:16:07.900233Z",
     "start_time": "2021-01-18T11:16:07.888264Z"
    }
   },
   "outputs": [
    {
     "name": "stdout",
     "output_type": "stream",
     "text": [
      "오차 행렬:\n",
      " [[402   1]\n",
      " [  6  41]]\n"
     ]
    }
   ],
   "source": [
    "from sklearn.metrics import confusion_matrix\n",
    "\n",
    "confusion = confusion_matrix(y_test, pred_logreg)\n",
    "print('오차 행렬:\\n', confusion)"
   ]
  },
  {
   "cell_type": "code",
   "execution_count": 8,
   "metadata": {
    "ExecuteTime": {
     "end_time": "2021-01-18T11:16:08.073771Z",
     "start_time": "2021-01-18T11:16:07.905222Z"
    }
   },
   "outputs": [
    {
     "data": {
      "image/png": "[encoded data removed]",
      "text/plain": [
       "<Figure size 576x576 with 1 Axes>"
      ]
     },
     "metadata": {
      "needs_background": "light"
     },
     "output_type": "display_data"
    }
   ],
   "source": [
    "mglearn.plots.plot_confusion_matrix_illustration()"
   ]
  },
  {
   "cell_type": "code",
   "execution_count": 9,
   "metadata": {
    "ExecuteTime": {
     "end_time": "2021-01-18T11:16:08.110979Z",
     "start_time": "2021-01-18T11:16:08.077532Z"
    }
   },
   "outputs": [
    {
     "name": "stdout",
     "output_type": "stream",
     "text": [
      "빈도 기반 더미 모델:\n",
      "[[403   0]\n",
      " [ 47   0]]\n",
      "\n",
      "무작위 더미 모델:\n",
      "[[355  48]\n",
      " [ 44   3]]\n",
      "\n",
      "결정 트리:\n",
      "[[390  13]\n",
      " [ 24  23]]\n",
      "\n",
      "로지스틱 회귀:\n",
      "[[402   1]\n",
      " [  6  41]]\n"
     ]
    }
   ],
   "source": [
    "# 오차 행렬을 사용하여, 앞서 만든 모델들 비교\n",
    "print('빈도 기반 더미 모델:')\n",
    "print(confusion_matrix(y_test, pred_most_frequent))\n",
    "print('\\n무작위 더미 모델:')\n",
    "print(confusion_matrix(y_test, pred_dummy))\n",
    "print('\\n결정 트리:')\n",
    "print(confusion_matrix(y_test, pred_tree))\n",
    "print('\\n로지스틱 회귀:')\n",
    "print(confusion_matrix(y_test, pred_logreg))"
   ]
  },
  {
   "cell_type": "markdown",
   "metadata": {},
   "source": [
    "- pred_most_frequent, pred_dummy는 잘못된 것이 확실함\n",
    "- 결정 트리의 예측은 더미 분류기보다 정상으로 보이지만, 정확도는 거의 비슷\n",
    "- 로지스틱 회귀는 모든 면에서 결정 트리 예측보다 나음\n",
    "    - 진짜 양성과 진짜 거짓이 더 많고, 거짓 양성과 거짓 음성은 적음"
   ]
  },
  {
   "cell_type": "markdown",
   "metadata": {},
   "source": [
    "- **오차 행열의 모든 면을 살펴보면 많은 정보를 얻을 수 있음**\n",
    "- 하지만, **매우 수동적이며 정성적인 방법**\n",
    "-> 오차 행렬 정보를 **요약**할 수 있는 여러 방법 알아보자!"
   ]
  },
  {
   "cell_type": "markdown",
   "metadata": {},
   "source": [
    "## 오차 행렬 정보/결과 요약하는 방법\n",
    "1. 정확도\n",
    "    - 정확히 예측한 수(TP, TN)를 전체 샘플 수(TP,TN,FP,FN)로 나눈 것\n",
    "2. 정밀도 - precision (양성 예측도, PPV)\n",
    "    - **양성으로 예측된 것(TP, FP)** 중 얼마나 많은 **샘플이 진짜 양성(TP)**인지 측정\n",
    "    - **거짓 양성(FP)의 수를 줄이는 것이 목표**일 때 성능 지표로 사용됨\n",
    "        - ex. 임상시험 비쌈. 단 한 번의 실험으로 신약의 효과 검증하기를 원함 -> 모델이 거짓 양성(FP, 효과가 없는데 효과가 있다고 나타난 경우)을 많이 만들지 않는 것이 중요\n",
    "3. 재현율 - recall (민감도, 적중률, 진짜 양성 비율 TPR)\n",
    "    - **전체 양성 샘플(TP, FN <- 진짜 양성 샘플들)** 중에서 얼마나 많은 샘플이 **양성 클리스(TP)로 분류/예측 되는지** 측정\n",
    "    - **모든 양성 샘플을 식별해야 할 때** 성능 지표로 사용 <- **거짓 음성(FN)을 피하는 게 중요할 때** \n",
    "        - ex. 암 진단에서, 건강한 사람이 일부 포함되더라도, 암에 걸린 사람을 빠짐없이 찾는 것이 중요     \n",
    "            \n",
    "=> 하지만, 재현율 최적화와 정밀도 최적화는 **상충함**   \n",
    "=> **둘 중 하나 만으로는 전체 그림을 볼 수 없음**  \n",
    "4. f1-score\n",
    "    - 정밀도와 재현율의 조화 평균인 f-점수(f1-score)는 **이 둘을 하나로 요약**해줌\n",
    "    - 정밀도와 재현율을 **같이 고려**하므로, **불균형한 이진 분류 데이터셋에서는 정확도보다 더 나은 지표가 될 수 있음**\n",
    "    - f1-score를 사용해 평가하면, **예측 성능이 다시 하나의 숫자로 요약됨**\n",
    "    - 하지만, f1-score는 정확도보다 이해하거나 설명하기 어렵다는 게 단점"
   ]
  },
  {
   "cell_type": "code",
   "execution_count": 10,
   "metadata": {
    "ExecuteTime": {
     "end_time": "2021-01-18T11:16:08.137907Z",
     "start_time": "2021-01-18T11:16:08.113971Z"
    }
   },
   "outputs": [
    {
     "name": "stdout",
     "output_type": "stream",
     "text": [
      "빈도 기반 더미 모델의 f1 score: 0.00\n",
      "무작위 더미 모델의 f1 score: 0.06\n",
      "트리 모델의 f1 score: 0.55\n",
      "로지스틱 회귀 모델의 f1 score: 0.92\n"
     ]
    }
   ],
   "source": [
    "# digits - 9가 양성클래스로 가정한 set\n",
    "from sklearn.metrics import f1_score\n",
    "\n",
    "print('빈도 기반 더미 모델의 f1 score: {:.2f}'.format(f1_score(y_test, pred_most_frequent)))\n",
    "print('무작위 더미 모델의 f1 score: {:.2f}'.format(f1_score(y_test, pred_dummy)))\n",
    "print('트리 모델의 f1 score: {:.2f}'.format(f1_score(y_test, pred_tree)))\n",
    "print('로지스틱 회귀 모델의 f1 score: {:.2f}'.format(f1_score(y_test, pred_logreg)))"
   ]
  },
  {
   "cell_type": "markdown",
   "metadata": {},
   "source": [
    "- 무작위 더미 분류기와 트리 분류기 사이에서 정확도에는 없던 뚜렷한 차이를 볼 수 있음\n",
    "- f1-score를 사용해 평가하면, 예측 성능이 다시 하나의 숫자로 요약됨"
   ]
  },
  {
   "cell_type": "markdown",
   "metadata": {},
   "source": [
    "**classification_report 함수** - 분류 리포트\n",
    "- 정밀도, 재현율, f1-score 3개 모두를 한 번에 계산해서 깔끔하게 출력해줌\n",
    "- class마다 한 줄씩 출력을 만들고, **각 class가 양성일 때의** 정밀도, 재현율, f1-score를 리포드함\n",
    "- support는 각 클래스에 대한 지지도로, 단순히 이 class에 있는 진짜 샘플의 수\n",
    "- 마지막 3 줄은 정밀도, 재현율, f1-score의 평균을 보여줌\n",
    "    - macro avg는 단순히 class별 점수의 평균을 계산한 것\n",
    "    - weighted avg는 class의 샘플 수로 가중 평균한 것"
   ]
  },
  {
   "cell_type": "code",
   "execution_count": 11,
   "metadata": {
    "ExecuteTime": {
     "end_time": "2021-01-18T11:16:08.173811Z",
     "start_time": "2021-01-18T11:16:08.143914Z"
    }
   },
   "outputs": [
    {
     "name": "stdout",
     "output_type": "stream",
     "text": [
      "              precision    recall  f1-score   support\n",
      "\n",
      "        9 아님       0.90      1.00      0.94       403\n",
      "           9       0.00      0.00      0.00        47\n",
      "\n",
      "    accuracy                           0.90       450\n",
      "   macro avg       0.45      0.50      0.47       450\n",
      "weighted avg       0.80      0.90      0.85       450\n",
      "\n"
     ]
    },
    {
     "name": "stderr",
     "output_type": "stream",
     "text": [
      "C:\\Users\\qkrwl\\anaconda3\\lib\\site-packages\\sklearn\\metrics\\_classification.py:1221: UndefinedMetricWarning: Precision and F-score are ill-defined and being set to 0.0 in labels with no predicted samples. Use `zero_division` parameter to control this behavior.\n",
      "  _warn_prf(average, modifier, msg_start, len(result))\n"
     ]
    }
   ],
   "source": [
    "from sklearn.metrics import classification_report\n",
    "print(classification_report(y_test, pred_most_frequent, target_names=['9 아님','9']))"
   ]
  },
  {
   "cell_type": "markdown",
   "metadata": {},
   "source": [
    "- 만약 양성 클래스를 '9 아님'으로 바꾼다면, f1-socre가 0.94\n",
    "- 모든 샘플을 '9 아님'으로 분류하기 때문에, '9 아님' class의 재현율이 1인 것"
   ]
  },
  {
   "cell_type": "code",
   "execution_count": 12,
   "metadata": {
    "ExecuteTime": {
     "end_time": "2021-01-18T11:16:08.195760Z",
     "start_time": "2021-01-18T11:16:08.179806Z"
    }
   },
   "outputs": [
    {
     "name": "stdout",
     "output_type": "stream",
     "text": [
      "              precision    recall  f1-score   support\n",
      "\n",
      "        9 아님       0.89      0.88      0.89       403\n",
      "           9       0.06      0.06      0.06        47\n",
      "\n",
      "    accuracy                           0.80       450\n",
      "   macro avg       0.47      0.47      0.47       450\n",
      "weighted avg       0.80      0.80      0.80       450\n",
      "\n"
     ]
    }
   ],
   "source": [
    "print(classification_report(y_test, pred_dummy, target_names=['9 아님','9']))"
   ]
  },
  {
   "cell_type": "code",
   "execution_count": 13,
   "metadata": {
    "ExecuteTime": {
     "end_time": "2021-01-18T11:16:08.216696Z",
     "start_time": "2021-01-18T11:16:08.199742Z"
    }
   },
   "outputs": [
    {
     "name": "stdout",
     "output_type": "stream",
     "text": [
      "              precision    recall  f1-score   support\n",
      "\n",
      "        9 아님       0.94      0.97      0.95       403\n",
      "           9       0.64      0.49      0.55        47\n",
      "\n",
      "    accuracy                           0.92       450\n",
      "   macro avg       0.79      0.73      0.75       450\n",
      "weighted avg       0.91      0.92      0.91       450\n",
      "\n"
     ]
    }
   ],
   "source": [
    "print(classification_report(y_test, pred_tree, target_names=['9 아님','9']))"
   ]
  },
  {
   "cell_type": "code",
   "execution_count": 14,
   "metadata": {
    "ExecuteTime": {
     "end_time": "2021-01-18T11:16:08.237642Z",
     "start_time": "2021-01-18T11:16:08.220687Z"
    }
   },
   "outputs": [
    {
     "name": "stdout",
     "output_type": "stream",
     "text": [
      "              precision    recall  f1-score   support\n",
      "\n",
      "        9 아님       0.99      1.00      0.99       403\n",
      "           9       0.98      0.87      0.92        47\n",
      "\n",
      "    accuracy                           0.98       450\n",
      "   macro avg       0.98      0.93      0.96       450\n",
      "weighted avg       0.98      0.98      0.98       450\n",
      "\n"
     ]
    }
   ],
   "source": [
    "print(classification_report(y_test, pred_logreg, target_names=['9 아님','9']))"
   ]
  },
  {
   "cell_type": "markdown",
   "metadata": {},
   "source": [
    "- **어떤 class를 양성 class로 선택하느냐가 평가 지표에 큰 영향을 끼침**\n",
    "  - 더미 모델과 로지스틱 회귀 모델의 양성 class가 '9아님'일 경우 f1-socre가 0.89, 0.99라서 둘다 성능 좋음\n",
    "  - 하지만, 모든 숫자를 함께보면, 정확한 판단을 내릴 수 있어 로지시틱 회귀 모델의 우수성을 알 수 있음"
   ]
  },
  {
   "cell_type": "markdown",
   "metadata": {},
   "source": [
    "## 불확실성 고려 -  임계값 조정하기\n",
    "- 오차 행렬과 분류 리포트가 예측 결과를 자세히 분석할 수 있도록 도와줌\n",
    "- 하지만, 예측값은 모델에 담긴 많은 정보가 이미 손실된 상태\n",
    "    - 대부분의 분류기는 예측의 확신을 가늠하기 위한 decision_function or predict_proba 메서드 제공\n",
    "    - 예측을 만들어 내는 것은 출력의 임계값을 검증한는 것\n",
    "        - 이진 탐색에서 decision_function은 0, predict_proba는 0.5를 임계값으로 사용함\n",
    "- 결정 함수의 임계값을 바꾸면, 더 나은 결과를 쉽게 얻을 수 있음(재현율보다 정밀도가 중요 or 그 반대의 경우 or 심한 불균형 데이터일 경우)\n",
    "    - decision_funcion\n",
    "        - 기본적으로 0보다 크면 class 1로 분류 (범위가 고정되지 않은, 임의의 범위를 가짐)\n",
    "        - class 1의 재현율을 높일 때(더 많은 포인트가 class 1로 분류되려면), 임계값을 낮추면 됨\n",
    "    - predict_proba\n",
    "        - 기본적으로 양성 클래스 확률이 0.5이상일 때 양성으로 분류 (출력이 0 ~ 1 사이로 고정됨)\n",
    "        - 임계값을 높이면, 양성 클래스로 분류할 때 더 큰 확신이 있어야함(음성 클래스는 확신이 덜 필요)\n",
    "- 임계값을 선택할 때 test set을 사용하지 않도록 주의!\n",
    "    - 대신, validation set or cross-validation(교차검증) 사용하자!"
   ]
  },
  {
   "cell_type": "code",
   "execution_count": 15,
   "metadata": {
    "ExecuteTime": {
     "end_time": "2021-01-18T11:16:08.263571Z",
     "start_time": "2021-01-18T11:16:08.241629Z"
    }
   },
   "outputs": [],
   "source": [
    "# 음성 class 400개, 양성 class 50개 - 불균형 data set\n",
    "\n",
    "from sklearn.datasets import make_blobs\n",
    "from sklearn.svm import SVC\n",
    "\n",
    "X, y = make_blobs(n_samples=(400,50), cluster_std=[7.0, 2], random_state=22)\n",
    "X_train, X_test, y_train, y_test = train_test_split(X, y, random_state=0)\n",
    "\n",
    "svc = SVC(gamma=.05).fit(X_train, y_train)"
   ]
  },
  {
   "cell_type": "code",
   "execution_count": 16,
   "metadata": {
    "ExecuteTime": {
     "end_time": "2021-01-18T11:16:14.248158Z",
     "start_time": "2021-01-18T11:16:08.267559Z"
    }
   },
   "outputs": [
    {
     "data": {
      "image/png": "[encoded data removed]",
      "text/plain": [
       "<Figure size 1080x576 with 6 Axes>"
      ]
     },
     "metadata": {},
     "output_type": "display_data"
    }
   ],
   "source": [
    "# svm 결정 함수 값을 히트맵으로 나타내기\n",
    "mglearn.plots.plot_decision_threshold()"
   ]
  },
  {
   "cell_type": "markdown",
   "metadata": {},
   "source": [
    "- 결정 함수의 히트맵과 임계값 변화에 따른 영향\n",
    "- 검은 원은 decision_function이 정확히 0일 때의 임계점을 나타냄 - 원 안: 양성 class, 원 밖: 음성 class로 분류됨"
   ]
  },
  {
   "cell_type": "code",
   "execution_count": 17,
   "metadata": {
    "ExecuteTime": {
     "end_time": "2021-01-18T11:16:14.265146Z",
     "start_time": "2021-01-18T11:16:14.251155Z"
    }
   },
   "outputs": [
    {
     "name": "stdout",
     "output_type": "stream",
     "text": [
      "              precision    recall  f1-score   support\n",
      "\n",
      "           0       0.97      0.89      0.93       104\n",
      "           1       0.35      0.67      0.46         9\n",
      "\n",
      "    accuracy                           0.88       113\n",
      "   macro avg       0.66      0.78      0.70       113\n",
      "weighted avg       0.92      0.88      0.89       113\n",
      "\n"
     ]
    }
   ],
   "source": [
    "# classification_repor\n",
    "print(classification_report(y_test, svc.predict(X_test)))"
   ]
  },
  {
   "cell_type": "markdown",
   "metadata": {},
   "source": [
    "- class 1에 대해 상당히 작은 정밀도를 얻었으며, 재현율은 절반 정도임\n",
    "- **class 0의 샘플이 매우 많으므로, 분류기는 소수인 class 1보다 class 0에 초점을 맞추고 있음**"
   ]
  },
  {
   "cell_type": "markdown",
   "metadata": {},
   "source": [
    "- class 1의 재현율을 높이는 게 중요하다고 가정 -> 거짓 양성(FP)이 늘어나더라도, 진짜 양성(TP)을 늘려야함\n",
    "- 임계값을 바꿔 class 1의 재현율을 높이도록 예측 조정\n",
    "    - 기본적으로 decision_function의 값이 0보다 큰 포인트는 class 1로 분류됨\n",
    "    - 더 많은 포인트가 class 1로 분류되려면 임계값을 낮춰야함"
   ]
  },
  {
   "cell_type": "code",
   "execution_count": 18,
   "metadata": {
    "ExecuteTime": {
     "end_time": "2021-01-18T11:16:14.293164Z",
     "start_time": "2021-01-18T11:16:14.268105Z"
    },
    "scrolled": true
   },
   "outputs": [
    {
     "data": {
      "text/plain": [
       "array([-0.99973208, -1.00148617, -1.1386043 , -0.98505482, -1.01044247,\n",
       "       -1.00027441, -1.00609413,  0.88395198, -1.00467053, -1.00283866,\n",
       "       -1.00097712,  1.07030762, -1.02076344, -0.40435353, -0.48739733,\n",
       "       -1.00121046, -1.09560781, -1.44572917, -0.99908802, -1.00070245,\n",
       "       -0.44364565, -1.01170286, -0.99918954, -1.0861769 , -1.33291363,\n",
       "       -1.00320657, -0.99076097, -1.09564958,  0.63212214, -0.99238394,\n",
       "       -1.47090403,  0.19153373,  0.74430046, -1.0084656 , -1.15104651,\n",
       "       -1.02852903, -1.00840776, -1.23180696, -1.0031964 , -1.00023926,\n",
       "       -1.0013854 , -1.00003771, -1.10114776, -0.98779744, -1.05818617,\n",
       "       -1.00105363,  0.5230006 ,  0.97789353, -0.99559099,  0.52008479,\n",
       "       -1.25711078, -1.08267667, -0.99828696, -1.00385465,  0.08620484,\n",
       "       -0.99871026, -1.06221884, -1.02415268, -1.08797969, -1.06010122,\n",
       "        0.36988055, -1.05630237, -0.99981001, -0.24173165, -1.02857919,\n",
       "       -1.00058106, -0.99968788, -1.00115386, -0.99882791,  1.25059991,\n",
       "       -1.09244855, -1.01536282, -1.02871902,  0.53195462,  0.87212596,\n",
       "       -1.39761864, -0.80757022, -1.00013144,  0.14630375, -1.15545358,\n",
       "       -1.03883369,  1.08436417, -1.03205267, -1.01026633,  1.00010384,\n",
       "       -1.00213323,  0.88002558, -1.0164695 , -0.1601932 , -1.0010796 ,\n",
       "       -1.0102922 , -0.16644845, -1.00097537, -1.00119305, -1.02388163,\n",
       "       -0.19257469, -1.29378285, -0.99891055, -1.01311932, -0.17852475,\n",
       "       -0.98660479, -1.34087674, -1.00747736, -0.7512563 , -1.26590436,\n",
       "       -0.98479852, -0.58749402, -1.03405525, -1.387124  , -0.99557702,\n",
       "       -0.28965335, -1.03679143, -0.9997917 ])"
      ]
     },
     "execution_count": 18,
     "metadata": {},
     "output_type": "execute_result"
    }
   ],
   "source": [
    "svc.decision_function(X_test)"
   ]
  },
  {
   "cell_type": "code",
   "execution_count": 19,
   "metadata": {
    "ExecuteTime": {
     "end_time": "2021-01-18T11:16:14.309637Z",
     "start_time": "2021-01-18T11:16:14.300661Z"
    }
   },
   "outputs": [],
   "source": [
    "# -0.8로 임계값 낮추기 \n",
    "y_pred_lower_threshold = svc.decision_function(X_test) > -.8"
   ]
  },
  {
   "cell_type": "code",
   "execution_count": 20,
   "metadata": {
    "ExecuteTime": {
     "end_time": "2021-01-18T11:16:14.324597Z",
     "start_time": "2021-01-18T11:16:14.314624Z"
    }
   },
   "outputs": [
    {
     "data": {
      "text/plain": [
       "array([False, False, False, False, False, False, False,  True, False,\n",
       "       False, False,  True, False,  True,  True, False, False, False,\n",
       "       False, False,  True, False, False, False, False, False, False,\n",
       "       False,  True, False, False,  True,  True, False, False, False,\n",
       "       False, False, False, False, False, False, False, False, False,\n",
       "       False,  True,  True, False,  True, False, False, False, False,\n",
       "        True, False, False, False, False, False,  True, False, False,\n",
       "        True, False, False, False, False, False,  True, False, False,\n",
       "       False,  True,  True, False, False, False,  True, False, False,\n",
       "        True, False, False,  True, False,  True, False,  True, False,\n",
       "       False,  True, False, False, False,  True, False, False, False,\n",
       "        True, False, False, False,  True, False, False,  True, False,\n",
       "       False, False,  True, False, False])"
      ]
     },
     "execution_count": 20,
     "metadata": {},
     "output_type": "execute_result"
    }
   ],
   "source": [
    "y_pred_lower_threshold"
   ]
  },
  {
   "cell_type": "code",
   "execution_count": 21,
   "metadata": {
    "ExecuteTime": {
     "end_time": "2021-01-18T11:16:14.352521Z",
     "start_time": "2021-01-18T11:16:14.327589Z"
    }
   },
   "outputs": [
    {
     "name": "stdout",
     "output_type": "stream",
     "text": [
      "              precision    recall  f1-score   support\n",
      "\n",
      "           0       1.00      0.82      0.90       104\n",
      "           1       0.32      1.00      0.49         9\n",
      "\n",
      "    accuracy                           0.83       113\n",
      "   macro avg       0.66      0.91      0.69       113\n",
      "weighted avg       0.95      0.83      0.87       113\n",
      "\n"
     ]
    }
   ],
   "source": [
    "print(classification_report(y_test, y_pred_lower_threshold))"
   ]
  },
  {
   "cell_type": "markdown",
   "metadata": {},
   "source": [
    "- class 1의 재현율은 높아지고, 정밀도는 낮아짐\n",
    "- 더 넓은 영역이 class 1로 분류됨"
   ]
  },
  {
   "cell_type": "markdown",
   "metadata": {},
   "source": [
    "## 정밀도-재현율 곡선\n",
    "- 모델의 분류 작업을 결정하는 **임계값을 바꾸는 것**은 해당 분류기의 **정밀도와 재현율의 상충 관계를 조정하는 일**\n",
    "- 어떤 목표가 선택되면(어떤 class에 대한 특정 재현율 or 정밀도의 값) 적절한 임계값을 지정하는 것은 쉬움 <- 운영 포인트 지정\n",
    "    - ex. 90% 이상의 재현율\n",
    "- 하지만, 어려운 부분은 이 임계값을 유지하면서 적절한 정밀도(or 재현율)를 내는 모델을 만드는 일\n",
    "- 새로운 모델을 만들 때는 운영 포인트가 명확하지 않은 경우가 많음\n",
    "    - 이런 경우 문제를 더 잘 이해하기 위해 모든 임계값을 조사해보거나, 한번에 정밀도나 재현율의 모든 장단점 살펴 보는 것이 좋음\n",
    "    - 이를 위해 **정밀도-재현율 곡선(precision-recall curve)**을 사용함 <- sklearn.metrics 모듈 precision_recall_curve 함수\n",
    "        - target label과 decision_function or predict_proba 메서드로 계산한 예측 불확실성 이용함\n",
    "        - 가능한 모든 임계값(결정 함수에 나타난 모든 값)에 대해 정밀도와 재현율의 값을 정렬된 list로 반환함\n",
    "        -> 곡선 그래프 그릴 수 있음"
   ]
  },
  {
   "cell_type": "code",
   "execution_count": 22,
   "metadata": {
    "ExecuteTime": {
     "end_time": "2021-01-18T11:16:14.367480Z",
     "start_time": "2021-01-18T11:16:14.355514Z"
    }
   },
   "outputs": [],
   "source": [
    "from sklearn.metrics import precision_recall_curve\n",
    "precision, recall, thresholds = precision_recall_curve(y_test, svc.decision_function(X_test))   # thresholds: 임계값"
   ]
  },
  {
   "cell_type": "code",
   "execution_count": 23,
   "metadata": {
    "ExecuteTime": {
     "end_time": "2021-01-18T11:16:14.381136Z",
     "start_time": "2021-01-18T11:16:14.373466Z"
    }
   },
   "outputs": [
    {
     "data": {
      "text/plain": [
       "array([-0.7512563 , -0.58749402, -0.48739733, -0.44364565, -0.40435353,\n",
       "       -0.28965335, -0.24173165, -0.19257469, -0.17852475, -0.16644845,\n",
       "       -0.1601932 ,  0.08620484,  0.14630375,  0.19153373,  0.36988055,\n",
       "        0.52008479,  0.5230006 ,  0.53195462,  0.63212214,  0.74430046,\n",
       "        0.87212596,  0.88002558,  0.88395198,  0.97789353,  1.00010384,\n",
       "        1.07030762,  1.08436417,  1.25059991])"
      ]
     },
     "execution_count": 23,
     "metadata": {},
     "output_type": "execute_result"
    }
   ],
   "source": [
    "thresholds"
   ]
  },
  {
   "cell_type": "code",
   "execution_count": 24,
   "metadata": {
    "ExecuteTime": {
     "end_time": "2021-01-18T11:16:14.803102Z",
     "start_time": "2021-01-18T11:16:14.388121Z"
    }
   },
   "outputs": [
    {
     "data": {
      "text/plain": [
       "<matplotlib.legend.Legend at 0x1dfea8ccd00>"
      ]
     },
     "execution_count": 24,
     "metadata": {},
     "output_type": "execute_result"
    },
    {
     "data": {
      "image/png": "[encoded data removed]",
      "text/plain": [
       "<Figure size 432x288 with 1 Axes>"
      ]
     },
     "metadata": {
      "needs_background": "light"
     },
     "output_type": "display_data"
    }
   ],
   "source": [
    "# 부드러운 곡선을 위해 데이터 포인트 수 늘리기\n",
    "X,y = make_blobs(n_samples=(4000, 500), cluster_std=[7.0, 2], random_state=22)\n",
    "X_train, X_test, y_train, y_test = train_test_split(X, y, random_state=0)\n",
    "\n",
    "# 모델 학습\n",
    "svc = SVC(gamma=.05).fit(X_train, y_train)\n",
    "\n",
    "# 정밀도-재현율 계산\n",
    "precision, recall, thresholds = precision_recall_curve(y_test, svc.decision_function(X_test))\n",
    "\n",
    "# 0에 가장 가까운 임계값 찾기\n",
    "close_zero = np.argmin(np.abs(thresholds))   # decision_function(X_test)의 결과에 0이 포함되지 않을 수 있어, 가장 작은 거 구함\n",
    "# 임계값 0 포인트\n",
    "plt.plot(precision[close_zero], recall[close_zero], 'o', markersize=10, label='임계값 0', fillstyle='none', c='k', mew=2)\n",
    "\n",
    "plt.plot(precision, recall, label='정밀도-재현율 곡선')\n",
    "plt.xlabel('정밀도')\n",
    "plt.ylabel('재현율')\n",
    "plt.legend(loc='best')"
   ]
  },
  {
   "cell_type": "markdown",
   "metadata": {},
   "source": [
    "- 곡선의 각 포인트는 decision_function의 가능한 모든 임계값에 대응함\n",
    "    - ex. 정밀도가 약 0.75일 때의 재현율은 0.4\n",
    "- 검은 원은 decision_function의 기본 임계값인 0 지점을 나타냄\n",
    "    - 이 지점은 predict 메서드를 호출할 때 사용되는 임계값(기본값)\n",
    "- 곡선이 오른쪽 위로 갈수록 더 좋은 분류기 (정밀도와 재현율이 모두 높게 유지되는 곳)\n",
    "    - 임계값이 커지면서 곡선은 정밀도가 높아지는 쪽으로 이동하지만, 재현율은 낮아짐\n",
    "    - 임계값을 높일수록 양성으로 분류된 포인트 대부분이 진짜 양성(TP)이 되어 정밀도가 매우 높아지지만, 재현율은 낮아짐\n",
    "        - 임계값이 높으면 양성 샘플이 TP로 분류되지 못하고 FN이 되기 때문에\n",
    "- 분류기가 다르면 곡선의 다른 부분에서 장점이 생김"
   ]
  },
  {
   "cell_type": "code",
   "execution_count": 25,
   "metadata": {
    "ExecuteTime": {
     "end_time": "2021-01-18T11:16:15.620735Z",
     "start_time": "2021-01-18T11:16:14.806096Z"
    }
   },
   "outputs": [
    {
     "data": {
      "text/plain": [
       "<matplotlib.legend.Legend at 0x1dfea8d6280>"
      ]
     },
     "execution_count": 25,
     "metadata": {},
     "output_type": "execute_result"
    },
    {
     "data": {
      "image/png": "[encoded data removed]",
      "text/plain": [
       "<Figure size 432x288 with 1 Axes>"
      ]
     },
     "metadata": {
      "needs_background": "light"
     },
     "output_type": "display_data"
    }
   ],
   "source": [
    "# svm vs 랜덤포레스트\n",
    "from sklearn.ensemble import RandomForestClassifier\n",
    "\n",
    "# RandomForestClassifier\n",
    "rf = RandomForestClassifier(n_estimators=100, random_state=0, max_features=2)\n",
    "rf.fit(X_train, y_train)\n",
    "# 정밀도-재현율 계산, RandomForestClassifier - predict_proba\n",
    "precision_rf, recall_rf, thresholds_rf = precision_recall_curve(y_test, rf.predict_proba(X_test)[:,1])\n",
    "\n",
    "# svc\n",
    "plt.plot(precision, recall, label='svc')\n",
    "plt.plot(precision[close_zero], recall[close_zero], 'o', markersize=10, label='임계값 0', fillstyle='none', c='k', mew=2)\n",
    "\n",
    "# 랜포\n",
    "plt.plot(precision_rf, recall_rf, label='rf')\n",
    "close_default_rf = np.argmin(np.abs(thresholds_rf - 0.5))   # 기본 임계값 0.5와 가장 비슷한 임계점 찾기\n",
    "plt.plot(precision_rf[close_default_rf], recall_rf[close_default_rf], '^', c='k', markersize=10, label='rf: 임계값 0.5', fillstyle='none', mew=2)\n",
    "\n",
    "plt.xlabel('정밀도')\n",
    "plt.ylabel('재현율')\n",
    "plt.legend(loc='best')"
   ]
  },
  {
   "cell_type": "markdown",
   "metadata": {},
   "source": [
    "- 극단적인 부분, 즉 재현율 or 정밀도가 매우 높을 때는 랜덤 포레스트가 더 나음\n",
    "- 가운데 근처(정밀도=0.7정도)에서는 svm이 더 좋음, 즉 오른쪽 위 코너에 더 가까움\n",
    "- 만약 f1-score만으로 전체 성능을 비교한다면 이런 세세한 부분을 놓칠 수 있음\n",
    "    - f1-score는 기본 임계값에 대한 점수(정밀도-재현율 곡선의 한 지점)"
   ]
  },
  {
   "cell_type": "code",
   "execution_count": 26,
   "metadata": {
    "ExecuteTime": {
     "end_time": "2021-01-18T11:16:15.692578Z",
     "start_time": "2021-01-18T11:16:15.623728Z"
    }
   },
   "outputs": [
    {
     "name": "stdout",
     "output_type": "stream",
     "text": [
      "랜덤 포레스트의 f1_score: 0.610\n",
      "svc의 f1_score: 0.656\n"
     ]
    }
   ],
   "source": [
    "print('랜덤 포레스트의 f1_score: {:.3f}'.format(f1_score(y_test, rf.predict(X_test))))\n",
    "print('svc의 f1_score: {:.3f}'.format(f1_score(y_test, svc.predict(X_test))))"
   ]
  },
  {
   "cell_type": "markdown",
   "metadata": {},
   "source": [
    "- 두 정밀도-재현율 곡선을 비교하면 많은 통찰을 얻을 수 있지만, 수작업임\n",
    "- 전체 곡선에 담긴 정보 요약 방법(모든 임계값에 대해 평균) - **평균 정밀도(average precision)**\n",
    "    - 정밀도-재현율 곡선의 아랫부분 면적을 계산\n",
    "    - average_precision_score 함수가 평균 정밀도를 계산해줌\n",
    "    - 평균 정밀도는 0 ~ 1 사이 범위값 반환함\n",
    "        - 0: 가장 나쁨\n",
    "        - 1: 가장 좋음"
   ]
  },
  {
   "cell_type": "code",
   "execution_count": 27,
   "metadata": {
    "ExecuteTime": {
     "end_time": "2021-01-18T11:16:15.838154Z",
     "start_time": "2021-01-18T11:16:15.697531Z"
    }
   },
   "outputs": [
    {
     "name": "stdout",
     "output_type": "stream",
     "text": [
      "랜덤 포레스트의 평균 정밀도: 0.660\n",
      "svc의 평균 정밀도: 0.666\n"
     ]
    }
   ],
   "source": [
    "from sklearn.metrics import average_precision_score\n",
    "\n",
    "ap_rf = average_precision_score(y_test, rf.predict_proba(X_test)[:,1])\n",
    "ap_svc = average_precision_score(y_test, svc.decision_function(X_test))\n",
    "\n",
    "print('랜덤 포레스트의 평균 정밀도: {:.3f}'.format(ap_rf))\n",
    "print('svc의 평균 정밀도: {:.3f}'.format(ap_svc))"
   ]
  },
  {
   "cell_type": "markdown",
   "metadata": {},
   "source": [
    "- 모든 임계값에 대해 평균을 내보면, 랜덤 포래스트가 조금 낮지만, svc와 거의 같은 성능임\n",
    "- f1_score 결과와 좀 다름"
   ]
  },
  {
   "cell_type": "markdown",
   "metadata": {},
   "source": [
    "## ROC 곡선과 AUC \n",
    "- ROC 곡선 (receiver operating characteristics) - roc_curve 함수 사용\n",
    "    - 'TPR(재현율)-FPR 곡선'으로 이해하는 것이 좋음\n",
    "    - 분류기의 모든 임계값을 고려하며, (정밀도와 재현율 대신) 진짜 양성 비율(TPR, 재현율)과 거짓 양성 비율(FPR)을 나타냄\n",
    "    - FPR = FP/(FP+TN)\n",
    "    - ROC 곡선은 왼쪽 위에 가까울 수록 이상적임\n",
    "        - 거짓 양성 비율(FPR)이 낮게 유지되면서, 재현율(진짜 양성 비율, TPR)이 높은 분류기가 좋은 것\n",
    "    - 임계값 고르기 위해서는 test set이 아닌, 별도의 검증 set을 활용해야!!\n",
    "    \n",
    "- AUC(area under the curve, curve = ROC) - roc_auc_score 함수\n",
    "    - 곡선 아래의 면적값 하나로 ROC 곡선 요약하는 것 (이 면적을 AUC 라고 함)\n",
    "        - 항상 0(최악) ~ 1(최선) 사이의 값을 가짐\n",
    "    - 데이터에 담긴 클래스가 아무리 불균형하더라도 무작위로 예측한 AUC 값은 0.5가됨\n",
    "        - 클래스 불균현이 FPR과 TPR 계산에 영향을 주지 않음 (오차 행렬에서 각각 다른 행을 이용하여 만들기때문에)\n",
    "        - 무작위로 분류하면 클래스별 양성과 음성의 비율이 비슷해서 FPR과 TPR 값이 거의 같아져, ROC곡선은 y=x에 가까워짐 -> AUC 면적은 0.5가됨\n",
    "    - **불균형한 데이터셋에서는 정확도보다 AUC가 훨씬 좋은 지표임!**\n",
    "    - AUC는 분류기에서 무작위로 선택한 양성 클래스 포인트의 점수가 음성 클래스 포인트의 점수보다 높은 확률과 같음\n",
    "        - AUC가 1일 때는 모든 양성 포인트의 점수가 모든 음성 포인트의 점수보다 높음\n",
    "        - 양성 포인트가 음성 클래스로 분류될 가능성이 없기 때문에 FN이 0이되고, TPR(재현율)은 항상 1이됨"
   ]
  },
  {
   "cell_type": "code",
   "execution_count": 28,
   "metadata": {
    "ExecuteTime": {
     "end_time": "2021-01-18T11:16:16.201184Z",
     "start_time": "2021-01-18T11:16:15.844137Z"
    }
   },
   "outputs": [
    {
     "data": {
      "text/plain": [
       "<matplotlib.legend.Legend at 0x1dfeb079940>"
      ]
     },
     "execution_count": 28,
     "metadata": {},
     "output_type": "execute_result"
    },
    {
     "data": {
      "image/png": "[encoded data removed]",
      "text/plain": [
       "<Figure size 432x288 with 1 Axes>"
      ]
     },
     "metadata": {
      "needs_background": "light"
     },
     "output_type": "display_data"
    }
   ],
   "source": [
    "from sklearn.metrics import roc_curve\n",
    "\n",
    "fpr, tpr, thresholds = roc_curve(y_test, svc.decision_function(X_test))\n",
    "\n",
    "plt.plot(fpr, tpr, label='ROC 곡선')\n",
    "plt.xlabel('FPR')\n",
    "plt.ylabel('TPR(재현율)')\n",
    "# 0 근처의 임계값을 찾음\n",
    "close_zero = np.argmin(np.abs(thresholds))\n",
    "plt.plot(fpr[close_zero], tpr[close_zero], 'o', markersize=10, label='임계값 0', fillstyle='none', c='k', mew=2)\n",
    "plt.legend(loc=4)"
   ]
  },
  {
   "cell_type": "markdown",
   "metadata": {},
   "source": [
    "- 기본 임계값 0의 지점과 비교했을 때, FPR을 조금 늘리면 재현율을 아주 크게 높일 수 있음(0.9부근)"
   ]
  },
  {
   "cell_type": "code",
   "execution_count": 32,
   "metadata": {
    "ExecuteTime": {
     "end_time": "2021-01-18T11:27:05.756800Z",
     "start_time": "2021-01-18T11:27:05.456031Z"
    }
   },
   "outputs": [
    {
     "data": {
      "text/plain": [
       "<matplotlib.legend.Legend at 0x1dfeb304310>"
      ]
     },
     "execution_count": 32,
     "metadata": {},
     "output_type": "execute_result"
    },
    {
     "data": {
      "image/png": "[encoded data removed]",
      "text/plain": [
       "<Figure size 432x288 with 1 Axes>"
      ]
     },
     "metadata": {
      "needs_background": "light"
     },
     "output_type": "display_data"
    }
   ],
   "source": [
    "# 랜덤 포레스트와 SVM의 ROC 곡선 비교\n",
    "from sklearn.metrics import roc_curve\n",
    "fpr_rf, tpr_rf, thresholds_rf = roc_curve(y_test, rf.predict_proba(X_test)[:,1])\n",
    "\n",
    "plt.plot(fpr, tpr, label='SVC의 ROC 곡선')\n",
    "plt.plot(fpr_rf, tpr_rf, label='RF의 ROC곡선')\n",
    "\n",
    "plt.plot(fpr[close_zero], tpr[close_zero], 'o', markersize=10, label='SVC 임계값 0', fillstyle='none', c='k', mew=2)\n",
    "\n",
    "close_default_rf = np.argmin(np.abs(thresholds_rf - 0.5))\n",
    "plt.plot(fpr_rf[close_default_rf], tpr[close_default_rf], '^', markersize=10, label='RF 임계값 0.5', fillstyle='none', c='k', mew=2)\n",
    "\n",
    "plt.xlabel('FPR')\n",
    "plt.ylabel('TPR (재현율)')\n",
    "plt.legend(loc=4)"
   ]
  },
  {
   "cell_type": "markdown",
   "metadata": {},
   "source": [
    "- fpr이 약 0.1 이상일때 랜덤 포레스트의 성능이 좀더 나은 것 같음"
   ]
  },
  {
   "cell_type": "code",
   "execution_count": 33,
   "metadata": {
    "ExecuteTime": {
     "end_time": "2021-01-18T11:32:27.796172Z",
     "start_time": "2021-01-18T11:32:27.715775Z"
    }
   },
   "outputs": [
    {
     "name": "stdout",
     "output_type": "stream",
     "text": [
      "랜덤 포레스트의 AUC: 0.937\n",
      "SVC의 AUC: 0.916\n"
     ]
    }
   ],
   "source": [
    "# AUC\n",
    "from sklearn.metrics import roc_auc_score\n",
    "\n",
    "rf_auc = roc_auc_score(y_test, rf.predict_proba(X_test)[:,1])\n",
    "svc_auc = roc_auc_score(y_test, svc.decision_function(X_test))\n",
    "\n",
    "print('랜덤 포레스트의 AUC: {:.3f}'.format(rf_auc))\n",
    "print('SVC의 AUC: {:.3f}'.format(svc_auc))"
   ]
  },
  {
   "cell_type": "markdown",
   "metadata": {},
   "source": [
    "- AUC 점수로 랜덤 포레스트와 SVM을 비교하니, 랜덤 포레스트의 성능이 SVM보다 조금 너 나음"
   ]
  },
  {
   "cell_type": "code",
   "execution_count": 40,
   "metadata": {
    "ExecuteTime": {
     "end_time": "2021-01-18T12:06:54.967733Z",
     "start_time": "2021-01-18T12:06:53.006577Z"
    }
   },
   "outputs": [
    {
     "name": "stdout",
     "output_type": "stream",
     "text": [
      "gamma = 1.00, 정확도 = 0.90, AUC = 0.50\n",
      "gamma = 0.10, 정확도 = 0.90, AUC = 0.96\n",
      "gamma = 0.01, 정확도 = 0.90, AUC = 1.00\n"
     ]
    },
    {
     "data": {
      "text/plain": [
       "<matplotlib.legend.Legend at 0x1dfeb321d30>"
      ]
     },
     "execution_count": 40,
     "metadata": {},
     "output_type": "execute_result"
    },
    {
     "data": {
      "image/png": "[encoded data removed]",
      "text/plain": [
       "<Figure size 432x288 with 1 Axes>"
      ]
     },
     "metadata": {
      "needs_background": "light"
     },
     "output_type": "display_data"
    }
   ],
   "source": [
    "# 각기 다른 gamma -> SVM 학습\n",
    "y = digits.target == 9\n",
    "X_train, X_test, y_train, y_test = train_test_split(digits.data, y, random_state=0)\n",
    "\n",
    "plt.figure()\n",
    "for gamma in [1, 0.1, 0.01]:\n",
    "    svc = SVC(gamma=gamma).fit(X_train, y_train)\n",
    "    accuracy = svc.score(X_test, y_test)\n",
    "    auc = roc_auc_score(y_test, svc.decision_function(X_test))\n",
    "    fpr, tpr, _ = roc_curve(y_test, svc.decision_function(X_test))\n",
    "    print('gamma = {:.2f}, 정확도 = {:.2f}, AUC = {:.2f}'.format(gamma, accuracy, auc))\n",
    "    plt.plot(fpr, tpr, label='gamma={:.2f}'.format(gamma))\n",
    "plt.xlabel('FPR')\n",
    "plt.ylabel('TPR')\n",
    "plt.xlim(-0.01, 1)\n",
    "plt.ylim(0, 1.02)\n",
    "plt.legend(loc='best')"
   ]
  },
  {
   "cell_type": "markdown",
   "metadata": {},
   "source": [
    "- gamma가 변해도 정확도 점수는 같으나, auc는 차이다 뚜렸하게 나타남\n",
    "- gamma = 1.0에서 AUC는 무작위로 선택한 수준(0.5)\n",
    "- gamma가 0.01일 때 곡선이 왼쪽 위에 가까이 있어, 가장 성능이 좋음\n",
    "    - 적절한 임계값에서 이 모델은 데이터를 거의 완벽하게 분류할 수 있음!\n",
    "- 불균형한 데이터셋에서 모델을 평가할 때는 AUC를 사용해야함\n",
    "- 하지만, AUC값이 기본 임계값과는 상관 없으므고, AUC가 높은 모델에서 좋은 분류결과를 얻으려면 **결정 임계값 조정해야함**"
   ]
  },
  {
   "cell_type": "markdown",
   "metadata": {},
   "source": [
    "# 다중 분류의 평가 지표\n",
    "- 다중 분류를 위한 지표는 기본적으로 모두 이진 분류 평가 지표에서 유도되었음\n",
    "    - 다만, 모든 클래스에 대해 평균을 낸 것\n",
    "- 앞 절의 이진 분류에서 사용한 오차 행렬과 분류 리포드 등을 일반적으로 사용\n",
    "- 정확도는 클래스가 불균형할 때 좋은 평가 방법이되지 못함"
   ]
  },
  {
   "cell_type": "code",
   "execution_count": 41,
   "metadata": {
    "ExecuteTime": {
     "end_time": "2021-01-18T12:36:29.402131Z",
     "start_time": "2021-01-18T12:36:29.172390Z"
    }
   },
   "outputs": [
    {
     "name": "stdout",
     "output_type": "stream",
     "text": [
      "정확도: 0.953\n",
      "오차 행렬:\n",
      " [[37  0  0  0  0  0  0  0  0  0]\n",
      " [ 0 39  0  0  0  0  2  0  2  0]\n",
      " [ 0  0 41  3  0  0  0  0  0  0]\n",
      " [ 0  0  1 43  0  0  0  0  0  1]\n",
      " [ 0  0  0  0 38  0  0  0  0  0]\n",
      " [ 0  1  0  0  0 47  0  0  0  0]\n",
      " [ 0  0  0  0  0  0 52  0  0  0]\n",
      " [ 0  1  0  1  1  0  0 45  0  0]\n",
      " [ 0  3  1  0  0  0  0  0 43  1]\n",
      " [ 0  0  0  1  0  1  0  0  1 44]]\n"
     ]
    }
   ],
   "source": [
    "from sklearn.metrics import accuracy_score\n",
    "\n",
    "X_train, X_test, y_train, y_test = train_test_split(digits.data, digits.target, random_state=0)\n",
    "\n",
    "lr = LogisticRegression(solver='liblinear', multi_class='ovr').fit(X_train, y_train)\n",
    "pred = lr.predict(X_test)\n",
    "print('정확도: {:.3f}'.format(accuracy_score(y_test, pred)))\n",
    "print('오차 행렬:\\n', confusion_matrix(y_test, pred))"
   ]
  },
  {
   "cell_type": "markdown",
   "metadata": {},
   "source": [
    "- 모델의 정확도는 95.3%로 꽤 좋은 성능을 냄\n",
    "- 오차 행렬에서는 더 자세한 내용이 담겨 있음"
   ]
  },
  {
   "cell_type": "code",
   "execution_count": 44,
   "metadata": {
    "ExecuteTime": {
     "end_time": "2021-01-18T12:42:00.114274Z",
     "start_time": "2021-01-18T12:41:59.590293Z"
    }
   },
   "outputs": [
    {
     "data": {
      "image/png": "[encoded data removed]",
      "text/plain": [
       "<Figure size 432x288 with 1 Axes>"
      ]
     },
     "metadata": {
      "needs_background": "light"
     },
     "output_type": "display_data"
    }
   ],
   "source": [
    "# 더 깔끔하게 시각화\n",
    "score_image = mglearn.tools.heatmap(confusion_matrix(y_test, pred), xlabel='예측 레이블', ylabel='진짜 레이블', \n",
    "                                    xticklabels=digits.target_names, yticklabels=digits.target_names, cmap=plt.cm.gray_r, fmt='%d')\n",
    "plt.title('오차 행렬')\n",
    "plt.gca().invert_yaxis()"
   ]
  },
  {
   "cell_type": "markdown",
   "metadata": {},
   "source": [
    "- 숫자 0은 모두 클래스 0으로 분류됨 (거짓 음성 FN이 없음)\n",
    "- 4,6은 오차 없이 정확하게 분류했지만, 다른 클래스가 잘못 분류한 것이 몇개 있음(FP)\n",
    "- 그 외 숫자는 잘못 분류한 것이 몇개 있음"
   ]
  },
  {
   "cell_type": "code",
   "execution_count": 46,
   "metadata": {
    "ExecuteTime": {
     "end_time": "2021-01-18T12:44:11.460828Z",
     "start_time": "2021-01-18T12:44:11.444871Z"
    }
   },
   "outputs": [
    {
     "name": "stdout",
     "output_type": "stream",
     "text": [
      "              precision    recall  f1-score   support\n",
      "\n",
      "           0       1.00      1.00      1.00        37\n",
      "           1       0.89      0.91      0.90        43\n",
      "           2       0.95      0.93      0.94        44\n",
      "           3       0.90      0.96      0.92        45\n",
      "           4       0.97      1.00      0.99        38\n",
      "           5       0.98      0.98      0.98        48\n",
      "           6       0.96      1.00      0.98        52\n",
      "           7       1.00      0.94      0.97        48\n",
      "           8       0.93      0.90      0.91        48\n",
      "           9       0.96      0.94      0.95        47\n",
      "\n",
      "    accuracy                           0.95       450\n",
      "   macro avg       0.95      0.95      0.95       450\n",
      "weighted avg       0.95      0.95      0.95       450\n",
      "\n"
     ]
    }
   ],
   "source": [
    "# 정밀도, 재현율, f1-score 계산\n",
    "print(classification_report(y_test, pred))"
   ]
  },
  {
   "cell_type": "markdown",
   "metadata": {},
   "source": [
    "- 0은 오차, 거짓음성이 없으므로, 정밀도와 재현율 모두 1로 완벽함\n",
    "- 7은 다른 클래스가 7로 잘못 분류한 것이 없어, 정밀도(precision)가 1임\n",
    "- 4,6은 거짓 음성(FN)이 없어서 재현율(recall)이 1임\n",
    "- 이 모델은 1,3,8을 분류하는 데 어려움을 겪고 있음"
   ]
  },
  {
   "cell_type": "markdown",
   "metadata": {},
   "source": [
    "## 다중 분류 ver.의 f1-score\n",
    "- 다중 클래스용 f1-score는 한 클래스를 양성 클래스로 두고, 나머지 클래스들을 음성 클래스로 간주하여, 클래스마다 f1-score를 계산\n",
    "- 클래스별 f1-score를 평균내는 3개지 전략(average 매개변수로 설정하며, 기본값은 이진분류에 해당하는 'binary')\n",
    "    1. 'macro' 평균\n",
    "        - 클래스 크기에 상관없이 모든 클래스를 같은 비중으로 다룸\n",
    "        - 각 클래스를 동일한 비중으로 고려한다면 이 평균 추천\n",
    "    2. 'weighted' 평균\n",
    "        - 클래스별 샘플 수로 가중치를 두어 f1-score의 평균을 계산\n",
    "    3. 'micro' 평균\n",
    "        - 모든 클래스의 거짓 양성(FP), 거짓 음성(FN), 진짜 양성(TP)의 총 수를 헤아린 다음, 정밀도, 재현율, f1-score를 이 수치로 계산\n",
    "        - 각 샘플을 똑같이 간주한다면 이 평균 추천"
   ]
  },
  {
   "cell_type": "code",
   "execution_count": 47,
   "metadata": {
    "ExecuteTime": {
     "end_time": "2021-01-18T12:59:50.426904Z",
     "start_time": "2021-01-18T12:59:50.411979Z"
    }
   },
   "outputs": [
    {
     "name": "stdout",
     "output_type": "stream",
     "text": [
      "micro 평균 f1-score: 0.953\n",
      "macro 평균 f1-score: 0.954\n"
     ]
    }
   ],
   "source": [
    "print('micro 평균 f1-score: {:.3f}'.format(f1_score(y_test, pred, average='micro')))\n",
    "print('macro 평균 f1-score: {:.3f}'.format(f1_score(y_test, pred, average='macro')))"
   ]
  },
  {
   "cell_type": "markdown",
   "metadata": {},
   "source": [
    "# 회귀의 평가 지표\n",
    "- 회귀 평가는 분류에서와 비슷하게 할 수 있으나, 대부분은 R^2만으로 충분함\n",
    "- 가끔 평균제곱에러(MSE), 평균제곱은오차(RMSE), 평균절댓값에러(MAE)를 사용"
   ]
  },
  {
   "cell_type": "markdown",
   "metadata": {},
   "source": [
    "# GridSearchCV나 cross_val_score에서 다른 평가 지표 사용하기\n",
    "- GridSearchCV나 cross_val_score를 사용하여 모델을 선택할 때, AUC 같은 평가 지표를 사용하고 싶은 경우가 많이 있음\n",
    "- scoring 매개변수를 통해 쉽게 구현 가능\n",
    "    - ex. 기본값(정확도)에서 평균 정밀도로 지표 변경: scoring 매개변수에 average_precision 지정\n",
    "    - GridSearchCV, cross_validate 함수는 한번에 여러 측정 지표 계산 가능 (list로 묶어서 넘겨주면 됨)\n",
    "    - cross_val_score는 한번에 하나의 측정 지표만 계산 가능\n",
    "    - scoring 옵션 종류\n",
    "        - 분류: accuracy(기본값), roc_acu, average_precision, f1_macro, f1_micro, f1_weighted, ...\n",
    "        - 회귀: r2, mean_squared_error, mean_absolute_error, ..."
   ]
  },
  {
   "cell_type": "markdown",
   "metadata": {},
   "source": [
    "## cross_val_score"
   ]
  },
  {
   "cell_type": "code",
   "execution_count": 50,
   "metadata": {
    "ExecuteTime": {
     "end_time": "2021-01-18T13:19:42.000516Z",
     "start_time": "2021-01-18T13:19:41.259107Z"
    }
   },
   "outputs": [
    {
     "name": "stdout",
     "output_type": "stream",
     "text": [
      "기본 평가 지표(정확도): [0.975      0.99166667 1.         0.99442897 0.98050139]\n",
      "AUC 지표:  [0.99717078 0.99854252 1.         0.999828   0.98400413]\n",
      "평균 정밀도 지표:  [0.97562403 0.9886322  1.         0.99853801 0.95015534]\n"
     ]
    }
   ],
   "source": [
    "from sklearn.model_selection import cross_val_score\n",
    "\n",
    "# 분류의 기본 평가 지표: 정확도\n",
    "print('기본 평가 지표(정확도):', cross_val_score(SVC(), digits.data, digits.target == 9, cv=5))   # scoring='accuracy'\n",
    "\n",
    "# AUC\n",
    "roc_auc = cross_val_score(SVC(), digits.data, digits.target == 9, scoring='roc_auc', cv=5)\n",
    "print('AUC 지표: ', roc_auc)\n",
    "\n",
    "# 평균 정밀도 지표\n",
    "ap = cross_val_score(SVC(), digits.data, digits.target == 9, scoring='average_precision', cv=5)\n",
    "print('평균 정밀도 지표: ', ap)"
   ]
  },
  {
   "cell_type": "code",
   "execution_count": 51,
   "metadata": {
    "ExecuteTime": {
     "end_time": "2021-01-18T13:20:43.434889Z",
     "start_time": "2021-01-18T13:20:43.401941Z"
    },
    "collapsed": true
   },
   "outputs": [
    {
     "ename": "ValueError",
     "evalue": "For evaluating multiple scores, use sklearn.model_selection.cross_validate instead. ['average_precision', 'roc_auc'] was passed.",
     "output_type": "error",
     "traceback": [
      "\u001b[1;31m---------------------------------------------------------------------------\u001b[0m",
      "\u001b[1;31mValueError\u001b[0m                                Traceback (most recent call last)",
      "\u001b[1;32m<ipython-input-51-9b97a7d36e94>\u001b[0m in \u001b[0;36m<module>\u001b[1;34m\u001b[0m\n\u001b[1;32m----> 1\u001b[1;33m \u001b[0mttest\u001b[0m \u001b[1;33m=\u001b[0m \u001b[0mcross_val_score\u001b[0m\u001b[1;33m(\u001b[0m\u001b[0mSVC\u001b[0m\u001b[1;33m(\u001b[0m\u001b[1;33m)\u001b[0m\u001b[1;33m,\u001b[0m \u001b[0mdigits\u001b[0m\u001b[1;33m.\u001b[0m\u001b[0mdata\u001b[0m\u001b[1;33m,\u001b[0m \u001b[0mdigits\u001b[0m\u001b[1;33m.\u001b[0m\u001b[0mtarget\u001b[0m \u001b[1;33m==\u001b[0m \u001b[1;36m9\u001b[0m\u001b[1;33m,\u001b[0m \u001b[0mscoring\u001b[0m\u001b[1;33m=\u001b[0m\u001b[1;33m[\u001b[0m\u001b[1;34m'average_precision'\u001b[0m\u001b[1;33m,\u001b[0m \u001b[1;34m'roc_auc'\u001b[0m\u001b[1;33m]\u001b[0m\u001b[1;33m,\u001b[0m \u001b[0mcv\u001b[0m\u001b[1;33m=\u001b[0m\u001b[1;36m5\u001b[0m\u001b[1;33m)\u001b[0m\u001b[1;33m\u001b[0m\u001b[1;33m\u001b[0m\u001b[0m\n\u001b[0m",
      "\u001b[1;32m~\\anaconda3\\lib\\site-packages\\sklearn\\utils\\validation.py\u001b[0m in \u001b[0;36minner_f\u001b[1;34m(*args, **kwargs)\u001b[0m\n\u001b[0;32m     71\u001b[0m                           FutureWarning)\n\u001b[0;32m     72\u001b[0m         \u001b[0mkwargs\u001b[0m\u001b[1;33m.\u001b[0m\u001b[0mupdate\u001b[0m\u001b[1;33m(\u001b[0m\u001b[1;33m{\u001b[0m\u001b[0mk\u001b[0m\u001b[1;33m:\u001b[0m \u001b[0marg\u001b[0m \u001b[1;32mfor\u001b[0m \u001b[0mk\u001b[0m\u001b[1;33m,\u001b[0m \u001b[0marg\u001b[0m \u001b[1;32min\u001b[0m \u001b[0mzip\u001b[0m\u001b[1;33m(\u001b[0m\u001b[0msig\u001b[0m\u001b[1;33m.\u001b[0m\u001b[0mparameters\u001b[0m\u001b[1;33m,\u001b[0m \u001b[0margs\u001b[0m\u001b[1;33m)\u001b[0m\u001b[1;33m}\u001b[0m\u001b[1;33m)\u001b[0m\u001b[1;33m\u001b[0m\u001b[1;33m\u001b[0m\u001b[0m\n\u001b[1;32m---> 73\u001b[1;33m         \u001b[1;32mreturn\u001b[0m \u001b[0mf\u001b[0m\u001b[1;33m(\u001b[0m\u001b[1;33m**\u001b[0m\u001b[0mkwargs\u001b[0m\u001b[1;33m)\u001b[0m\u001b[1;33m\u001b[0m\u001b[1;33m\u001b[0m\u001b[0m\n\u001b[0m\u001b[0;32m     74\u001b[0m     \u001b[1;32mreturn\u001b[0m \u001b[0minner_f\u001b[0m\u001b[1;33m\u001b[0m\u001b[1;33m\u001b[0m\u001b[0m\n\u001b[0;32m     75\u001b[0m \u001b[1;33m\u001b[0m\u001b[0m\n",
      "\u001b[1;32m~\\anaconda3\\lib\\site-packages\\sklearn\\model_selection\\_validation.py\u001b[0m in \u001b[0;36mcross_val_score\u001b[1;34m(estimator, X, y, groups, scoring, cv, n_jobs, verbose, fit_params, pre_dispatch, error_score)\u001b[0m\n\u001b[0;32m    397\u001b[0m     \"\"\"\n\u001b[0;32m    398\u001b[0m     \u001b[1;31m# To ensure multimetric format is not supported\u001b[0m\u001b[1;33m\u001b[0m\u001b[1;33m\u001b[0m\u001b[1;33m\u001b[0m\u001b[0m\n\u001b[1;32m--> 399\u001b[1;33m     \u001b[0mscorer\u001b[0m \u001b[1;33m=\u001b[0m \u001b[0mcheck_scoring\u001b[0m\u001b[1;33m(\u001b[0m\u001b[0mestimator\u001b[0m\u001b[1;33m,\u001b[0m \u001b[0mscoring\u001b[0m\u001b[1;33m=\u001b[0m\u001b[0mscoring\u001b[0m\u001b[1;33m)\u001b[0m\u001b[1;33m\u001b[0m\u001b[1;33m\u001b[0m\u001b[0m\n\u001b[0m\u001b[0;32m    400\u001b[0m \u001b[1;33m\u001b[0m\u001b[0m\n\u001b[0;32m    401\u001b[0m     cv_results = cross_validate(estimator=estimator, X=X, y=y, groups=groups,\n",
      "\u001b[1;32m~\\anaconda3\\lib\\site-packages\\sklearn\\utils\\validation.py\u001b[0m in \u001b[0;36minner_f\u001b[1;34m(*args, **kwargs)\u001b[0m\n\u001b[0;32m     71\u001b[0m                           FutureWarning)\n\u001b[0;32m     72\u001b[0m         \u001b[0mkwargs\u001b[0m\u001b[1;33m.\u001b[0m\u001b[0mupdate\u001b[0m\u001b[1;33m(\u001b[0m\u001b[1;33m{\u001b[0m\u001b[0mk\u001b[0m\u001b[1;33m:\u001b[0m \u001b[0marg\u001b[0m \u001b[1;32mfor\u001b[0m \u001b[0mk\u001b[0m\u001b[1;33m,\u001b[0m \u001b[0marg\u001b[0m \u001b[1;32min\u001b[0m \u001b[0mzip\u001b[0m\u001b[1;33m(\u001b[0m\u001b[0msig\u001b[0m\u001b[1;33m.\u001b[0m\u001b[0mparameters\u001b[0m\u001b[1;33m,\u001b[0m \u001b[0margs\u001b[0m\u001b[1;33m)\u001b[0m\u001b[1;33m}\u001b[0m\u001b[1;33m)\u001b[0m\u001b[1;33m\u001b[0m\u001b[1;33m\u001b[0m\u001b[0m\n\u001b[1;32m---> 73\u001b[1;33m         \u001b[1;32mreturn\u001b[0m \u001b[0mf\u001b[0m\u001b[1;33m(\u001b[0m\u001b[1;33m**\u001b[0m\u001b[0mkwargs\u001b[0m\u001b[1;33m)\u001b[0m\u001b[1;33m\u001b[0m\u001b[1;33m\u001b[0m\u001b[0m\n\u001b[0m\u001b[0;32m     74\u001b[0m     \u001b[1;32mreturn\u001b[0m \u001b[0minner_f\u001b[0m\u001b[1;33m\u001b[0m\u001b[1;33m\u001b[0m\u001b[0m\n\u001b[0;32m     75\u001b[0m \u001b[1;33m\u001b[0m\u001b[0m\n",
      "\u001b[1;32m~\\anaconda3\\lib\\site-packages\\sklearn\\metrics\\_scorer.py\u001b[0m in \u001b[0;36mcheck_scoring\u001b[1;34m(estimator, scoring, allow_none)\u001b[0m\n\u001b[0;32m    428\u001b[0m                 % estimator)\n\u001b[0;32m    429\u001b[0m     \u001b[1;32melif\u001b[0m \u001b[0misinstance\u001b[0m\u001b[1;33m(\u001b[0m\u001b[0mscoring\u001b[0m\u001b[1;33m,\u001b[0m \u001b[0mIterable\u001b[0m\u001b[1;33m)\u001b[0m\u001b[1;33m:\u001b[0m\u001b[1;33m\u001b[0m\u001b[1;33m\u001b[0m\u001b[0m\n\u001b[1;32m--> 430\u001b[1;33m         raise ValueError(\"For evaluating multiple scores, use \"\n\u001b[0m\u001b[0;32m    431\u001b[0m                          \u001b[1;34m\"sklearn.model_selection.cross_validate instead. \"\u001b[0m\u001b[1;33m\u001b[0m\u001b[1;33m\u001b[0m\u001b[0m\n\u001b[0;32m    432\u001b[0m                          \"{0} was passed.\".format(scoring))\n",
      "\u001b[1;31mValueError\u001b[0m: For evaluating multiple scores, use sklearn.model_selection.cross_validate instead. ['average_precision', 'roc_auc'] was passed."
     ]
    }
   ],
   "source": [
    "ttest = cross_val_score(SVC(), digits.data, digits.target == 9, scoring=['average_precision', 'roc_auc'], cv=5)"
   ]
  },
  {
   "cell_type": "markdown",
   "metadata": {},
   "source": [
    "## cross_validate"
   ]
  },
  {
   "cell_type": "code",
   "execution_count": 54,
   "metadata": {
    "ExecuteTime": {
     "end_time": "2021-01-18T13:23:47.248254Z",
     "start_time": "2021-01-18T13:23:46.625411Z"
    }
   },
   "outputs": [
    {
     "data": {
      "text/plain": [
       "{'fit_time': array([0.05248785, 0.04690504, 0.03124237, 0.04682779, 0.04686427]),\n",
       " 'score_time': array([0.02293706, 0.01562071, 0.01562405, 0.01566219, 0.01562786]),\n",
       " 'test_accuracy': array([0.975     , 0.99166667, 1.        , 0.99442897, 0.98050139]),\n",
       " 'train_accuracy': array([0.99443285, 0.99582463, 0.99513213, 0.99582754, 0.99652295]),\n",
       " 'test_roc_auc': array([0.99717078, 0.99854252, 1.        , 0.999828  , 0.98400413]),\n",
       " 'train_roc_auc': array([0.99867878, 0.99914067, 0.99897497, 0.9988247 , 0.99991413]),\n",
       " 'test_recall_macro': array([0.88734568, 0.95833333, 1.        , 0.97222222, 0.90277778]),\n",
       " 'train_recall_macro': array([0.97222222, 0.98225219, 0.97878027, 0.98225249, 0.98572471])}"
      ]
     },
     "execution_count": 54,
     "metadata": {},
     "output_type": "execute_result"
    }
   ],
   "source": [
    "from sklearn.model_selection import cross_validate\n",
    "\n",
    "# cross_validate 함수에 여러 측정 지표 한번에 계산\n",
    "res = cross_validate(SVC(), digits.data, digits.target == 9, scoring=['accuracy','roc_auc','recall_macro'], return_train_score=True, cv=5)\n",
    "res"
   ]
  },
  {
   "cell_type": "code",
   "execution_count": 55,
   "metadata": {
    "ExecuteTime": {
     "end_time": "2021-01-18T13:24:02.144879Z",
     "start_time": "2021-01-18T13:24:02.105986Z"
    }
   },
   "outputs": [
    {
     "data": {
      "text/html": [
       "<div>\n",
       "<style scoped>\n",
       "    .dataframe tbody tr th:only-of-type {\n",
       "        vertical-align: middle;\n",
       "    }\n",
       "\n",
       "    .dataframe tbody tr th {\n",
       "        vertical-align: top;\n",
       "    }\n",
       "\n",
       "    .dataframe thead th {\n",
       "        text-align: right;\n",
       "    }\n",
       "</style>\n",
       "<table border=\"1\" class=\"dataframe\">\n",
       "  <thead>\n",
       "    <tr style=\"text-align: right;\">\n",
       "      <th></th>\n",
       "      <th>fit_time</th>\n",
       "      <th>score_time</th>\n",
       "      <th>test_accuracy</th>\n",
       "      <th>train_accuracy</th>\n",
       "      <th>test_roc_auc</th>\n",
       "      <th>train_roc_auc</th>\n",
       "      <th>test_recall_macro</th>\n",
       "      <th>train_recall_macro</th>\n",
       "    </tr>\n",
       "  </thead>\n",
       "  <tbody>\n",
       "    <tr>\n",
       "      <th>0</th>\n",
       "      <td>0.052488</td>\n",
       "      <td>0.022937</td>\n",
       "      <td>0.975000</td>\n",
       "      <td>0.994433</td>\n",
       "      <td>0.997171</td>\n",
       "      <td>0.998679</td>\n",
       "      <td>0.887346</td>\n",
       "      <td>0.972222</td>\n",
       "    </tr>\n",
       "    <tr>\n",
       "      <th>1</th>\n",
       "      <td>0.046905</td>\n",
       "      <td>0.015621</td>\n",
       "      <td>0.991667</td>\n",
       "      <td>0.995825</td>\n",
       "      <td>0.998543</td>\n",
       "      <td>0.999141</td>\n",
       "      <td>0.958333</td>\n",
       "      <td>0.982252</td>\n",
       "    </tr>\n",
       "    <tr>\n",
       "      <th>2</th>\n",
       "      <td>0.031242</td>\n",
       "      <td>0.015624</td>\n",
       "      <td>1.000000</td>\n",
       "      <td>0.995132</td>\n",
       "      <td>1.000000</td>\n",
       "      <td>0.998975</td>\n",
       "      <td>1.000000</td>\n",
       "      <td>0.978780</td>\n",
       "    </tr>\n",
       "    <tr>\n",
       "      <th>3</th>\n",
       "      <td>0.046828</td>\n",
       "      <td>0.015662</td>\n",
       "      <td>0.994429</td>\n",
       "      <td>0.995828</td>\n",
       "      <td>0.999828</td>\n",
       "      <td>0.998825</td>\n",
       "      <td>0.972222</td>\n",
       "      <td>0.982252</td>\n",
       "    </tr>\n",
       "    <tr>\n",
       "      <th>4</th>\n",
       "      <td>0.046864</td>\n",
       "      <td>0.015628</td>\n",
       "      <td>0.980501</td>\n",
       "      <td>0.996523</td>\n",
       "      <td>0.984004</td>\n",
       "      <td>0.999914</td>\n",
       "      <td>0.902778</td>\n",
       "      <td>0.985725</td>\n",
       "    </tr>\n",
       "  </tbody>\n",
       "</table>\n",
       "</div>"
      ],
      "text/plain": [
       "   fit_time  score_time  test_accuracy  train_accuracy  test_roc_auc  \\\n",
       "0  0.052488    0.022937       0.975000        0.994433      0.997171   \n",
       "1  0.046905    0.015621       0.991667        0.995825      0.998543   \n",
       "2  0.031242    0.015624       1.000000        0.995132      1.000000   \n",
       "3  0.046828    0.015662       0.994429        0.995828      0.999828   \n",
       "4  0.046864    0.015628       0.980501        0.996523      0.984004   \n",
       "\n",
       "   train_roc_auc  test_recall_macro  train_recall_macro  \n",
       "0       0.998679           0.887346            0.972222  \n",
       "1       0.999141           0.958333            0.982252  \n",
       "2       0.998975           1.000000            0.978780  \n",
       "3       0.998825           0.972222            0.982252  \n",
       "4       0.999914           0.902778            0.985725  "
      ]
     },
     "execution_count": 55,
     "metadata": {},
     "output_type": "execute_result"
    }
   ],
   "source": [
    "# df로 보기\n",
    "pd.DataFrame(res)"
   ]
  },
  {
   "cell_type": "markdown",
   "metadata": {},
   "source": [
    "## GridSearchCV\n",
    "- GridSearchCV에서 **최적의 매개변수를 선택하기 위한 평가지표** 변경 가능"
   ]
  },
  {
   "cell_type": "code",
   "execution_count": 60,
   "metadata": {
    "ExecuteTime": {
     "end_time": "2021-01-18T13:34:39.956054Z",
     "start_time": "2021-01-18T13:34:37.196110Z"
    }
   },
   "outputs": [
    {
     "name": "stdout",
     "output_type": "stream",
     "text": [
      "정확도 지표를 사용한 그리드 서치\n",
      "최적의 파라미터: {'gamma': 0.0001}\n",
      "최상의 교차 검증 점수(정확도): 0.972\n",
      "테스트 세트 평균 정밀도: 0.966\n",
      "테스트 세트 정확도: 0.973\n"
     ]
    }
   ],
   "source": [
    "from sklearn.model_selection import GridSearchCV\n",
    "\n",
    "# 기본값인 정확도 사용\n",
    "X_train, X_test, y_train, y_test = train_test_split(digits.data, digits.target == 9, random_state=0)\n",
    "\n",
    "# 일부로 적절하지 않은 grid 생성\n",
    "param_grid = {'gamma':[0.0001, 0.01, 0.1, 1, 10]}\n",
    "\n",
    "# 기본 정확도 측정 지표 사용\n",
    "grid = GridSearchCV(SVC(), param_grid=param_grid, cv=3)\n",
    "grid.fit(X_train, y_train)\n",
    "\n",
    "print('정확도 지표를 사용한 그리드 서치')\n",
    "print('최적의 파라미터:', grid.best_params_)\n",
    "print('최상의 교차 검증 점수(정확도): {:.3f}'.format(grid.best_score_))\n",
    "print('테스트 세트 평균 정밀도: {:.3f}'.format(average_precision_score(y_test, grid.decision_function(X_test))))\n",
    "print('테스트 세트 정확도: {:.3f}'.format(grid.score(X_test, y_test)))"
   ]
  },
  {
   "cell_type": "code",
   "execution_count": 61,
   "metadata": {
    "ExecuteTime": {
     "end_time": "2021-01-18T13:35:08.695940Z",
     "start_time": "2021-01-18T13:35:05.790410Z"
    }
   },
   "outputs": [
    {
     "name": "stdout",
     "output_type": "stream",
     "text": [
      "평균 정밀도 지표를 사용한 그리드 서치\n",
      "최적의 파라미터: {'gamma': 0.01}\n",
      "최상의 교차 검증 점수(평균 정밀도): 0.985\n",
      "테스트 세트 평균 정밀도: 0.996\n",
      "테스트 세트 정확도: 0.996\n"
     ]
    }
   ],
   "source": [
    "# 평균 정밀도 지표 사용\n",
    "grid = GridSearchCV(SVC(), param_grid=param_grid, scoring='average_precision', cv=3)\n",
    "grid.fit(X_train, y_train)\n",
    "\n",
    "print('평균 정밀도 지표를 사용한 그리드 서치')\n",
    "print('최적의 파라미터:', grid.best_params_)\n",
    "print('최상의 교차 검증 점수(평균 정밀도): {:.3f}'.format(grid.best_score_))\n",
    "print('테스트 세트 평균 정밀도: {:.3f}'.format(average_precision_score(y_test, grid.decision_function(X_test))))\n",
    "print('테스트 세트 정확도: {:.3f}'.format(grid.score(X_test, y_test)))"
   ]
  },
  {
   "cell_type": "markdown",
   "metadata": {},
   "source": [
    "- 최적 매개변수를 위한 평가지표로 '정확도'를 사용할 땐 gamma=0.001이 선택되지만, '평균 정밀도'를 사용하면 gamma=0.01이 선택됨"
   ]
  },
  {
   "cell_type": "code",
   "execution_count": 62,
   "metadata": {
    "ExecuteTime": {
     "end_time": "2021-01-18T13:38:50.499628Z",
     "start_time": "2021-01-18T13:38:50.476652Z"
    }
   },
   "outputs": [
    {
     "name": "stdout",
     "output_type": "stream",
     "text": [
      "가능한 평가 방식:\n",
      " ['accuracy', 'adjusted_mutual_info_score', 'adjusted_rand_score', 'average_precision', 'balanced_accuracy', 'completeness_score', 'explained_variance', 'f1', 'f1_macro', 'f1_micro', 'f1_samples', 'f1_weighted', 'fowlkes_mallows_score', 'homogeneity_score', 'jaccard', 'jaccard_macro', 'jaccard_micro', 'jaccard_samples', 'jaccard_weighted', 'max_error', 'mutual_info_score', 'neg_brier_score', 'neg_log_loss', 'neg_mean_absolute_error', 'neg_mean_gamma_deviance', 'neg_mean_poisson_deviance', 'neg_mean_squared_error', 'neg_mean_squared_log_error', 'neg_median_absolute_error', 'neg_root_mean_squared_error', 'normalized_mutual_info_score', 'precision', 'precision_macro', 'precision_micro', 'precision_samples', 'precision_weighted', 'r2', 'recall', 'recall_macro', 'recall_micro', 'recall_samples', 'recall_weighted', 'roc_auc', 'roc_auc_ovo', 'roc_auc_ovo_weighted', 'roc_auc_ovr', 'roc_auc_ovr_weighted', 'v_measure_score']\n"
     ]
    },
    {
     "name": "stderr",
     "output_type": "stream",
     "text": [
      "C:\\Users\\qkrwl\\anaconda3\\lib\\site-packages\\sklearn\\utils\\deprecation.py:143: FutureWarning: The sklearn.metrics.scorer module is  deprecated in version 0.22 and will be removed in version 0.24. The corresponding classes / functions should instead be imported from sklearn.metrics. Anything that cannot be imported from sklearn.metrics is now part of the private API.\n",
      "  warnings.warn(message, FutureWarning)\n"
     ]
    }
   ],
   "source": [
    "from sklearn.metrics.scorer import SCORERS\n",
    "print('가능한 평가 방식:\\n', sorted(SCORERS.keys()))"
   ]
  },
  {
   "cell_type": "markdown",
   "metadata": {},
   "source": [
    "# 5장 요약\n",
    "1. 교차 검증을 해야함\n",
    "    - 머신러닝 모델의 미래 성능을 평가하기 위해\n",
    "    - 모델 학습에는 훈련 데이터로, 모델과 매개변수 선택에는 검증 데이터로, 모델 평가(최종)에는 테스트 데이터로 분리해서 사용\n",
    "        - 간단하게 한번만 분리하는 것이 아닌, 교차 검증으로 분할 반복해야\n",
    "    - 가장 널리 사용되는 구성은 **'훈련 세트와 테스트 세트로 분할하고, 모델과 모델 매개변수 선택을 위해 훈련세트에 교차 검증을 적용하는 방식'**\n",
    "2. 모델 선택과 평가에 사용하는 평가 지표와 방법이 중요\n",
    "    - 지표가 이 모델이 실제로 사용되는 상황을 잘 대변해야함! (높은 정확도의 모델을 만드는 데서 끝나지 않음!)\n",
    "    - 실전에서는 분류 문제에 균형 잡힌 클래스를 가진 경우가 거의 없고(대부분 불균형 데이터), 거짓 양성(FP)과 거짓 음성(FN)이 매우 큰 영향을 미침"
   ]
  },
  {
   "cell_type": "code",
   "execution_count": null,
   "metadata": {},
   "outputs": [],
   "source": []
  }
 ],
 "metadata": {
  "kernelspec": {
   "display_name": "Python 3",
   "language": "python",
   "name": "python3"
  },
  "language_info": {
   "codemirror_mode": {
    "name": "ipython",
    "version": 3
   },
   "file_extension": ".py",
   "mimetype": "text/x-python",
   "name": "python",
   "nbconvert_exporter": "python",
   "pygments_lexer": "ipython3",
   "version": "3.8.3"
  },
  "toc": {
   "base_numbering": 1,
   "nav_menu": {},
   "number_sections": true,
   "sideBar": true,
   "skip_h1_title": false,
   "title_cell": "Table of Contents",
   "title_sidebar": "Contents",
   "toc_cell": false,
   "toc_position": {},
   "toc_section_display": true,
   "toc_window_display": false
  }
 },
 "nbformat": 4,
 "nbformat_minor": 4
}
