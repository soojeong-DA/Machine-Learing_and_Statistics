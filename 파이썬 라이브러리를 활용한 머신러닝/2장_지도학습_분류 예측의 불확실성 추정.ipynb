{
 "cells": [
  {
   "cell_type": "code",
   "execution_count": 21,
   "metadata": {
    "ExecuteTime": {
     "end_time": "2020-12-20T14:42:26.361887Z",
     "start_time": "2020-12-20T14:42:26.351951Z"
    }
   },
   "outputs": [],
   "source": [
    "import pandas as pd\n",
    "import numpy as np\n",
    "import matplotlib\n",
    "import matplotlib.pyplot as plt\n",
    "import seaborn as sns\n",
    "\n",
    "# 그래프 한글 폰트\n",
    "from matplotlib import font_manager, rc\n",
    "font_name = font_manager.FontProperties(fname=\"c:/Windows/Fonts/malgun.ttf\").get_name()\n",
    "rc('font', family=font_name)\n",
    "\n",
    "# 그래프 마이너스 폰트 깨지는 문제 대처\n",
    "import matplotlib as mpl\n",
    "mpl.rcParams['axes.unicode_minus'] = False"
   ]
  },
  {
   "cell_type": "code",
   "execution_count": 20,
   "metadata": {
    "ExecuteTime": {
     "end_time": "2020-12-20T14:42:24.971665Z",
     "start_time": "2020-12-20T14:42:24.966679Z"
    }
   },
   "outputs": [],
   "source": [
    "import sklearn.datasets\n",
    "import mglearn"
   ]
  },
  {
   "cell_type": "markdown",
   "metadata": {},
   "source": [
    "# 분류기의 불확실성 추정 (이진분류)\n",
    "2개 함수 있음 (대부분의 분류 클래스는 적어도 1개 or 2개 모두 제공함)\n",
    "- decision_function\n",
    "- predict_proba"
   ]
  },
  {
   "cell_type": "code",
   "execution_count": 2,
   "metadata": {
    "ExecuteTime": {
     "end_time": "2020-12-20T14:03:31.179280Z",
     "start_time": "2020-12-20T14:03:31.021025Z"
    }
   },
   "outputs": [
    {
     "data": {
      "text/plain": [
       "GradientBoostingClassifier(random_state=0)"
      ]
     },
     "execution_count": 2,
     "metadata": {},
     "output_type": "execute_result"
    }
   ],
   "source": [
    "# 그레이디언이트 부스팅 분류기로 test\n",
    "from sklearn.ensemble import GradientBoostingClassifier\n",
    "from sklearn.datasets import make_circles\n",
    "from sklearn.model_selection import train_test_split\n",
    "\n",
    "X, y = make_circles(noise=0.25, factor=0.5, random_state=1)\n",
    "\n",
    "# 클래스 이름 'blue','red'로 변경 (예시를 위해)\n",
    "y_named = np.array(['blue','red'])[y]\n",
    "\n",
    "# 여러개의 배열을 한꺼번에 train_test_split에 넣을 수 있음\n",
    "X_train, X_test, y_train_named, y_test_named, y_train, y_test = train_test_split(X, y_named, y, random_state=0)\n",
    "\n",
    "# 그레이디언트 부스팅 모델 생성\n",
    "gbrt = GradientBoostingClassifier(random_state=0)\n",
    "gbrt.fit(X_train, y_train_named)"
   ]
  },
  {
   "cell_type": "markdown",
   "metadata": {},
   "source": [
    "## 결정 함수 (decision_function)\n",
    "- 이진 분류에서 decision_function 반환 값의 크기는 (n_samples,)이며, **각 샘플이 하나의 실수 값을 반환함**\n",
    "- 이 값은 모델이 데이터 포인트가 양성 클래스인 클래스 1에 속한다고 믿는 정도를 나타냄\n",
    "    - 양수 값은 양성 클래스를 의미\n",
    "    - 음수 값은 음성 (다른) 클래스 의미\n",
    "- 값의 범위는 데이터와 모델 파라미터에 따라 달라짐"
   ]
  },
  {
   "cell_type": "code",
   "execution_count": 3,
   "metadata": {
    "ExecuteTime": {
     "end_time": "2020-12-20T14:09:44.737188Z",
     "start_time": "2020-12-20T14:09:44.726215Z"
    }
   },
   "outputs": [
    {
     "name": "stdout",
     "output_type": "stream",
     "text": [
      "X_test.shape: (25, 2)\n",
      "결정 함수 결과 형태: (25,)\n"
     ]
    }
   ],
   "source": [
    "print('X_test.shape:', X_test.shape)\n",
    "print('결정 함수 결과 형태:', gbrt.decision_function(X_test).shape)"
   ]
  },
  {
   "cell_type": "code",
   "execution_count": 8,
   "metadata": {
    "ExecuteTime": {
     "end_time": "2020-12-20T14:12:43.813232Z",
     "start_time": "2020-12-20T14:12:43.805253Z"
    }
   },
   "outputs": [
    {
     "name": "stdout",
     "output_type": "stream",
     "text": [
      "결정함수:\n",
      " [ 4.13592603 -1.70169917 -3.95106099 -3.62609552  4.28986642  3.66166081\n",
      " -7.69097179  4.11001686  1.10753937  3.40782222 -6.46255955  4.28986642\n",
      "  3.90156346 -1.20031247  3.66166081 -4.17231157 -1.23010079 -3.91576223\n",
      "  4.03602783  4.11001686  4.11001686  0.65709014  2.69826265 -2.65673274\n",
      " -1.86776596]\n"
     ]
    }
   ],
   "source": [
    "print('결정함수:\\n', gbrt.decision_function(X_test))"
   ]
  },
  {
   "cell_type": "markdown",
   "metadata": {},
   "source": [
    "- 결정 함수의 부호만 보고도 예측 결과 즉, 클래스를 알 수 있음"
   ]
  },
  {
   "cell_type": "code",
   "execution_count": 9,
   "metadata": {
    "ExecuteTime": {
     "end_time": "2020-12-20T14:14:37.471767Z",
     "start_time": "2020-12-20T14:14:37.463788Z"
    }
   },
   "outputs": [
    {
     "name": "stdout",
     "output_type": "stream",
     "text": [
      "임계치와 결정 함수 결과 비교:\n",
      " [ True False False False  True  True False  True  True  True False  True\n",
      "  True False  True False False False  True  True  True  True  True False\n",
      " False]\n",
      "예측:\n",
      " ['red' 'blue' 'blue' 'blue' 'red' 'red' 'blue' 'red' 'red' 'red' 'blue'\n",
      " 'red' 'red' 'blue' 'red' 'blue' 'blue' 'blue' 'red' 'red' 'red' 'red'\n",
      " 'red' 'blue' 'blue']\n"
     ]
    }
   ],
   "source": [
    "print('임계치와 결정 함수 결과 비교:\\n', gbrt.decision_function(X_test) > 0)  # 0보다 크면 True\n",
    "print('예측:\\n', gbrt.predict(X_test))"
   ]
  },
  {
   "cell_type": "markdown",
   "metadata": {},
   "source": [
    "- 양수=True='red', 음수=False='blue'"
   ]
  },
  {
   "cell_type": "code",
   "execution_count": 11,
   "metadata": {
    "ExecuteTime": {
     "end_time": "2020-12-20T14:16:31.854122Z",
     "start_time": "2020-12-20T14:16:31.846106Z"
    }
   },
   "outputs": [
    {
     "data": {
      "text/plain": [
       "array(['blue', 'red'], dtype='<U4')"
      ]
     },
     "execution_count": 11,
     "metadata": {},
     "output_type": "execute_result"
    }
   ],
   "source": [
    "gbrt.classes_"
   ]
  },
  {
   "cell_type": "markdown",
   "metadata": {},
   "source": [
    "- 이진 분류에서 음성 클래스는 항상 classes_ 속성의 첫 번째 원소, 양성 클래스는 classes_의 두 번째 원소"
   ]
  },
  {
   "cell_type": "code",
   "execution_count": 13,
   "metadata": {
    "ExecuteTime": {
     "end_time": "2020-12-20T14:20:24.978669Z",
     "start_time": "2020-12-20T14:20:24.967312Z"
    }
   },
   "outputs": [
    {
     "name": "stdout",
     "output_type": "stream",
     "text": [
      "pred는 예측 결과와 같다:  True\n"
     ]
    }
   ],
   "source": [
    "# 불리언 값(True, False)을 0과 1로 변환\n",
    "greater_zero = (gbrt.decision_function(X_test) > 0).astype(int)\n",
    "\n",
    "# classes_에 index로 사용\n",
    "pred = gbrt.classes_[greater_zero]\n",
    "\n",
    "# pred와 gbrt.predict의 결과 비교\n",
    "print('pred는 예측 결과와 같다: ', np.all(pred==gbrt.predict(X_test)))"
   ]
  },
  {
   "cell_type": "code",
   "execution_count": 14,
   "metadata": {
    "ExecuteTime": {
     "end_time": "2020-12-20T14:23:14.359962Z",
     "start_time": "2020-12-20T14:23:14.351983Z"
    }
   },
   "outputs": [
    {
     "name": "stdout",
     "output_type": "stream",
     "text": [
      "결정 함수 최솟값: -7.69, 최댓값: 4.29\n"
     ]
    }
   ],
   "source": [
    "# decision_function 값의 범위는 데이터와 모델 파라미터에 따라 달라짐\n",
    "decision_function = gbrt.decision_function(X_test)\n",
    "print('결정 함수 최솟값: {:.2f}, 최댓값: {:.2f}'.format(np.min(decision_function), np.max(decision_function)))"
   ]
  },
  {
   "cell_type": "markdown",
   "metadata": {},
   "source": [
    "- 출력 범위가 임의의 값이라 이해 어렵"
   ]
  },
  {
   "cell_type": "code",
   "execution_count": 31,
   "metadata": {
    "ExecuteTime": {
     "end_time": "2020-12-20T15:04:30.223370Z",
     "start_time": "2020-12-20T15:04:28.748184Z"
    }
   },
   "outputs": [
    {
     "data": {
      "text/plain": [
       "<matplotlib.legend.Legend at 0x1f916066520>"
      ]
     },
     "execution_count": 31,
     "metadata": {},
     "output_type": "execute_result"
    },
    {
     "data": {
      "image/png": "[encoded data removed]",
      "text/plain": [
       "<Figure size 936x360 with 3 Axes>"
      ]
     },
     "metadata": {
      "needs_background": "light"
     },
     "output_type": "display_data"
    }
   ],
   "source": [
    "# 2차원 평명의 모든 점에 대해 decision_function의 값을 색상 정도로 표현 + 결정 경계    함께 시각화\n",
    "fig, axes = plt.subplots(1, 2, figsize=(13,5))\n",
    "\n",
    "mglearn.tools.plot_2d_separator(gbrt, X, ax=axes[0], alpha=.4, fill=True, cm=mglearn.cm2)\n",
    "scores_image = mglearn.tools.plot_2d_scores(gbrt, X, ax=axes[1], alpha=.4, cm=mglearn.ReBl)\n",
    "\n",
    "for ax in axes:\n",
    "    mglearn.discrete_scatter(X_train[:, 0], X_train[:, 1], y_train, markers='o', ax=ax)\n",
    "    mglearn.discrete_scatter(X_test[:, 0], X_test[:, 1], y_test, markers='^', ax=ax)\n",
    "    ax.set_xlabel('특성 0')\n",
    "    ax.set_ylabel('특성 1')\n",
    "cbar = plt.colorbar(scores_image, ax=axes.tolist())\n",
    "cbar.set_alpha(1)\n",
    "cbar.draw_all()\n",
    "axes[0].legend(['훈련 클래스 0','훈련 클래스 1','테스트 클래스 0','테스트 클래스 1'], ncol=4, loc=(.1, 1.1))"
   ]
  },
  {
   "cell_type": "markdown",
   "metadata": {},
   "source": [
    "- 결정 경계 (좌), 결정 함수(우)\n",
    "- 예측 결과뿐만 아니라, 분류기가 얼마나 확신을 하는지 알 수 있다\n",
    "- 하지만, 결정 함수 그래프에서 두 클래스 사이의 경계를 구분하기는 어려움"
   ]
  },
  {
   "cell_type": "markdown",
   "metadata": {},
   "source": [
    "## 예측 확률(predict_ proba)\n",
    "- predict_proba의 출력은 각 클래스에 대한 확률이고, decision_function 출력보다 이해하기 쉬움\n",
    "- 값의 크기는 이진 분류에서는 항상 (n_samples, 2)\n",
    "    - 각 행의 첫 번째 원소는 첫 번째 클래스의 예측확률, 두 번째 원소는 두 번째 클래스의 예측확률\n",
    "- 확률이기 때문에 출력은 항상 0 ~ 1 사이값을 가지며, 두 클래스 확률의 합은 항상 1"
   ]
  },
  {
   "cell_type": "code",
   "execution_count": 27,
   "metadata": {
    "ExecuteTime": {
     "end_time": "2020-12-20T14:55:33.435138Z",
     "start_time": "2020-12-20T14:55:33.419513Z"
    }
   },
   "outputs": [
    {
     "name": "stdout",
     "output_type": "stream",
     "text": [
      "확률 값의 형태:  (25, 2)\n"
     ]
    }
   ],
   "source": [
    "print('확률 값의 형태: ', gbrt.predict_proba(X_test).shape)"
   ]
  },
  {
   "cell_type": "code",
   "execution_count": 30,
   "metadata": {
    "ExecuteTime": {
     "end_time": "2020-12-20T14:59:19.390798Z",
     "start_time": "2020-12-20T14:59:19.375237Z"
    }
   },
   "outputs": [
    {
     "name": "stdout",
     "output_type": "stream",
     "text": [
      "예측 확률:\n",
      " [[0.01573626 0.98426374]\n",
      " [0.84575653 0.15424347]\n",
      " [0.98112869 0.01887131]\n",
      " [0.97407033 0.02592967]\n",
      " [0.01352142 0.98647858]\n",
      " [0.02504637 0.97495363]]\n"
     ]
    }
   ],
   "source": [
    "print('예측 확률:\\n', gbrt.predict_proba(X_test[:6]))  # 일부 6개만 확인"
   ]
  },
  {
   "cell_type": "markdown",
   "metadata": {},
   "source": [
    "- 두 클래스 확률 합은 1이므로 두 클래스 중 하나는 50% 이상의 확률을 가질 것 -> 해당 클래스가 예측값이 됨"
   ]
  },
  {
   "cell_type": "code",
   "execution_count": 32,
   "metadata": {
    "ExecuteTime": {
     "end_time": "2020-12-20T15:04:52.315992Z",
     "start_time": "2020-12-20T15:04:50.872788Z"
    }
   },
   "outputs": [
    {
     "data": {
      "text/plain": [
       "<matplotlib.legend.Legend at 0x1f91635e6a0>"
      ]
     },
     "execution_count": 32,
     "metadata": {},
     "output_type": "execute_result"
    },
    {
     "data": {
      "image/png": "[encoded data removed]",
      "text/plain": [
       "<Figure size 936x360 with 3 Axes>"
      ]
     },
     "metadata": {
      "needs_background": "light"
     },
     "output_type": "display_data"
    }
   ],
   "source": [
    "# 결정 경계와 클래스 1의 확률 시각화\n",
    "fig, axes = plt.subplots(1, 2, figsize=(13,5))\n",
    "\n",
    "mglearn.tools.plot_2d_separator(gbrt, X, ax=axes[0], alpha=.4, fill=True, cm=mglearn.cm2)\n",
    "scores_image = mglearn.tools.plot_2d_scores(gbrt, X, ax=axes[1], alpha=.4, cm=mglearn.ReBl, function='predict_proba')\n",
    "\n",
    "for ax in axes:\n",
    "    # train point, test point 그리기\n",
    "    mglearn.discrete_scatter(X_train[:, 0], X_train[:, 1], y_train, markers='o', ax=ax)\n",
    "    mglearn.discrete_scatter(X_test[:, 0], X_test[:, 1], y_test, markers='^', ax=ax)\n",
    "    ax.set_xlabel('특성 0')\n",
    "    ax.set_ylabel('특성 1')\n",
    "# colorbar 나타내기\n",
    "cbar = plt.colorbar(scores_image, ax=axes.tolist())\n",
    "cbar.set_alpha(1)\n",
    "cbar.draw_all()\n",
    "axes[0].legend(['훈련 클래스 0','훈련 클래스 1','테스트 클래스 0','테스트 클래스 1'], ncol=4, loc=(.1, 1.1))"
   ]
  },
  {
   "cell_type": "markdown",
   "metadata": {},
   "source": [
    "- 예측 확률이 결정 함수때 보다 비교적 잘 나타나있으며, 불확실성이 있는 작은 영역들도 잘 확인할 수 있음"
   ]
  },
  {
   "cell_type": "markdown",
   "metadata": {},
   "source": [
    "# 다중 분류에서 불확실성\n",
    "- decision_function, predict_proba 메서드는 다중 분류에도 사용 가능"
   ]
  },
  {
   "cell_type": "markdown",
   "metadata": {},
   "source": [
    "## 결정 함수(decision_function)\n",
    "- 다중 분류에서 decision_function의 결과값 크기는 (n_samples, n_classes)\n",
    "- 각 열은 각 클래스에 대한 확신 점수를 담고 있음\n",
    "    - 수치가 크면 그 클래스일 가능성이 큼\n",
    "    - 각 데이터 포인트 마다 점수들 중 가장 큰 값에 해당하는 클래스를 예측 값으로 사용"
   ]
  },
  {
   "cell_type": "code",
   "execution_count": 34,
   "metadata": {
    "ExecuteTime": {
     "end_time": "2020-12-20T15:11:25.737518Z",
     "start_time": "2020-12-20T15:11:25.441852Z"
    },
    "scrolled": true
   },
   "outputs": [
    {
     "name": "stdout",
     "output_type": "stream",
     "text": [
      "결정 함수의 결과 형태: (38, 3)\n",
      "결정 함수 결과:\n",
      " [[-1.995715    0.04758267 -1.92720695]\n",
      " [ 0.06146394 -1.90755736 -1.92793758]\n",
      " [-1.99058203 -1.87637861  0.09686725]\n",
      " [-1.995715    0.04758267 -1.92720695]\n",
      " [-1.99730159 -0.13469108 -1.20341483]\n",
      " [ 0.06146394 -1.90755736 -1.92793758]\n",
      " [-1.995715    0.04758267 -1.92720695]\n",
      " [-1.99677434 -1.87637861  0.09686725]\n",
      " [-1.995715    0.04758267 -1.92720695]\n",
      " [-1.995715    0.04758267 -1.92720695]\n",
      " [-1.99677434 -1.87637861  0.07863156]\n",
      " [ 0.06146394 -1.90755736 -1.92793758]\n",
      " [ 0.06146394 -1.90755736 -1.92793758]\n",
      " [ 0.06146394 -1.90755736 -1.92793758]\n",
      " [ 0.06146394 -1.90755736 -1.92793758]\n",
      " [-1.995715    0.04758267 -1.92720695]\n",
      " [-1.99087515 -1.87637861  0.09686725]\n",
      " [-1.995715    0.04758267 -1.92720695]\n",
      " [-1.995715    0.04758267 -1.92720695]\n",
      " [-1.99087515 -1.87637861  0.09686725]\n",
      " [ 0.06146394 -1.90755736 -1.92793758]\n",
      " [-1.99730159 -1.86429671  0.04166049]\n",
      " [ 0.06146394 -1.90755736 -1.92793758]\n",
      " [-1.99087515 -1.87637861  0.09686725]\n",
      " [-1.99087515 -1.87637861  0.07863156]\n",
      " [-1.99087515 -1.87637861  0.09686725]\n",
      " [-1.99058203 -1.87637861  0.09686725]\n",
      " [-1.99087515 -1.87637861  0.07863156]\n",
      " [ 0.06146394 -1.90755736 -1.92793758]\n",
      " [ 0.06146394 -1.90755736 -1.92793758]\n",
      " [ 0.06146394 -1.90755736 -1.92793758]\n",
      " [ 0.06146394 -1.90755736 -1.92793758]\n",
      " [-1.995715    0.04758267 -1.92720695]\n",
      " [ 0.06146394 -1.90755736 -1.92793758]\n",
      " [ 0.06146394 -1.90755736 -1.92793758]\n",
      " [-1.99712219 -1.87637861  0.04166049]\n",
      " [-1.995715    0.04758267 -1.92720695]\n",
      " [ 0.06146394 -1.90755736 -1.92793758]]\n"
     ]
    }
   ],
   "source": [
    "from sklearn.datasets import load_iris\n",
    "\n",
    "iris = load_iris()\n",
    "X_train, X_test, y_train, y_test = train_test_split(iris.data, iris.target, random_state=42)\n",
    "\n",
    "gbrt = GradientBoostingClassifier(learning_rate=0.01, random_state=0)\n",
    "gbrt.fit(X_train, y_train)\n",
    "\n",
    "print('결정 함수의 결과 형태:', gbrt.decision_function(X_test).shape)\n",
    "print('결정 함수 결과:\\n', gbrt.decision_function(X_test))"
   ]
  },
  {
   "cell_type": "code",
   "execution_count": 35,
   "metadata": {
    "ExecuteTime": {
     "end_time": "2020-12-20T15:15:05.492121Z",
     "start_time": "2020-12-20T15:15:05.480154Z"
    }
   },
   "outputs": [
    {
     "name": "stdout",
     "output_type": "stream",
     "text": [
      "가장 큰 결정 함수의 인덱스:\n",
      " [1 0 2 1 1 0 1 2 1 1 2 0 0 0 0 1 2 1 1 2 0 2 0 2 2 2 2 2 0 0 0 0 1 0 0 2 1\n",
      " 0]\n",
      "예측:\n",
      " [1 0 2 1 1 0 1 2 1 1 2 0 0 0 0 1 2 1 1 2 0 2 0 2 2 2 2 2 0 0 0 0 1 0 0 2 1\n",
      " 0]\n"
     ]
    }
   ],
   "source": [
    "# 각 데이터 포인트별 가장 큰 값을 가진 class\n",
    "print('가장 큰 결정 함수의 인덱스:\\n', np.argmax(gbrt.decision_function(X_test), axis=1))   # argmax 함수를 적용해 예측 재현\n",
    "print('예측:\\n', gbrt.predict(X_test))"
   ]
  },
  {
   "cell_type": "markdown",
   "metadata": {},
   "source": [
    "## 예측 확률(predict_proba)\n",
    "- predict_proba의 출력값 크기는 (n_samples, n_classes)로 앞서 본 것과 같음\n",
    "- 각 데이터 포인트에서 클래스 확률들의 합은 1"
   ]
  },
  {
   "cell_type": "code",
   "execution_count": 37,
   "metadata": {
    "ExecuteTime": {
     "end_time": "2020-12-20T15:18:25.130387Z",
     "start_time": "2020-12-20T15:18:25.121412Z"
    }
   },
   "outputs": [
    {
     "name": "stdout",
     "output_type": "stream",
     "text": [
      "예측 확률:\n",
      " [[0.10217718 0.78840034 0.10942248]\n",
      " [0.78347147 0.10936745 0.10716108]\n",
      " [0.09818072 0.11005864 0.79176065]\n",
      " [0.10217718 0.78840034 0.10942248]\n",
      " [0.10360005 0.66723901 0.22916094]\n",
      " [0.78347147 0.10936745 0.10716108]]\n"
     ]
    }
   ],
   "source": [
    "print('예측 확률:\\n', gbrt.predict_proba(X_test)[:6]) # 일부만 확인"
   ]
  },
  {
   "cell_type": "code",
   "execution_count": 38,
   "metadata": {
    "ExecuteTime": {
     "end_time": "2020-12-20T15:18:51.658193Z",
     "start_time": "2020-12-20T15:18:51.650216Z"
    }
   },
   "outputs": [
    {
     "name": "stdout",
     "output_type": "stream",
     "text": [
      "합: [1. 1. 1. 1. 1. 1.]\n"
     ]
    }
   ],
   "source": [
    "# 행 방향으로 확률을 더하면 1이됨\n",
    "print('합:', gbrt.predict_proba(X_test)[:6].sum(axis=1)) # 일부만 "
   ]
  },
  {
   "cell_type": "code",
   "execution_count": 39,
   "metadata": {
    "ExecuteTime": {
     "end_time": "2020-12-20T15:20:45.683257Z",
     "start_time": "2020-12-20T15:20:45.674283Z"
    }
   },
   "outputs": [
    {
     "name": "stdout",
     "output_type": "stream",
     "text": [
      "가장 큰 예측 확률의 index:\n",
      " [1 0 2 1 1 0 1 2 1 1 2 0 0 0 0 1 2 1 1 2 0 2 0 2 2 2 2 2 0 0 0 0 1 0 0 2 1\n",
      " 0]\n",
      "예측:\n",
      " [1 0 2 1 1 0 1 2 1 1 2 0 0 0 0 1 2 1 1 2 0 2 0 2 2 2 2 2 0 0 0 0 1 0 0 2 1\n",
      " 0]\n"
     ]
    }
   ],
   "source": [
    "# predict_proba결과에 argmax함수를 적용해, 예측 재현 가능  # 각 행에서 가장 큰 값 도출함\n",
    "print('가장 큰 예측 확률의 index:\\n', np.argmax(gbrt.predict_proba(X_test), axis=1))\n",
    "print('예측:\\n', gbrt.predict(X_test))"
   ]
  },
  {
   "cell_type": "code",
   "execution_count": 44,
   "metadata": {
    "ExecuteTime": {
     "end_time": "2020-12-20T15:31:37.873664Z",
     "start_time": "2020-12-20T15:31:37.794877Z"
    }
   },
   "outputs": [
    {
     "name": "stdout",
     "output_type": "stream",
     "text": [
      "훈련 데이터에 있는 클래스 종류: ['setosa' 'versicolor' 'virginica']\n",
      "예측: ['versicolor' 'setosa' 'virginica' 'versicolor' 'versicolor' 'setosa'\n",
      " 'versicolor' 'virginica' 'versicolor' 'versicolor']\n",
      "가장 큰 결정 함수의 인덱스: [1 0 2 1 1 0 1 2 1 1]\n",
      "인덱스를 classes_에 연결 ['versicolor' 'setosa' 'virginica' 'versicolor' 'versicolor' 'setosa'\n",
      " 'versicolor' 'virginica' 'versicolor' 'versicolor']\n"
     ]
    }
   ],
   "source": [
    "# argmax함수 사용시, 분류기의 classes_ 속성을 사용해 클래스의 실제 이름값을 얻어 사용해서 비교해야 혼선 방지!\n",
    "from sklearn.linear_model import LogisticRegression\n",
    "\n",
    "logreg = LogisticRegression()\n",
    "\n",
    "# iris data set의 taget class 이름으로 나타내기\n",
    "named_target = iris.target_names[y_train]\n",
    "logreg.fit(X_train, named_target)\n",
    "\n",
    "print('훈련 데이터에 있는 클래스 종류:', logreg.classes_)\n",
    "print('예측:', logreg.predict(X_test)[:10])\n",
    "\n",
    "argmax_dec_func = np.argmax(logreg.decision_function(X_test), axis=1)\n",
    "print('가장 큰 결정 함수의 인덱스:', argmax_dex_func[:10])\n",
    "print('인덱스를 classes_에 연결', logreg.classes_[argmax_dec_func][:10])"
   ]
  },
  {
   "cell_type": "code",
   "execution_count": null,
   "metadata": {},
   "outputs": [],
   "source": []
  }
 ],
 "metadata": {
  "kernelspec": {
   "display_name": "Python 3",
   "language": "python",
   "name": "python3"
  },
  "language_info": {
   "codemirror_mode": {
    "name": "ipython",
    "version": 3
   },
   "file_extension": ".py",
   "mimetype": "text/x-python",
   "name": "python",
   "nbconvert_exporter": "python",
   "pygments_lexer": "ipython3",
   "version": "3.8.3"
  },
  "toc": {
   "base_numbering": 1,
   "nav_menu": {},
   "number_sections": true,
   "sideBar": true,
   "skip_h1_title": false,
   "title_cell": "Table of Contents",
   "title_sidebar": "Contents",
   "toc_cell": false,
   "toc_position": {
    "height": "calc(100% - 180px)",
    "left": "10px",
    "top": "150px",
    "width": "265.167px"
   },
   "toc_section_display": true,
   "toc_window_display": false
  }
 },
 "nbformat": 4,
 "nbformat_minor": 4
}
